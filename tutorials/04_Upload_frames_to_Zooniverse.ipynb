{
 "cells": [
  {
   "cell_type": "markdown",
   "id": "2793278f",
   "metadata": {
    "id": "2793278f"
   },
   "source": [
    "<a href=\"https://colab.research.google.com/github/ocean-data-factory-sweden/kso-data-management/blob/main/tutorials/04_Upload_frames_to_Zooniverse.ipynb\" target=\"_parent\"><img src=\"https://colab.research.google.com/assets/colab-badge.svg\" alt=\"Open In Colab\"/></a>"
   ]
  },
  {
   "cell_type": "markdown",
   "id": "b169b8d0",
   "metadata": {
    "id": "b169b8d0"
   },
   "source": [
    "<img align=\"left\" src=\"https://panoptes-uploads.zooniverse.org/project_avatar/86c23ca7-bbaa-4e84-8d8a-876819551431.png\" type=\"image/png\" height=100 width=100>\n",
    "</img>\n",
    "<h1 align=\"right\">Colab KSO Tutorials #4: Upload frames to Zooniverse</h1>\n",
    "<h3 align=\"right\">Written by KSO Team</h3>"
   ]
  },
  {
   "cell_type": "markdown",
   "id": "TDr0IZT3RBxv",
   "metadata": {
    "id": "TDr0IZT3RBxv"
   },
   "source": [
    "This notebook takes you through the process of: \n",
    "* Connecting to a Zooniverse project\n",
    "* Retrieving the classifications/annotations that citizens have provided on the videos, using aggregation settings. To experiment with these aggregation settings, see Notebook 8. \n",
    "* Cutting the videos into images from the moment the species of interest was seen for the first time\n",
    "* Modify these images with for example a color correction\n",
    "* Upload the images to Zooniverse for the 2nd part of the workflow.\n",
    "\n",
    "If you do not have a project with us yet, you can run the template project to get a taste of how it all works. Only the uploading of the images to Zooniverse will not be possible if you are not a member of our template project on Zooniverse.\n",
    "\n",
    "🔴 <span style=\"color:red\">&nbsp;NOTE: If you want to run another project than the template project, you need to have a Zooniverse account and be a member of the corresponding project.  </span>"
   ]
  },
  {
   "cell_type": "markdown",
   "id": "3ee20d67",
   "metadata": {
    "id": "3ee20d67"
   },
   "source": [
    "# Set up and requirements"
   ]
  },
  {
   "cell_type": "markdown",
   "id": "bNHyxTD3xiA8",
   "metadata": {
    "id": "bNHyxTD3xiA8"
   },
   "source": [
    "## Install kso_data_management and its requirements"
   ]
  },
  {
   "cell_type": "code",
   "execution_count": null,
   "id": "ozBbsZdPxm05",
   "metadata": {
    "id": "ozBbsZdPxm05"
   },
   "outputs": [],
   "source": [
    "from IPython.display import clear_output\n",
    "\n",
    "try:\n",
    "    import google.colab\n",
    "    import os\n",
    "\n",
    "    IN_COLAB = True\n",
    "    print(\"Running in Colab...\")\n",
    "\n",
    "    # Clone kso-data-management repo\n",
    "    !git clone --quiet --recurse-submodules -b main https://github.com/ocean-data-factory-sweden/kso-data-management.git\n",
    "    !pip install -q --upgrade pip\n",
    "    !pip install -q -r kso-data-management/requirements.txt\n",
    "\n",
    "    # Fix libmagic issue\n",
    "    !apt-get -qq update && apt-get -qq install -y libmagic-dev > /dev/null\n",
    "\n",
    "    # Enable external widgets\n",
    "    from google.colab import output\n",
    "\n",
    "    output.enable_custom_widget_manager()\n",
    "\n",
    "    os.chdir(\"kso-data-management/tutorials\")\n",
    "    try:\n",
    "        clear_output()\n",
    "        print(\"All packages are installed and ready to go!\")\n",
    "    except:\n",
    "        clear_output()\n",
    "        print(\"There have been some issues installing the packages!\")\n",
    "except:\n",
    "    IN_COLAB = False\n",
    "    import sys\n",
    "\n",
    "    # Install requirements\n",
    "    !pip install -q --no-warn-script-location --upgrade pip\n",
    "    !pip install -qr ../requirements.txt\n",
    "\n",
    "    !jupyter nbextension install --user --py widgetsnbextension\n",
    "    !jupyter nbextension enable --user --py widgetsnbextension\n",
    "    !jupyter nbextension install --user --py jupyter_bbox_widget\n",
    "    !jupyter nbextension enable --user --py jupyter_bbox_widget\n",
    "    !jupyter nbextension enable --user --py ipysheet\n",
    "\n",
    "    clear_output()\n",
    "    print(\"Running locally... you're good to go!\")"
   ]
  },
  {
   "cell_type": "markdown",
   "id": "896f0873",
   "metadata": {
    "id": "896f0873"
   },
   "source": [
    "### Import Python packages"
   ]
  },
  {
   "cell_type": "code",
   "execution_count": null,
   "id": "5451cddf",
   "metadata": {
    "id": "5451cddf"
   },
   "outputs": [],
   "source": [
    "# Set the directory of the libraries\n",
    "import sys, os\n",
    "from pathlib import Path\n",
    "\n",
    "# Enables testing changes in utils\n",
    "%load_ext autoreload\n",
    "%autoreload 2\n",
    "\n",
    "# Specify the path of the tutorials\n",
    "sys.path.insert(0, \"..\")\n",
    "\n",
    "# Import required modules\n",
    "import kso_utils.tutorials_utils as t_utils\n",
    "import kso_utils.t4_utils as t4\n",
    "import kso_utils.t3_utils as t3\n",
    "import kso_utils.project_utils as p_utils\n",
    "\n",
    "print(\"Packages loaded successfully\")"
   ]
  },
  {
   "cell_type": "markdown",
   "id": "ed55216d",
   "metadata": {
    "id": "ed55216d"
   },
   "source": [
    "### Choose your project"
   ]
  },
  {
   "cell_type": "code",
   "execution_count": null,
   "id": "a7828470",
   "metadata": {
    "id": "a7828470"
   },
   "outputs": [],
   "source": [
    "project_name = t_utils.choose_project()"
   ]
  },
  {
   "cell_type": "code",
   "execution_count": null,
   "id": "eec7d8bc",
   "metadata": {
    "id": "eec7d8bc"
   },
   "outputs": [],
   "source": [
    "project = p_utils.find_project(project_name=project_name.value)"
   ]
  },
  {
   "cell_type": "markdown",
   "id": "xc3B3bzraCRW",
   "metadata": {
    "id": "xc3B3bzraCRW"
   },
   "source": [
    "### Initiate sql and zoo project"
   ]
  },
  {
   "cell_type": "code",
   "execution_count": null,
   "id": "KgzV0KBGaC3d",
   "metadata": {
    "id": "KgzV0KBGaC3d"
   },
   "outputs": [],
   "source": [
    "# Initiate db\n",
    "db_info_dict = t_utils.initiate_db(project)"
   ]
  },
  {
   "cell_type": "markdown",
   "id": "t7JMfXcmQdJ7",
   "metadata": {
    "id": "t7JMfXcmQdJ7"
   },
   "source": [
    "🔴 <span style=\"color:red\">&nbsp;NOTE: If you want to run the template project and are not a member of the template project on Zooniverse, do not run the cell below. Instead, run the one below that.  </span>"
   ]
  },
  {
   "cell_type": "code",
   "execution_count": null,
   "id": "SLbtD-WxaLwU",
   "metadata": {
    "id": "SLbtD-WxaLwU"
   },
   "outputs": [],
   "source": [
    "# Connect to Zooniverse project\n",
    "zoo_project = t_utils.connect_zoo_project(project)"
   ]
  },
  {
   "cell_type": "code",
   "execution_count": null,
   "id": "OZJylm4qQZb2",
   "metadata": {
    "id": "OZJylm4qQZb2"
   },
   "outputs": [],
   "source": [
    "# Run this cell if you are not a member of the template project on Zooniverse\n",
    "zoo_project = \"None\""
   ]
  },
  {
   "cell_type": "markdown",
   "id": "EtgPfWF_ay_T",
   "metadata": {
    "id": "EtgPfWF_ay_T"
   },
   "source": [
    "## Retrieve info about zooniverse clips"
   ]
  },
  {
   "cell_type": "code",
   "execution_count": null,
   "id": "-a75tTTIazxN",
   "metadata": {
    "id": "-a75tTTIazxN"
   },
   "outputs": [],
   "source": [
    "zoo_info_dict = t_utils.retrieve__populate_zoo_info(\n",
    "    project=project,\n",
    "    db_info_dict=db_info_dict,\n",
    "    zoo_project=zoo_project,\n",
    "    zoo_info=[\"subjects\", \"classifications\", \"workflows\"],\n",
    ")"
   ]
  },
  {
   "cell_type": "markdown",
   "id": "a749e31a",
   "metadata": {
    "id": "a749e31a"
   },
   "source": [
    "# Select the species of interest"
   ]
  },
  {
   "cell_type": "code",
   "execution_count": null,
   "id": "56e27ea6",
   "metadata": {
    "id": "56e27ea6"
   },
   "outputs": [],
   "source": [
    "species_i = t4.choose_species(db_info_dict)"
   ]
  },
  {
   "cell_type": "markdown",
   "id": "04e58c56",
   "metadata": {
    "id": "04e58c56"
   },
   "source": [
    "### Get the frames"
   ]
  },
  {
   "cell_type": "code",
   "execution_count": null,
   "id": "found-headline",
   "metadata": {
    "id": "found-headline",
    "scrolled": false
   },
   "outputs": [],
   "source": [
    "frames_to_upload_df = t4.get_frames(\n",
    "    species_names=species_i.value,\n",
    "    db_path=db_info_dict[\"db_path\"],\n",
    "    zoo_info_dict=zoo_info_dict,\n",
    "    server_dict=db_info_dict,\n",
    "    project=project,\n",
    "    n_frames_subject=3,\n",
    "    subsample_up_to=3,\n",
    ")"
   ]
  },
  {
   "cell_type": "markdown",
   "id": "df57b117",
   "metadata": {
    "id": "df57b117"
   },
   "source": [
    "## List available frames to upload to Zooniverse"
   ]
  },
  {
   "cell_type": "markdown",
   "id": "7b5c47b9",
   "metadata": {
    "id": "7b5c47b9"
   },
   "source": [
    "### Frame modifications"
   ]
  },
  {
   "cell_type": "code",
   "execution_count": null,
   "id": "a55b60c2",
   "metadata": {
    "id": "a55b60c2"
   },
   "outputs": [],
   "source": [
    "# Choose type of modifications\n",
    "frame_modification = t3.clip_modification_widget()\n",
    "frame_modification"
   ]
  },
  {
   "cell_type": "code",
   "execution_count": null,
   "id": "6361c9b7",
   "metadata": {
    "id": "6361c9b7"
   },
   "outputs": [],
   "source": [
    "# Modify the clips\n",
    "frames_ready_df = t4.modify_frames(\n",
    "    frames_to_upload_df=frames_to_upload_df.df.reset_index(drop=True),\n",
    "    species_i=species_i.value,\n",
    "    modification_details=frame_modification.checks,\n",
    "    project=project,\n",
    ")"
   ]
  },
  {
   "cell_type": "code",
   "execution_count": null,
   "id": "76f78189",
   "metadata": {
    "id": "76f78189"
   },
   "outputs": [],
   "source": [
    "# Review the size of the modified clips\n",
    "t4.check_frame_size(frame_paths=frames_ready_df[\"modif_frame_path\"].unique())"
   ]
  },
  {
   "cell_type": "markdown",
   "id": "8e73da0c",
   "metadata": {
    "id": "8e73da0c"
   },
   "source": [
    "### Preview the frames"
   ]
  },
  {
   "cell_type": "code",
   "execution_count": null,
   "id": "cce086d7",
   "metadata": {
    "id": "cce086d7"
   },
   "outputs": [],
   "source": [
    "# Compare the original and modified clips\n",
    "t4.compare_frames(df=frames_ready_df)"
   ]
  },
  {
   "cell_type": "markdown",
   "id": "moral-milwaukee",
   "metadata": {
    "id": "moral-milwaukee"
   },
   "source": [
    "### Set Zooniverse metadata"
   ]
  },
  {
   "cell_type": "code",
   "execution_count": null,
   "id": "54338a73",
   "metadata": {
    "id": "54338a73"
   },
   "outputs": [],
   "source": [
    "# Create the metadata for the images\n",
    "upload_to_zoo = t4.set_zoo_metadata(\n",
    "    df=frames_ready_df,\n",
    "    species_list=species_i.value,\n",
    "    project=project,\n",
    "    db_info_dict=db_info_dict,\n",
    ")"
   ]
  },
  {
   "cell_type": "markdown",
   "id": "powerful-scout",
   "metadata": {
    "id": "powerful-scout"
   },
   "source": [
    "### Upload frames to Zooniverse"
   ]
  },
  {
   "cell_type": "markdown",
   "id": "plain-senior",
   "metadata": {
    "id": "plain-senior"
   },
   "source": [
    "You may receive an error message related to file size if clips exceed the recommended limit for Zooniverse uploads. In this case, we recommend shortening the clip length to achieve a suitable filesize.\n",
    "\n",
    "🔴 <span style=\"color:red\">&nbsp;NOTE: If you run the template project without being a member of our template project, it is not possible to run this last cell.  </span>"
   ]
  },
  {
   "cell_type": "code",
   "execution_count": null,
   "id": "guilty-insider",
   "metadata": {
    "id": "guilty-insider"
   },
   "outputs": [],
   "source": [
    "t4.upload_frames_to_zooniverse(\n",
    "    upload_to_zoo=upload_to_zoo,\n",
    "    species_list=species_i.value,\n",
    "    db_info_dict=db_info_dict,\n",
    "    project=project,\n",
    ")"
   ]
  },
  {
   "cell_type": "code",
   "execution_count": null,
   "id": "permanent-terminology",
   "metadata": {
    "id": "permanent-terminology"
   },
   "outputs": [],
   "source": [
    "# END"
   ]
  }
 ],
 "metadata": {
  "colab": {
   "provenance": []
  },
  "kernelspec": {
   "display_name": "Python 3 (ipykernel)",
   "language": "python",
   "name": "python3"
  },
  "language_info": {
   "codemirror_mode": {
    "name": "ipython",
    "version": 3
   },
   "file_extension": ".py",
   "mimetype": "text/x-python",
   "name": "python",
   "nbconvert_exporter": "python",
   "pygments_lexer": "ipython3",
   "version": "3.9.13"
  },
  "vscode": {
   "interpreter": {
    "hash": "9f0064b85a3bc365415745ead9abb78ac240c43fe3a2a9861333bea64f4ce941"
   }
  }
 },
 "nbformat": 4,
 "nbformat_minor": 5
}
