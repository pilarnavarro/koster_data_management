{
 "cells": [
  {
   "cell_type": "markdown",
   "id": "2793278f",
   "metadata": {},
   "source": [
    "<a href=\"https://colab.research.google.com/github/ocean-data-factory-sweden/kso-data-management/blob/main/tutorials/04_Upload_frames_to_Zooniverse.ipynb\" target=\"_parent\"><img src=\"https://colab.research.google.com/assets/colab-badge.svg\" alt=\"Open In Colab\"/></a>"
   ]
  },
  {
   "cell_type": "markdown",
   "id": "b169b8d0",
   "metadata": {
    "id": "b169b8d0"
   },
   "source": [
    "<img align=\"left\" src=\"https://panoptes-uploads.zooniverse.org/project_avatar/86c23ca7-bbaa-4e84-8d8a-876819551431.png\" type=\"image/png\" height=100 width=100>\n",
    "</img>\n",
    "<h1 align=\"right\">Colab KSO Tutorials #4: Upload frames to Zooniverse</h1>\n",
    "<h3 align=\"right\">Written by @jannesgg and @vykanton</h3>"
   ]
  },
  {
   "cell_type": "markdown",
   "id": "3ee20d67",
   "metadata": {
    "id": "3ee20d67"
   },
   "source": [
    "# Set up and requirements"
   ]
  },
  {
   "cell_type": "markdown",
   "id": "bNHyxTD3xiA8",
   "metadata": {
    "id": "bNHyxTD3xiA8"
   },
   "source": [
    "## Install kso_data_management and its requirements"
   ]
  },
  {
   "cell_type": "code",
   "execution_count": null,
   "id": "ozBbsZdPxm05",
   "metadata": {
    "id": "ozBbsZdPxm05"
   },
   "outputs": [],
   "source": [
    "from IPython.display import clear_output\n",
    "\n",
    "try:\n",
    "    import google.colab\n",
    "    import os\n",
    "\n",
    "    IN_COLAB = True\n",
    "    print(\"Running in Colab...\")\n",
    "\n",
    "    # Clone kso-data-management repo\n",
    "    !git clone --quiet --recurse-submodules -b main https://github.com/ocean-data-factory-sweden/kso-data-management.git\n",
    "    !pip install -q --upgrade pip\n",
    "    !pip install -q -r kso-data-management/requirements.txt\n",
    "\n",
    "    # Fix libmagic issue\n",
    "    !apt-get -qq update && apt-get -qq install -y libmagic-dev > /dev/null\n",
    "\n",
    "    # Enable external widgets\n",
    "    from google.colab import output\n",
    "\n",
    "    output.enable_custom_widget_manager()\n",
    "\n",
    "    os.chdir(\"kso-data-management/tutorials\")\n",
    "    try:\n",
    "        clear_output()\n",
    "        print(\"All packages are installed and ready to go!\")\n",
    "    except:\n",
    "        clear_output()\n",
    "        print(\"There have been some issues installing the packages!\")\n",
    "except:\n",
    "    IN_COLAB = False\n",
    "    import sys\n",
    "\n",
    "    # Install requirements\n",
    "    !pip install -q --no-warn-script-location --upgrade pip\n",
    "    !pip install -qr ../requirements.txt\n",
    "\n",
    "    !jupyter nbextension install --user --py widgetsnbextension\n",
    "    !jupyter nbextension enable --user --py widgetsnbextension\n",
    "    !jupyter nbextension install --user --py jupyter_bbox_widget\n",
    "    !jupyter nbextension enable --user --py jupyter_bbox_widget\n",
    "    !jupyter nbextension enable --user --py ipysheet\n",
    "\n",
    "    clear_output()\n",
    "    print(\"Running locally... you're good to go!\")"
   ]
  },
  {
   "cell_type": "markdown",
   "id": "896f0873",
   "metadata": {
    "id": "896f0873"
   },
   "source": [
    "### Import Python packages"
   ]
  },
  {
   "cell_type": "code",
   "execution_count": null,
   "id": "5451cddf",
   "metadata": {
    "id": "5451cddf"
   },
   "outputs": [],
   "source": [
    "# Set the directory of the libraries\n",
    "import sys, os\n",
    "from pathlib import Path\n",
    "\n",
    "# Enables testing changes in utils\n",
    "%load_ext autoreload\n",
    "%autoreload 2\n",
    "\n",
    "# Specify the path of the tutorials\n",
    "sys.path.insert(0, \"..\")\n",
    "\n",
    "# Import required modules\n",
    "import kso_utils.tutorials_utils as t_utils\n",
    "import kso_utils.t4_utils as t4\n",
    "import kso_utils.t3_utils as t3\n",
    "import kso_utils.project_utils as p_utils\n",
    "\n",
    "print(\"Packages loaded successfully\")"
   ]
  },
  {
   "cell_type": "markdown",
   "id": "ed55216d",
   "metadata": {
    "id": "ed55216d"
   },
   "source": [
    "### Choose your project"
   ]
  },
  {
   "cell_type": "code",
   "execution_count": null,
   "id": "a7828470",
   "metadata": {
    "id": "a7828470"
   },
   "outputs": [],
   "source": [
    "project_name = t_utils.choose_project()"
   ]
  },
  {
   "cell_type": "code",
   "execution_count": null,
   "id": "eec7d8bc",
   "metadata": {
    "id": "eec7d8bc"
   },
   "outputs": [],
   "source": [
    "project = p_utils.find_project(project_name=project_name.value)"
   ]
  },
  {
   "cell_type": "markdown",
   "id": "xc3B3bzraCRW",
   "metadata": {
    "id": "xc3B3bzraCRW"
   },
   "source": [
    "### Initiate sql and zoo project"
   ]
  },
  {
   "cell_type": "code",
   "execution_count": null,
   "id": "KgzV0KBGaC3d",
   "metadata": {
    "id": "KgzV0KBGaC3d"
   },
   "outputs": [],
   "source": [
    "# Initiate db\n",
    "db_info_dict = t_utils.initiate_db(project)"
   ]
  },
  {
   "cell_type": "code",
   "execution_count": null,
   "id": "SLbtD-WxaLwU",
   "metadata": {
    "id": "SLbtD-WxaLwU"
   },
   "outputs": [],
   "source": [
    "# Connect to Zooniverse project\n",
    "zoo_project = t_utils.connect_zoo_project(project)"
   ]
  },
  {
   "cell_type": "markdown",
   "id": "EtgPfWF_ay_T",
   "metadata": {
    "id": "EtgPfWF_ay_T"
   },
   "source": [
    "## Retrieve info about zooniverse clips"
   ]
  },
  {
   "cell_type": "code",
   "execution_count": null,
   "id": "-a75tTTIazxN",
   "metadata": {
    "id": "-a75tTTIazxN"
   },
   "outputs": [],
   "source": [
    "zoo_info_dict = t_utils.retrieve__populate_zoo_info(\n",
    "    project=project,\n",
    "    db_info_dict=db_info_dict,\n",
    "    zoo_project=zoo_project,\n",
    "    zoo_info=[\"subjects\", \"classifications\", \"workflows\"],\n",
    ")"
   ]
  },
  {
   "cell_type": "markdown",
   "id": "a749e31a",
   "metadata": {
    "id": "a749e31a"
   },
   "source": [
    "# Select the species of interest"
   ]
  },
  {
   "cell_type": "code",
   "execution_count": null,
   "id": "56e27ea6",
   "metadata": {
    "id": "56e27ea6"
   },
   "outputs": [],
   "source": [
    "species_i = t4.choose_species(db_info_dict)"
   ]
  },
  {
   "cell_type": "markdown",
   "id": "04e58c56",
   "metadata": {
    "id": "04e58c56"
   },
   "source": [
    "### Get the frames"
   ]
  },
  {
   "cell_type": "code",
   "execution_count": null,
   "id": "found-headline",
   "metadata": {
    "id": "found-headline",
    "scrolled": false
   },
   "outputs": [],
   "source": [
    "frames_to_upload_df = t4.get_frames(\n",
    "    species_names=species_i.value,\n",
    "    db_path=db_info_dict[\"db_path\"],\n",
    "    zoo_info_dict=zoo_info_dict,\n",
    "    server_dict=db_info_dict,\n",
    "    project=project,\n",
    "    n_frames_subject=3,\n",
    "    subsample_up_to=3,\n",
    ")"
   ]
  },
  {
   "cell_type": "markdown",
   "id": "df57b117",
   "metadata": {
    "id": "df57b117"
   },
   "source": [
    "## List available frames to upload to Zooniverse"
   ]
  },
  {
   "cell_type": "markdown",
   "id": "7b5c47b9",
   "metadata": {
    "id": "7b5c47b9"
   },
   "source": [
    "### Frame modifications"
   ]
  },
  {
   "cell_type": "code",
   "execution_count": null,
   "id": "a55b60c2",
   "metadata": {
    "colab": {
     "base_uri": "https://localhost:8080/",
     "height": 49,
     "referenced_widgets": [
      "7e4f63417fa046dbac37e9f57146f31a",
      "13496ea3e7e84024a37550c58c5b6893",
      "bf500a58a9a640bea578560adc8578a7",
      "43ce38cf6c5640b9815d6811ef0ceca2",
      "c7a3b4609e814cee8a48231d425f96b7",
      "220741a5229146e1a8f4107c0d8f1267",
      "dca019b91ec246aa8178ed2bd33aba46",
      "c21ff05c7f3140d19184b2a894d4cf8f",
      "262a77276fbb4934a7d9328b940d5909",
      "8acb876b919746de832f0bca37df46df"
     ]
    },
    "id": "a55b60c2",
    "outputId": "93842108-61ae-45d1-d865-067a2b96107d"
   },
   "outputs": [],
   "source": [
    "# Work in progress\n",
    "frame_modification = t3.clip_modification_widget()\n",
    "frame_modification"
   ]
  },
  {
   "cell_type": "code",
   "execution_count": null,
   "id": "6361c9b7",
   "metadata": {
    "colab": {
     "base_uri": "https://localhost:8080/",
     "height": 235
    },
    "id": "6361c9b7",
    "outputId": "7715e0d2-87f3-43ae-d01a-829e3539ff5d"
   },
   "outputs": [],
   "source": [
    "# Modify the clips\n",
    "frames_ready_df = t4.modify_frames(\n",
    "    frames_to_upload_df=frames_to_upload_df.df.reset_index(drop=True),\n",
    "    species_i=species_i.value,\n",
    "    modification_details=frame_modification.checks,\n",
    "    project=project,\n",
    ")"
   ]
  },
  {
   "cell_type": "code",
   "execution_count": null,
   "id": "76f78189",
   "metadata": {
    "id": "76f78189"
   },
   "outputs": [],
   "source": [
    "# Review the size of the modified clips\n",
    "t4.check_frame_size(frame_paths=frames_ready_df[\"modif_frame_path\"].unique())"
   ]
  },
  {
   "cell_type": "markdown",
   "id": "8e73da0c",
   "metadata": {
    "id": "8e73da0c"
   },
   "source": [
    "### Preview the frames"
   ]
  },
  {
   "cell_type": "code",
   "execution_count": null,
   "id": "cce086d7",
   "metadata": {
    "id": "cce086d7"
   },
   "outputs": [],
   "source": [
    "# Compare the original and modified clips\n",
    "t4.compare_frames(df=frames_ready_df)"
   ]
  },
  {
   "cell_type": "markdown",
   "id": "moral-milwaukee",
   "metadata": {
    "id": "moral-milwaukee"
   },
   "source": [
    "### Set Zooniverse metadata"
   ]
  },
  {
   "cell_type": "code",
   "execution_count": null,
   "id": "54338a73",
   "metadata": {
    "id": "54338a73"
   },
   "outputs": [],
   "source": [
    "upload_to_zoo = t4.set_zoo_metadata(\n",
    "    df=frames_ready_df,\n",
    "    species_list=species_i.value,\n",
    "    project=project,\n",
    "    db_info_dict=db_info_dict,\n",
    ")"
   ]
  },
  {
   "cell_type": "markdown",
   "id": "powerful-scout",
   "metadata": {
    "id": "powerful-scout"
   },
   "source": [
    "### Upload frames to Zooniverse"
   ]
  },
  {
   "cell_type": "markdown",
   "id": "plain-senior",
   "metadata": {
    "id": "plain-senior"
   },
   "source": [
    "You may receive an error message related to file size if clips exceed the recommended limit for Zooniverse uploads. In this case, we recommend shortening the clip length to achieve a suitable filesize."
   ]
  },
  {
   "cell_type": "code",
   "execution_count": null,
   "id": "guilty-insider",
   "metadata": {
    "id": "guilty-insider"
   },
   "outputs": [],
   "source": [
    "t4.upload_frames_to_zooniverse(\n",
    "    upload_to_zoo=upload_to_zoo,\n",
    "    species_list=species_i.value,\n",
    "    db_info_dict=db_info_dict,\n",
    "    project=project,\n",
    ")"
   ]
  },
  {
   "cell_type": "code",
   "execution_count": null,
   "id": "permanent-terminology",
   "metadata": {
    "id": "permanent-terminology"
   },
   "outputs": [],
   "source": [
    "# END"
   ]
  }
 ],
 "metadata": {
  "colab": {
   "provenance": []
  },
  "kernelspec": {
   "display_name": "Python 3 (ipykernel)",
   "language": "python",
   "name": "python3"
  },
  "language_info": {
   "codemirror_mode": {
    "name": "ipython",
    "version": 3
   },
   "file_extension": ".py",
   "mimetype": "text/x-python",
   "name": "python",
   "nbconvert_exporter": "python",
   "pygments_lexer": "ipython3",
   "version": "3.8.8 | packaged by conda-forge | (default, Feb 20 2021, 16:12:38) \n[Clang 11.0.1 ]"
  },
  "vscode": {
   "interpreter": {
    "hash": "9f0064b85a3bc365415745ead9abb78ac240c43fe3a2a9861333bea64f4ce941"
   }
  },
  "widgets": {
   "application/vnd.jupyter.widget-state+json": {
    "04cdf64c56714dbaad045f653b089dfd": {
     "model_module": "@jupyter-widgets/controls",
     "model_module_version": "2.0.0",
     "model_name": "GridBoxModel",
     "state": {
      "_dom_classes": [],
      "_model_module": "@jupyter-widgets/controls",
      "_model_module_version": "2.0.0",
      "_model_name": "GridBoxModel",
      "_view_count": null,
      "_view_module": "@jupyter-widgets/controls",
      "_view_module_version": "2.0.0",
      "_view_name": "GridBoxView",
      "box_style": "",
      "children": [
       "IPY_MODEL_3b2c9c0d7b9d471f9f1a702da9168b3c",
       "IPY_MODEL_dbc5b898ea8f4c36a24956d2c0a54c0a",
       "IPY_MODEL_34d95acc19ef4d55be404a288911dda1"
      ],
      "layout": "IPY_MODEL_d34f902ec01c4a80bc555a655218dd6b",
      "tabbable": null,
      "tooltip": null
     }
    },
    "065a2e49128646ac8d81455bdd088d08": {
     "model_module": "@jupyter-widgets/base",
     "model_module_version": "2.0.0",
     "model_name": "LayoutModel",
     "state": {
      "_model_module": "@jupyter-widgets/base",
      "_model_module_version": "2.0.0",
      "_model_name": "LayoutModel",
      "_view_count": null,
      "_view_module": "@jupyter-widgets/base",
      "_view_module_version": "2.0.0",
      "_view_name": "LayoutView",
      "align_content": null,
      "align_items": null,
      "align_self": null,
      "border_bottom": null,
      "border_left": null,
      "border_right": null,
      "border_top": null,
      "bottom": null,
      "display": "none",
      "flex": null,
      "flex_flow": null,
      "grid_area": null,
      "grid_auto_columns": null,
      "grid_auto_flow": null,
      "grid_auto_rows": null,
      "grid_column": null,
      "grid_gap": null,
      "grid_row": null,
      "grid_template_areas": null,
      "grid_template_columns": null,
      "grid_template_rows": null,
      "height": null,
      "justify_content": null,
      "justify_items": null,
      "left": null,
      "margin": null,
      "max_height": null,
      "max_width": null,
      "min_height": null,
      "min_width": null,
      "object_fit": null,
      "object_position": null,
      "order": null,
      "overflow": null,
      "padding": null,
      "right": null,
      "top": null,
      "visibility": null,
      "width": "auto"
     }
    },
    "0b02efea747f405ab55d0840ddf457d4": {
     "model_module": "@jupyter-widgets/controls",
     "model_module_version": "2.0.0",
     "model_name": "ButtonStyleModel",
     "state": {
      "_model_module": "@jupyter-widgets/controls",
      "_model_module_version": "2.0.0",
      "_model_name": "ButtonStyleModel",
      "_view_count": null,
      "_view_module": "@jupyter-widgets/base",
      "_view_module_version": "2.0.0",
      "_view_name": "StyleView",
      "button_color": null,
      "font_family": null,
      "font_size": null,
      "font_style": null,
      "font_variant": null,
      "font_weight": null,
      "text_color": null,
      "text_decoration": null
     }
    },
    "13496ea3e7e84024a37550c58c5b6893": {
     "model_module": "@jupyter-widgets/controls",
     "model_module_version": "2.0.0",
     "model_name": "IntTextModel",
     "state": {
      "_dom_classes": [],
      "_model_module": "@jupyter-widgets/controls",
      "_model_module_version": "2.0.0",
      "_model_name": "IntTextModel",
      "_view_count": null,
      "_view_module": "@jupyter-widgets/controls",
      "_view_module_version": "2.0.0",
      "_view_name": "IntTextView",
      "continuous_update": false,
      "description": "Number of modifications:",
      "description_allow_html": false,
      "disabled": false,
      "layout": "IPY_MODEL_c7a3b4609e814cee8a48231d425f96b7",
      "step": 1,
      "style": "IPY_MODEL_220741a5229146e1a8f4107c0d8f1267",
      "tabbable": null,
      "tooltip": null,
      "value": 0
     }
    },
    "14a4e1f73e5946479ec299ce53f871ec": {
     "model_module": "@jupyter-widgets/controls",
     "model_module_version": "2.0.0",
     "model_name": "HTMLStyleModel",
     "state": {
      "_model_module": "@jupyter-widgets/controls",
      "_model_module_version": "2.0.0",
      "_model_name": "HTMLStyleModel",
      "_view_count": null,
      "_view_module": "@jupyter-widgets/base",
      "_view_module_version": "2.0.0",
      "_view_name": "StyleView",
      "background": null,
      "description_width": "",
      "font_size": null,
      "text_color": null
     }
    },
    "212dfe9c9b404181bbe0b15721249e66": {
     "model_module": "@jupyter-widgets/controls",
     "model_module_version": "2.0.0",
     "model_name": "TextStyleModel",
     "state": {
      "_model_module": "@jupyter-widgets/controls",
      "_model_module_version": "2.0.0",
      "_model_name": "TextStyleModel",
      "_view_count": null,
      "_view_module": "@jupyter-widgets/base",
      "_view_module_version": "2.0.0",
      "_view_name": "StyleView",
      "background": null,
      "description_width": "",
      "font_size": null,
      "text_color": null
     }
    },
    "220741a5229146e1a8f4107c0d8f1267": {
     "model_module": "@jupyter-widgets/controls",
     "model_module_version": "2.0.0",
     "model_name": "DescriptionStyleModel",
     "state": {
      "_model_module": "@jupyter-widgets/controls",
      "_model_module_version": "2.0.0",
      "_model_name": "DescriptionStyleModel",
      "_view_count": null,
      "_view_module": "@jupyter-widgets/base",
      "_view_module_version": "2.0.0",
      "_view_name": "StyleView",
      "description_width": "initial"
     }
    },
    "262a77276fbb4934a7d9328b940d5909": {
     "model_module": "@jupyter-widgets/base",
     "model_module_version": "2.0.0",
     "model_name": "LayoutModel",
     "state": {
      "_model_module": "@jupyter-widgets/base",
      "_model_module_version": "2.0.0",
      "_model_name": "LayoutModel",
      "_view_count": null,
      "_view_module": "@jupyter-widgets/base",
      "_view_module_version": "2.0.0",
      "_view_name": "LayoutView",
      "align_content": null,
      "align_items": null,
      "align_self": null,
      "border_bottom": null,
      "border_left": null,
      "border_right": null,
      "border_top": null,
      "bottom": null,
      "display": null,
      "flex": null,
      "flex_flow": null,
      "grid_area": null,
      "grid_auto_columns": null,
      "grid_auto_flow": null,
      "grid_auto_rows": null,
      "grid_column": null,
      "grid_gap": null,
      "grid_row": null,
      "grid_template_areas": null,
      "grid_template_columns": null,
      "grid_template_rows": null,
      "height": null,
      "justify_content": null,
      "justify_items": null,
      "left": null,
      "margin": null,
      "max_height": null,
      "max_width": null,
      "min_height": null,
      "min_width": null,
      "object_fit": null,
      "object_position": null,
      "order": null,
      "overflow": null,
      "padding": null,
      "right": null,
      "top": null,
      "visibility": null,
      "width": null
     }
    },
    "29843db672a84780b350c2cdfef06f96": {
     "model_module": "@jupyter-widgets/controls",
     "model_module_version": "2.0.0",
     "model_name": "ButtonStyleModel",
     "state": {
      "_model_module": "@jupyter-widgets/controls",
      "_model_module_version": "2.0.0",
      "_model_name": "ButtonStyleModel",
      "_view_count": null,
      "_view_module": "@jupyter-widgets/base",
      "_view_module_version": "2.0.0",
      "_view_name": "StyleView",
      "button_color": null,
      "font_family": null,
      "font_size": null,
      "font_style": null,
      "font_variant": null,
      "font_weight": null,
      "text_color": null,
      "text_decoration": null
     }
    },
    "301a7871744f4655baa7fa5630b260a0": {
     "model_module": "@jupyter-widgets/base",
     "model_module_version": "2.0.0",
     "model_name": "LayoutModel",
     "state": {
      "_model_module": "@jupyter-widgets/base",
      "_model_module_version": "2.0.0",
      "_model_name": "LayoutModel",
      "_view_count": null,
      "_view_module": "@jupyter-widgets/base",
      "_view_module_version": "2.0.0",
      "_view_name": "LayoutView",
      "align_content": null,
      "align_items": null,
      "align_self": null,
      "border_bottom": null,
      "border_left": null,
      "border_right": null,
      "border_top": null,
      "bottom": null,
      "display": null,
      "flex": null,
      "flex_flow": null,
      "grid_area": "pathlist",
      "grid_auto_columns": null,
      "grid_auto_flow": null,
      "grid_auto_rows": null,
      "grid_column": null,
      "grid_gap": null,
      "grid_row": null,
      "grid_template_areas": null,
      "grid_template_columns": null,
      "grid_template_rows": null,
      "height": null,
      "justify_content": null,
      "justify_items": null,
      "left": null,
      "margin": null,
      "max_height": null,
      "max_width": null,
      "min_height": null,
      "min_width": null,
      "object_fit": null,
      "object_position": null,
      "order": null,
      "overflow": null,
      "padding": null,
      "right": null,
      "top": null,
      "visibility": null,
      "width": "auto"
     }
    },
    "34d95acc19ef4d55be404a288911dda1": {
     "model_module": "@jupyter-widgets/controls",
     "model_module_version": "2.0.0",
     "model_name": "SelectModel",
     "state": {
      "_dom_classes": [],
      "_model_module": "@jupyter-widgets/controls",
      "_model_module_version": "2.0.0",
      "_model_name": "SelectModel",
      "_options_labels": [
       "..",
       "db_spyfish_csv",
       "1. Check and update csv files.ipynb",
       "11. Concatenate videos from AWS.ipynb",
       "12. Display movies from server.ipynb",
       "2. Upload new footage.ipynb",
       "20. Build and populate koster database.ipynb",
       "3. Upload clips to Zooniverse.ipynb",
       "4. Upload frames to Zooniverse.ipynb",
       "8. Analyse Zooniverse classifications.ipynb",
       "spyfish_aot.db"
      ],
      "_view_count": null,
      "_view_module": "@jupyter-widgets/controls",
      "_view_module_version": "2.0.0",
      "_view_name": "SelectView",
      "description": "",
      "description_allow_html": false,
      "disabled": false,
      "index": null,
      "layout": "IPY_MODEL_ecae3f1b7824428181365c8758ab1fbd",
      "rows": 8,
      "style": "IPY_MODEL_f79c05452f6640268307f6d84975e56e",
      "tabbable": null,
      "tooltip": null
     }
    },
    "3b2c9c0d7b9d471f9f1a702da9168b3c": {
     "model_module": "@jupyter-widgets/controls",
     "model_module_version": "2.0.0",
     "model_name": "DropdownModel",
     "state": {
      "_dom_classes": [],
      "_model_module": "@jupyter-widgets/controls",
      "_model_module_version": "2.0.0",
      "_model_name": "DropdownModel",
      "_options_labels": [
       ".",
       ""
      ],
      "_view_count": null,
      "_view_module": "@jupyter-widgets/controls",
      "_view_module_version": "2.0.0",
      "_view_name": "DropdownView",
      "description": "",
      "description_allow_html": false,
      "disabled": false,
      "index": 0,
      "layout": "IPY_MODEL_301a7871744f4655baa7fa5630b260a0",
      "style": "IPY_MODEL_647718e4095a4443b709c4ec8ddfa55c",
      "tabbable": null,
      "tooltip": null
     }
    },
    "43ce38cf6c5640b9815d6811ef0ceca2": {
     "model_module": "@jupyter-widgets/base",
     "model_module_version": "2.0.0",
     "model_name": "LayoutModel",
     "state": {
      "_model_module": "@jupyter-widgets/base",
      "_model_module_version": "2.0.0",
      "_model_name": "LayoutModel",
      "_view_count": null,
      "_view_module": "@jupyter-widgets/base",
      "_view_module_version": "2.0.0",
      "_view_name": "LayoutView",
      "align_content": null,
      "align_items": null,
      "align_self": null,
      "border_bottom": null,
      "border_left": null,
      "border_right": null,
      "border_top": null,
      "bottom": null,
      "display": null,
      "flex": null,
      "flex_flow": null,
      "grid_area": null,
      "grid_auto_columns": null,
      "grid_auto_flow": null,
      "grid_auto_rows": null,
      "grid_column": null,
      "grid_gap": null,
      "grid_row": null,
      "grid_template_areas": null,
      "grid_template_columns": null,
      "grid_template_rows": null,
      "height": null,
      "justify_content": null,
      "justify_items": null,
      "left": null,
      "margin": null,
      "max_height": null,
      "max_width": null,
      "min_height": null,
      "min_width": null,
      "object_fit": null,
      "object_position": null,
      "order": null,
      "overflow": null,
      "padding": null,
      "right": null,
      "top": null,
      "visibility": null,
      "width": null
     }
    },
    "44c0d34420984d4da8e4a34a282bc7bd": {
     "model_module": "@jupyter-widgets/controls",
     "model_module_version": "2.0.0",
     "model_name": "HBoxModel",
     "state": {
      "_dom_classes": [],
      "_model_module": "@jupyter-widgets/controls",
      "_model_module_version": "2.0.0",
      "_model_name": "HBoxModel",
      "_view_count": null,
      "_view_module": "@jupyter-widgets/controls",
      "_view_module_version": "2.0.0",
      "_view_name": "HBoxView",
      "box_style": "",
      "children": [
       "IPY_MODEL_d0530bfbf9cd48738423603d31b7c0e3",
       "IPY_MODEL_542be4e14c8c493ab3dcb232705232e4",
       "IPY_MODEL_857d4d2f85f54ad49b5bcfaf0c2e11d1"
      ],
      "layout": "IPY_MODEL_554fa876a4eb456585f1ed4ff2bf9491",
      "tabbable": null,
      "tooltip": null
     }
    },
    "501b2dd78d2f4dc8802f5cb4f0915318": {
     "model_module": "@jupyter-widgets/base",
     "model_module_version": "2.0.0",
     "model_name": "LayoutModel",
     "state": {
      "_model_module": "@jupyter-widgets/base",
      "_model_module_version": "2.0.0",
      "_model_name": "LayoutModel",
      "_view_count": null,
      "_view_module": "@jupyter-widgets/base",
      "_view_module_version": "2.0.0",
      "_view_name": "LayoutView",
      "align_content": null,
      "align_items": null,
      "align_self": null,
      "border_bottom": null,
      "border_left": null,
      "border_right": null,
      "border_top": null,
      "bottom": null,
      "display": null,
      "flex": null,
      "flex_flow": null,
      "grid_area": null,
      "grid_auto_columns": null,
      "grid_auto_flow": null,
      "grid_auto_rows": null,
      "grid_column": null,
      "grid_gap": null,
      "grid_row": null,
      "grid_template_areas": null,
      "grid_template_columns": null,
      "grid_template_rows": null,
      "height": null,
      "justify_content": null,
      "justify_items": null,
      "left": null,
      "margin": null,
      "max_height": null,
      "max_width": null,
      "min_height": null,
      "min_width": null,
      "object_fit": null,
      "object_position": null,
      "order": null,
      "overflow": null,
      "padding": null,
      "right": null,
      "top": null,
      "visibility": null,
      "width": null
     }
    },
    "542be4e14c8c493ab3dcb232705232e4": {
     "model_module": "@jupyter-widgets/controls",
     "model_module_version": "2.0.0",
     "model_name": "ButtonModel",
     "state": {
      "_dom_classes": [],
      "_model_module": "@jupyter-widgets/controls",
      "_model_module_version": "2.0.0",
      "_model_name": "ButtonModel",
      "_view_count": null,
      "_view_module": "@jupyter-widgets/controls",
      "_view_module_version": "2.0.0",
      "_view_name": "ButtonView",
      "button_style": "",
      "description": "Cancel",
      "disabled": false,
      "icon": "",
      "layout": "IPY_MODEL_065a2e49128646ac8d81455bdd088d08",
      "style": "IPY_MODEL_0b02efea747f405ab55d0840ddf457d4",
      "tabbable": null,
      "tooltip": null
     }
    },
    "554fa876a4eb456585f1ed4ff2bf9491": {
     "model_module": "@jupyter-widgets/base",
     "model_module_version": "2.0.0",
     "model_name": "LayoutModel",
     "state": {
      "_model_module": "@jupyter-widgets/base",
      "_model_module_version": "2.0.0",
      "_model_name": "LayoutModel",
      "_view_count": null,
      "_view_module": "@jupyter-widgets/base",
      "_view_module_version": "2.0.0",
      "_view_name": "LayoutView",
      "align_content": null,
      "align_items": null,
      "align_self": null,
      "border_bottom": null,
      "border_left": null,
      "border_right": null,
      "border_top": null,
      "bottom": null,
      "display": null,
      "flex": null,
      "flex_flow": null,
      "grid_area": null,
      "grid_auto_columns": null,
      "grid_auto_flow": null,
      "grid_auto_rows": null,
      "grid_column": null,
      "grid_gap": null,
      "grid_row": null,
      "grid_template_areas": null,
      "grid_template_columns": null,
      "grid_template_rows": null,
      "height": null,
      "justify_content": null,
      "justify_items": null,
      "left": null,
      "margin": null,
      "max_height": null,
      "max_width": null,
      "min_height": null,
      "min_width": null,
      "object_fit": null,
      "object_position": null,
      "order": null,
      "overflow": null,
      "padding": null,
      "right": null,
      "top": null,
      "visibility": null,
      "width": "auto"
     }
    },
    "6095e86da15846adbc07b0647f016bbe": {
     "model_module": "@jupyter-widgets/controls",
     "model_module_version": "2.0.0",
     "model_name": "HTMLModel",
     "state": {
      "_dom_classes": [],
      "_model_module": "@jupyter-widgets/controls",
      "_model_module_version": "2.0.0",
      "_model_name": "HTMLModel",
      "_view_count": null,
      "_view_module": "@jupyter-widgets/controls",
      "_view_module_version": "2.0.0",
      "_view_name": "HTMLView",
      "description": "",
      "description_allow_html": false,
      "layout": "IPY_MODEL_501b2dd78d2f4dc8802f5cb4f0915318",
      "placeholder": "​",
      "style": "IPY_MODEL_14a4e1f73e5946479ec299ce53f871ec",
      "tabbable": null,
      "tooltip": null,
      "value": "<b>Choose location to store frames</b>"
     }
    },
    "647718e4095a4443b709c4ec8ddfa55c": {
     "model_module": "@jupyter-widgets/controls",
     "model_module_version": "2.0.0",
     "model_name": "DescriptionStyleModel",
     "state": {
      "_model_module": "@jupyter-widgets/controls",
      "_model_module_version": "2.0.0",
      "_model_name": "DescriptionStyleModel",
      "_view_count": null,
      "_view_module": "@jupyter-widgets/base",
      "_view_module_version": "2.0.0",
      "_view_name": "StyleView",
      "description_width": ""
     }
    },
    "68b15116ea7c49e3847deb1919834200": {
     "model_module": "@jupyter-widgets/base",
     "model_module_version": "2.0.0",
     "model_name": "LayoutModel",
     "state": {
      "_model_module": "@jupyter-widgets/base",
      "_model_module_version": "2.0.0",
      "_model_name": "LayoutModel",
      "_view_count": null,
      "_view_module": "@jupyter-widgets/base",
      "_view_module_version": "2.0.0",
      "_view_name": "LayoutView",
      "align_content": null,
      "align_items": null,
      "align_self": null,
      "border_bottom": null,
      "border_left": null,
      "border_right": null,
      "border_top": null,
      "bottom": null,
      "display": null,
      "flex": null,
      "flex_flow": null,
      "grid_area": null,
      "grid_auto_columns": null,
      "grid_auto_flow": null,
      "grid_auto_rows": null,
      "grid_column": null,
      "grid_gap": null,
      "grid_row": null,
      "grid_template_areas": null,
      "grid_template_columns": null,
      "grid_template_rows": null,
      "height": null,
      "justify_content": null,
      "justify_items": null,
      "left": null,
      "margin": null,
      "max_height": null,
      "max_width": null,
      "min_height": null,
      "min_width": null,
      "object_fit": null,
      "object_position": null,
      "order": null,
      "overflow": null,
      "padding": null,
      "right": null,
      "top": null,
      "visibility": null,
      "width": "auto"
     }
    },
    "7e4f63417fa046dbac37e9f57146f31a": {
     "model_module": "@jupyter-widgets/controls",
     "model_module_version": "2.0.0",
     "model_name": "VBoxModel",
     "state": {
      "_dom_classes": [],
      "_model_module": "@jupyter-widgets/controls",
      "_model_module_version": "2.0.0",
      "_model_name": "VBoxModel",
      "_view_count": null,
      "_view_module": "@jupyter-widgets/controls",
      "_view_module_version": "2.0.0",
      "_view_name": "VBoxView",
      "box_style": "",
      "children": [
       "IPY_MODEL_13496ea3e7e84024a37550c58c5b6893",
       "IPY_MODEL_bf500a58a9a640bea578560adc8578a7"
      ],
      "layout": "IPY_MODEL_43ce38cf6c5640b9815d6811ef0ceca2",
      "tabbable": null,
      "tooltip": null
     }
    },
    "857d4d2f85f54ad49b5bcfaf0c2e11d1": {
     "model_module": "@jupyter-widgets/controls",
     "model_module_version": "2.0.0",
     "model_name": "HTMLModel",
     "state": {
      "_dom_classes": [],
      "_model_module": "@jupyter-widgets/controls",
      "_model_module_version": "2.0.0",
      "_model_name": "HTMLModel",
      "_view_count": null,
      "_view_module": "@jupyter-widgets/controls",
      "_view_module_version": "2.0.0",
      "_view_name": "HTMLView",
      "description": "",
      "description_allow_html": false,
      "layout": "IPY_MODEL_e806877f550e4237a3ffb2f5c8852eb8",
      "placeholder": "",
      "style": "IPY_MODEL_fb952a52f701447f8f01ebd69a022f24",
      "tabbable": null,
      "tooltip": null,
      "value": "<span style=\"margin-left:10px; color:black;\">No file selected</span>"
     }
    },
    "8a8d62e88bf9496b8c901eaaf1bd8b8c": {
     "model_module": "@jupyter-widgets/base",
     "model_module_version": "2.0.0",
     "model_name": "LayoutModel",
     "state": {
      "_model_module": "@jupyter-widgets/base",
      "_model_module_version": "2.0.0",
      "_model_name": "LayoutModel",
      "_view_count": null,
      "_view_module": "@jupyter-widgets/base",
      "_view_module_version": "2.0.0",
      "_view_name": "LayoutView",
      "align_content": null,
      "align_items": null,
      "align_self": null,
      "border_bottom": null,
      "border_left": null,
      "border_right": null,
      "border_top": null,
      "bottom": null,
      "display": null,
      "flex": null,
      "flex_flow": null,
      "grid_area": "filename",
      "grid_auto_columns": null,
      "grid_auto_flow": null,
      "grid_auto_rows": null,
      "grid_column": null,
      "grid_gap": null,
      "grid_row": null,
      "grid_template_areas": null,
      "grid_template_columns": null,
      "grid_template_rows": null,
      "height": null,
      "justify_content": null,
      "justify_items": null,
      "left": null,
      "margin": null,
      "max_height": null,
      "max_width": null,
      "min_height": null,
      "min_width": null,
      "object_fit": null,
      "object_position": null,
      "order": null,
      "overflow": null,
      "padding": null,
      "right": null,
      "top": null,
      "visibility": null,
      "width": "auto"
     }
    },
    "8acb876b919746de832f0bca37df46df": {
     "model_module": "@jupyter-widgets/controls",
     "model_module_version": "2.0.0",
     "model_name": "DescriptionStyleModel",
     "state": {
      "_model_module": "@jupyter-widgets/controls",
      "_model_module_version": "2.0.0",
      "_model_name": "DescriptionStyleModel",
      "_view_count": null,
      "_view_module": "@jupyter-widgets/base",
      "_view_module_version": "2.0.0",
      "_view_name": "StyleView",
      "description_width": "initial"
     }
    },
    "a5eb822c91854042985e3472c5835c47": {
     "model_module": "@jupyter-widgets/controls",
     "model_module_version": "2.0.0",
     "model_name": "VBoxModel",
     "state": {
      "_dom_classes": [],
      "_model_module": "@jupyter-widgets/controls",
      "_model_module_version": "2.0.0",
      "_model_name": "VBoxModel",
      "_view_count": null,
      "_view_module": "@jupyter-widgets/controls",
      "_view_module_version": "2.0.0",
      "_view_name": "VBoxView",
      "box_style": "",
      "children": [
       "IPY_MODEL_6095e86da15846adbc07b0647f016bbe",
       "IPY_MODEL_04cdf64c56714dbaad045f653b089dfd",
       "IPY_MODEL_44c0d34420984d4da8e4a34a282bc7bd"
      ],
      "layout": "IPY_MODEL_ad9f34fb81cb4f47a7287e184ce3f989",
      "tabbable": null,
      "tooltip": null
     }
    },
    "ad9f34fb81cb4f47a7287e184ce3f989": {
     "model_module": "@jupyter-widgets/base",
     "model_module_version": "2.0.0",
     "model_name": "LayoutModel",
     "state": {
      "_model_module": "@jupyter-widgets/base",
      "_model_module_version": "2.0.0",
      "_model_name": "LayoutModel",
      "_view_count": null,
      "_view_module": "@jupyter-widgets/base",
      "_view_module_version": "2.0.0",
      "_view_name": "LayoutView",
      "align_content": null,
      "align_items": null,
      "align_self": null,
      "border_bottom": null,
      "border_left": null,
      "border_right": null,
      "border_top": null,
      "bottom": null,
      "display": null,
      "flex": null,
      "flex_flow": null,
      "grid_area": null,
      "grid_auto_columns": null,
      "grid_auto_flow": null,
      "grid_auto_rows": null,
      "grid_column": null,
      "grid_gap": null,
      "grid_row": null,
      "grid_template_areas": null,
      "grid_template_columns": null,
      "grid_template_rows": null,
      "height": null,
      "justify_content": null,
      "justify_items": null,
      "left": null,
      "margin": null,
      "max_height": null,
      "max_width": null,
      "min_height": null,
      "min_width": null,
      "object_fit": null,
      "object_position": null,
      "order": null,
      "overflow": null,
      "padding": null,
      "right": null,
      "top": null,
      "visibility": null,
      "width": "auto"
     }
    },
    "bf500a58a9a640bea578560adc8578a7": {
     "model_module": "@jupyter-widgets/controls",
     "model_module_version": "2.0.0",
     "model_name": "HBoxModel",
     "state": {
      "_dom_classes": [],
      "_model_module": "@jupyter-widgets/controls",
      "_model_module_version": "2.0.0",
      "_model_name": "HBoxModel",
      "_view_count": null,
      "_view_module": "@jupyter-widgets/controls",
      "_view_module_version": "2.0.0",
      "_view_name": "HBoxView",
      "box_style": "",
      "children": [],
      "layout": "IPY_MODEL_dca019b91ec246aa8178ed2bd33aba46",
      "tabbable": null,
      "tooltip": null
     }
    },
    "c21ff05c7f3140d19184b2a894d4cf8f": {
     "model_module": "@jupyter-widgets/controls",
     "model_module_version": "2.0.0",
     "model_name": "DropdownModel",
     "state": {
      "_dom_classes": [],
      "_model_module": "@jupyter-widgets/controls",
      "_model_module_version": "2.0.0",
      "_model_name": "DropdownModel",
      "_options_labels": [
       "Color_correction",
       "Zoo_low_compression",
       "Zoo_medium_compression",
       "Zoo_high_compression",
       "Blur_sensitive_info"
      ],
      "_view_count": null,
      "_view_module": "@jupyter-widgets/controls",
      "_view_module_version": "2.0.0",
      "_view_name": "DropdownView",
      "description": "Select modification: #0",
      "description_allow_html": false,
      "disabled": false,
      "index": 0,
      "layout": "IPY_MODEL_262a77276fbb4934a7d9328b940d5909",
      "style": "IPY_MODEL_8acb876b919746de832f0bca37df46df",
      "tabbable": null,
      "tooltip": null
     }
    },
    "c7a3b4609e814cee8a48231d425f96b7": {
     "model_module": "@jupyter-widgets/base",
     "model_module_version": "2.0.0",
     "model_name": "LayoutModel",
     "state": {
      "_model_module": "@jupyter-widgets/base",
      "_model_module_version": "2.0.0",
      "_model_name": "LayoutModel",
      "_view_count": null,
      "_view_module": "@jupyter-widgets/base",
      "_view_module_version": "2.0.0",
      "_view_name": "LayoutView",
      "align_content": null,
      "align_items": null,
      "align_self": null,
      "border_bottom": null,
      "border_left": null,
      "border_right": null,
      "border_top": null,
      "bottom": null,
      "display": null,
      "flex": null,
      "flex_flow": null,
      "grid_area": null,
      "grid_auto_columns": null,
      "grid_auto_flow": null,
      "grid_auto_rows": null,
      "grid_column": null,
      "grid_gap": null,
      "grid_row": null,
      "grid_template_areas": null,
      "grid_template_columns": null,
      "grid_template_rows": null,
      "height": null,
      "justify_content": null,
      "justify_items": null,
      "left": null,
      "margin": null,
      "max_height": null,
      "max_width": null,
      "min_height": null,
      "min_width": null,
      "object_fit": null,
      "object_position": null,
      "order": null,
      "overflow": null,
      "padding": null,
      "right": null,
      "top": null,
      "visibility": null,
      "width": null
     }
    },
    "d0530bfbf9cd48738423603d31b7c0e3": {
     "model_module": "@jupyter-widgets/controls",
     "model_module_version": "2.0.0",
     "model_name": "ButtonModel",
     "state": {
      "_dom_classes": [],
      "_model_module": "@jupyter-widgets/controls",
      "_model_module_version": "2.0.0",
      "_model_name": "ButtonModel",
      "_view_count": null,
      "_view_module": "@jupyter-widgets/controls",
      "_view_module_version": "2.0.0",
      "_view_name": "ButtonView",
      "button_style": "",
      "description": "Select",
      "disabled": false,
      "icon": "",
      "layout": "IPY_MODEL_68b15116ea7c49e3847deb1919834200",
      "style": "IPY_MODEL_29843db672a84780b350c2cdfef06f96",
      "tabbable": null,
      "tooltip": null
     }
    },
    "d34f902ec01c4a80bc555a655218dd6b": {
     "model_module": "@jupyter-widgets/base",
     "model_module_version": "2.0.0",
     "model_name": "LayoutModel",
     "state": {
      "_model_module": "@jupyter-widgets/base",
      "_model_module_version": "2.0.0",
      "_model_name": "LayoutModel",
      "_view_count": null,
      "_view_module": "@jupyter-widgets/base",
      "_view_module_version": "2.0.0",
      "_view_name": "LayoutView",
      "align_content": null,
      "align_items": null,
      "align_self": null,
      "border_bottom": null,
      "border_left": null,
      "border_right": null,
      "border_top": null,
      "bottom": null,
      "display": "none",
      "flex": null,
      "flex_flow": null,
      "grid_area": null,
      "grid_auto_columns": null,
      "grid_auto_flow": null,
      "grid_auto_rows": null,
      "grid_column": null,
      "grid_gap": "0px 0px",
      "grid_row": null,
      "grid_template_areas": "\n                    'pathlist filename'\n                    'dircontent dircontent'\n                    ",
      "grid_template_columns": "60% 40%",
      "grid_template_rows": "auto auto",
      "height": null,
      "justify_content": null,
      "justify_items": null,
      "left": null,
      "margin": null,
      "max_height": null,
      "max_width": null,
      "min_height": null,
      "min_width": null,
      "object_fit": null,
      "object_position": null,
      "order": null,
      "overflow": null,
      "padding": null,
      "right": null,
      "top": null,
      "visibility": null,
      "width": "500px"
     }
    },
    "dbc5b898ea8f4c36a24956d2c0a54c0a": {
     "model_module": "@jupyter-widgets/controls",
     "model_module_version": "2.0.0",
     "model_name": "TextModel",
     "state": {
      "_dom_classes": [],
      "_model_module": "@jupyter-widgets/controls",
      "_model_module_version": "2.0.0",
      "_model_name": "TextModel",
      "_view_count": null,
      "_view_module": "@jupyter-widgets/controls",
      "_view_module_version": "2.0.0",
      "_view_name": "TextView",
      "continuous_update": true,
      "description": "",
      "description_allow_html": false,
      "disabled": false,
      "layout": "IPY_MODEL_8a8d62e88bf9496b8c901eaaf1bd8b8c",
      "placeholder": "output filename",
      "style": "IPY_MODEL_212dfe9c9b404181bbe0b15721249e66",
      "tabbable": null,
      "tooltip": null,
      "value": ""
     }
    },
    "dca019b91ec246aa8178ed2bd33aba46": {
     "model_module": "@jupyter-widgets/base",
     "model_module_version": "2.0.0",
     "model_name": "LayoutModel",
     "state": {
      "_model_module": "@jupyter-widgets/base",
      "_model_module_version": "2.0.0",
      "_model_name": "LayoutModel",
      "_view_count": null,
      "_view_module": "@jupyter-widgets/base",
      "_view_module_version": "2.0.0",
      "_view_name": "LayoutView",
      "align_content": null,
      "align_items": null,
      "align_self": null,
      "border_bottom": null,
      "border_left": null,
      "border_right": null,
      "border_top": null,
      "bottom": null,
      "display": "inline-flex",
      "flex": null,
      "flex_flow": "row wrap",
      "grid_area": null,
      "grid_auto_columns": null,
      "grid_auto_flow": null,
      "grid_auto_rows": null,
      "grid_column": null,
      "grid_gap": null,
      "grid_row": null,
      "grid_template_areas": null,
      "grid_template_columns": null,
      "grid_template_rows": null,
      "height": null,
      "justify_content": null,
      "justify_items": null,
      "left": null,
      "margin": null,
      "max_height": null,
      "max_width": null,
      "min_height": null,
      "min_width": null,
      "object_fit": null,
      "object_position": null,
      "order": null,
      "overflow": null,
      "padding": null,
      "right": null,
      "top": null,
      "visibility": null,
      "width": "100%"
     }
    },
    "e806877f550e4237a3ffb2f5c8852eb8": {
     "model_module": "@jupyter-widgets/base",
     "model_module_version": "2.0.0",
     "model_name": "LayoutModel",
     "state": {
      "_model_module": "@jupyter-widgets/base",
      "_model_module_version": "2.0.0",
      "_model_name": "LayoutModel",
      "_view_count": null,
      "_view_module": "@jupyter-widgets/base",
      "_view_module_version": "2.0.0",
      "_view_name": "LayoutView",
      "align_content": null,
      "align_items": null,
      "align_self": null,
      "border_bottom": null,
      "border_left": null,
      "border_right": null,
      "border_top": null,
      "bottom": null,
      "display": null,
      "flex": null,
      "flex_flow": null,
      "grid_area": null,
      "grid_auto_columns": null,
      "grid_auto_flow": null,
      "grid_auto_rows": null,
      "grid_column": null,
      "grid_gap": null,
      "grid_row": null,
      "grid_template_areas": null,
      "grid_template_columns": null,
      "grid_template_rows": null,
      "height": null,
      "justify_content": null,
      "justify_items": null,
      "left": null,
      "margin": null,
      "max_height": null,
      "max_width": null,
      "min_height": null,
      "min_width": null,
      "object_fit": null,
      "object_position": null,
      "order": null,
      "overflow": null,
      "padding": null,
      "right": null,
      "top": null,
      "visibility": null,
      "width": null
     }
    },
    "ecae3f1b7824428181365c8758ab1fbd": {
     "model_module": "@jupyter-widgets/base",
     "model_module_version": "2.0.0",
     "model_name": "LayoutModel",
     "state": {
      "_model_module": "@jupyter-widgets/base",
      "_model_module_version": "2.0.0",
      "_model_name": "LayoutModel",
      "_view_count": null,
      "_view_module": "@jupyter-widgets/base",
      "_view_module_version": "2.0.0",
      "_view_name": "LayoutView",
      "align_content": null,
      "align_items": null,
      "align_self": null,
      "border_bottom": null,
      "border_left": null,
      "border_right": null,
      "border_top": null,
      "bottom": null,
      "display": null,
      "flex": null,
      "flex_flow": null,
      "grid_area": "dircontent",
      "grid_auto_columns": null,
      "grid_auto_flow": null,
      "grid_auto_rows": null,
      "grid_column": null,
      "grid_gap": null,
      "grid_row": null,
      "grid_template_areas": null,
      "grid_template_columns": null,
      "grid_template_rows": null,
      "height": null,
      "justify_content": null,
      "justify_items": null,
      "left": null,
      "margin": null,
      "max_height": null,
      "max_width": null,
      "min_height": null,
      "min_width": null,
      "object_fit": null,
      "object_position": null,
      "order": null,
      "overflow": null,
      "padding": null,
      "right": null,
      "top": null,
      "visibility": null,
      "width": "auto"
     }
    },
    "f79c05452f6640268307f6d84975e56e": {
     "model_module": "@jupyter-widgets/controls",
     "model_module_version": "2.0.0",
     "model_name": "DescriptionStyleModel",
     "state": {
      "_model_module": "@jupyter-widgets/controls",
      "_model_module_version": "2.0.0",
      "_model_name": "DescriptionStyleModel",
      "_view_count": null,
      "_view_module": "@jupyter-widgets/base",
      "_view_module_version": "2.0.0",
      "_view_name": "StyleView",
      "description_width": ""
     }
    },
    "fb952a52f701447f8f01ebd69a022f24": {
     "model_module": "@jupyter-widgets/controls",
     "model_module_version": "2.0.0",
     "model_name": "HTMLStyleModel",
     "state": {
      "_model_module": "@jupyter-widgets/controls",
      "_model_module_version": "2.0.0",
      "_model_name": "HTMLStyleModel",
      "_view_count": null,
      "_view_module": "@jupyter-widgets/base",
      "_view_module_version": "2.0.0",
      "_view_name": "StyleView",
      "background": null,
      "description_width": "",
      "font_size": null,
      "text_color": null
     }
    }
   }
  }
 },
 "nbformat": 4,
 "nbformat_minor": 5
}
