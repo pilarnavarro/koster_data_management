{
 "cells": [
  {
   "cell_type": "markdown",
   "id": "6c481791",
   "metadata": {
    "id": "6c481791"
   },
   "source": [
    "<a href=\"https://colab.research.google.com/github/ocean-data-factory-sweden/kso-data-management/blob/main/tutorials/01_Check_and_update_csv_files.ipynb\" target=\"_parent\"><img src=\"https://colab.research.google.com/assets/colab-badge.svg\" alt=\"Open In Colab\"/></a>"
   ]
  },
  {
   "attachments": {},
   "cell_type": "markdown",
   "id": "95aea466",
   "metadata": {
    "id": "95aea466"
   },
   "source": [
    "<img align=\"left\" src=\"https://panoptes-uploads.zooniverse.org/project_avatar/86c23ca7-bbaa-4e84-8d8a-876819551431.png\" type=\"image/png\" height=100 width=100>\n",
    "</img>\n",
    "\n",
    "\n",
    "<h1 align=\"right\">KSO Tutorial #1: Check and update csv files</h1>\n",
    "<h3 align=\"right\">Written by KSO Team</h3>"
   ]
  },
  {
   "cell_type": "markdown",
   "id": "6f0fc779",
   "metadata": {
    "id": "6f0fc779"
   },
   "source": [
    "# Set up and requirements"
   ]
  },
  {
   "cell_type": "code",
   "execution_count": null,
   "id": "6b0c72a4",
   "metadata": {
    "cellView": "form",
    "id": "6b0c72a4"
   },
   "outputs": [],
   "source": [
    "# @title <font size=\"5\">↓ ឵឵<i>Install kso_data_management and its requirements</font> { vertical-output: true }\n",
    "\n",
    "from IPython.display import clear_output\n",
    "\n",
    "try:\n",
    "    import google.colab\n",
    "    import os\n",
    "\n",
    "    IN_COLAB = True\n",
    "    print(\"Running in Colab...\")\n",
    "\n",
    "    # Clone kso-data-management repo\n",
    "    !git clone --quiet --recurse-submodules -b main https://github.com/ocean-data-factory-sweden/kso-data-management.git\n",
    "    %pip install -q --upgrade pip\n",
    "    %pip install -qr <(sed '/boto3/d;/ipywidgets/d' kso-data-management/requirements.txt)\n",
    "    %pip install -qr <(sed '/boto3/d;/ipywidgets/d' kso-data-management/kso_utils/requirements.txt)\n",
    "\n",
    "    # Fix libmagic issue\n",
    "    !apt-get -qq update && apt-get -qq install -y libmagic-dev > /dev/null\n",
    "\n",
    "    # Enable external widgets\n",
    "    from google.colab import output\n",
    "\n",
    "    output.enable_custom_widget_manager()\n",
    "\n",
    "    os.chdir(\"kso-data-management/tutorials\")\n",
    "    try:\n",
    "        clear_output()\n",
    "        print(\"All packages are installed and ready to go!\")\n",
    "    except:\n",
    "        clear_output()\n",
    "        print(\"There have been some issues installing the packages!\")\n",
    "except:\n",
    "    IN_COLAB = False\n",
    "\n",
    "    # Install requirements\n",
    "    # %pip install -q --no-warn-script-location --upgrade pip --user\n",
    "    # %pip install -qr ../requirements.txt --user\n",
    "    # %pip install -qr ../kso_utils/requirements.txt --user\n",
    "\n",
    "    !jupyter nbextension install --user --py widgetsnbextension\n",
    "    !jupyter nbextension enable --user --py widgetsnbextension\n",
    "    !jupyter nbextension install --user --py jupyter_bbox_widget\n",
    "    !jupyter nbextension enable --user --py jupyter_bbox_widget\n",
    "    !jupyter nbextension install --user --py ipysheet\n",
    "    !jupyter nbextension enable --user --py ipysheet\n",
    "\n",
    "    clear_output()\n",
    "    print(\"Running locally... you're good to go!\")"
   ]
  },
  {
   "cell_type": "code",
   "execution_count": null,
   "id": "22e09f38",
   "metadata": {},
   "outputs": [],
   "source": [
    "# @title <font size=\"5\">↓ ឵឵<i>Import Python packages</font> { vertical-output: true }\n",
    "\n",
    "# Set the directory of the libraries\n",
    "import sys\n",
    "\n",
    "try:\n",
    "    if \"kso_utils\" not in sys.modules:\n",
    "        sys.path.append(\"..\")\n",
    "        import kso_utils.kso_utils\n",
    "\n",
    "        sys.modules[\"kso_utils\"] = kso_utils.kso_utils\n",
    "        print(\"Using development version...\")\n",
    "        # Enables testing changes in utils\n",
    "        %load_ext autoreload\n",
    "        %autoreload 2\n",
    "except:\n",
    "    print(\"Installing latest version from PyPI...\")\n",
    "    %pip install -q kso-utils\n",
    "\n",
    "\n",
    "# Import required modules\n",
    "import kso_utils.tutorials_utils as t_utils\n",
    "import kso_utils.project_utils as p_utils\n",
    "import kso_utils.t1_utils as t1\n",
    "from kso_utils.project import ProjectProcessor\n",
    "\n",
    "\n",
    "print(\"Packages loaded successfully\")"
   ]
  },
  {
   "cell_type": "code",
   "execution_count": null,
   "id": "1c1aabda",
   "metadata": {
    "cellView": "form",
    "id": "1c1aabda"
   },
   "outputs": [],
   "source": [
    "# @title <font size=\"5\">↓ ឵឵<i>Choose your project</font> { vertical-output: true }\n",
    "\n",
    "project_name = t_utils.choose_project()"
   ]
  },
  {
   "cell_type": "code",
   "execution_count": null,
   "id": "798cc9e1",
   "metadata": {
    "cellView": "form",
    "id": "798cc9e1"
   },
   "outputs": [],
   "source": [
    "# @title <font size=\"5\">↓ ឵឵<i>Initiate project's database</font> { vertical-output: true }\n",
    "# Save the name of the project\n",
    "project = p_utils.find_project(project_name=project_name.value)\n",
    "# Initiate pp\n",
    "pp = ProjectProcessor(project)"
   ]
  },
  {
   "cell_type": "markdown",
   "id": "52f976b8",
   "metadata": {
    "id": "52f976b8"
   },
   "source": [
    "# Review Sites"
   ]
  },
  {
   "cell_type": "code",
   "execution_count": null,
   "id": "J9Dm5_ghmJ3_",
   "metadata": {
    "cellView": "form",
    "id": "J9Dm5_ghmJ3_"
   },
   "outputs": [],
   "source": [
    "# @title <font size=\"5\">↓ ឵឵<i>Map sites and metadata</font> { vertical-output: true }\n",
    "pp.map_sites()"
   ]
  },
  {
   "cell_type": "markdown",
   "id": "ZT3fYTkRhJx1",
   "metadata": {
    "id": "ZT3fYTkRhJx1"
   },
   "source": [
    "## Manually update sites metadata"
   ]
  },
  {
   "cell_type": "code",
   "execution_count": null,
   "id": "IQmvKQPyLR5d",
   "metadata": {
    "cellView": "form",
    "id": "IQmvKQPyLR5d"
   },
   "outputs": [],
   "source": [
    "# @title <font size=\"5\">↓ ឵឵<i>Select the range of sites to display</font> { vertical-output: true }\n",
    "sites_df, sites_range_rows, sites_range_columns = pp.select_meta_range(meta_key=\"sites\")"
   ]
  },
  {
   "cell_type": "code",
   "execution_count": null,
   "id": "9b01ccf5",
   "metadata": {
    "cellView": "form",
    "id": "9b01ccf5"
   },
   "outputs": [],
   "source": [
    "# @title <font size=\"5\">↓ ឵឵<i>Update the contents of the cells in the spreadsheet below as needed</font> { vertical-output: true }\n",
    "\n",
    "sites_df_filtered, sites_sheet = t1.open_csv(\n",
    "    df=sites_df, df_range_rows=sites_range_rows, df_range_columns=sites_range_columns\n",
    ")\n",
    "\n",
    "sites_sheet"
   ]
  },
  {
   "cell_type": "code",
   "execution_count": null,
   "id": "n5g_Fiq2qHdt",
   "metadata": {
    "cellView": "form",
    "id": "n5g_Fiq2qHdt"
   },
   "outputs": [],
   "source": [
    "# @title <font size=\"5\">↓ ឵឵<i>Review the changes</font> { vertical-output: true }\n",
    "\n",
    "# Display the changes\n",
    "sites_sheet_df = pp.view_meta_changes(df_filtered=sites_df_filtered, sheet=sites_sheet)"
   ]
  },
  {
   "cell_type": "code",
   "execution_count": null,
   "id": "H9EQfoINVwFV",
   "metadata": {
    "cellView": "form",
    "id": "H9EQfoINVwFV"
   },
   "outputs": [],
   "source": [
    "# @title <font size=\"5\">↓ ឵឵<i>Confirm or deny the changes</font> { vertical-output: true }\n",
    "\n",
    "# Confirm or deny the changes\n",
    "pp.update_meta(sites_sheet_df, \"sites\")"
   ]
  },
  {
   "cell_type": "markdown",
   "id": "4b134a5c",
   "metadata": {
    "id": "4b134a5c"
   },
   "source": [
    "# Review Movies"
   ]
  },
  {
   "cell_type": "code",
   "execution_count": null,
   "id": "TzPzkdzZwwY9",
   "metadata": {
    "cellView": "form",
    "id": "TzPzkdzZwwY9"
   },
   "outputs": [],
   "source": [
    "# @title <font size=\"5\">↓ ឵឵<i>Retrieve info of movies available on the server</font> { vertical-output: true }\n",
    "pp.get_movie_info()"
   ]
  },
  {
   "cell_type": "markdown",
   "id": "CtTfD4tF6ouw",
   "metadata": {
    "id": "CtTfD4tF6ouw"
   },
   "source": [
    "## Preview movies"
   ]
  },
  {
   "cell_type": "code",
   "execution_count": null,
   "id": "SbN566ha7R6n",
   "metadata": {
    "cellView": "form",
    "id": "SbN566ha7R6n"
   },
   "outputs": [],
   "source": [
    "# @title <font size=\"5\">↓ ឵឵<i>Display the movie</font> { vertical-output: true }\n",
    "pp.preview_media()"
   ]
  },
  {
   "cell_type": "markdown",
   "id": "zOyenRrL5oFK",
   "metadata": {
    "id": "zOyenRrL5oFK"
   },
   "source": [
    "## Automatic check of movies metadata"
   ]
  },
  {
   "cell_type": "code",
   "execution_count": null,
   "id": "tgKWLhdx8SmI",
   "metadata": {
    "cellView": "form",
    "id": "tgKWLhdx8SmI"
   },
   "outputs": [],
   "source": [
    "# @title <font size=\"5\">↓ ឵឵<i>Choose the review method</font> { vertical-output: true }\n",
    "review_method = t1.choose_movie_review()"
   ]
  },
  {
   "cell_type": "code",
   "execution_count": null,
   "id": "VwD4ZZ1Hnd1x",
   "metadata": {
    "cellView": "form",
    "id": "VwD4ZZ1Hnd1x"
   },
   "outputs": [],
   "source": [
    "# @title <font size=\"5\">↓ ឵឵<i>Specify the GPU availability</font> { vertical-output: true }\n",
    "gpu_available = t_utils.gpu_select()"
   ]
  },
  {
   "cell_type": "code",
   "execution_count": null,
   "id": "yODAkAPk3zDT",
   "metadata": {
    "cellView": "form",
    "id": "yODAkAPk3zDT"
   },
   "outputs": [],
   "source": [
    "# @title <font size=\"5\">↓ ឵឵<i>Check and update the movies information</font> { vertical-output: true }\n",
    "pp.check_movies_meta(review_method=review_method.value, gpu=gpu_available.result)"
   ]
  },
  {
   "cell_type": "markdown",
   "id": "eTe97bOn4790",
   "metadata": {
    "id": "eTe97bOn4790"
   },
   "source": [
    "## Manually update movies metadata"
   ]
  },
  {
   "cell_type": "code",
   "execution_count": null,
   "id": "-iWD0Jf547BN",
   "metadata": {
    "cellView": "form",
    "id": "-iWD0Jf547BN"
   },
   "outputs": [],
   "source": [
    "# @title <font size=\"5\">↓ ឵឵<i>Select the range of movies to display</font> { vertical-output: true }\n",
    "movies_df, movies_range_rows, movies_range_columns = pp.select_meta_range(\n",
    "    meta_key=\"movies\"\n",
    ")"
   ]
  },
  {
   "cell_type": "code",
   "execution_count": null,
   "id": "oOaC2-LE6UHv",
   "metadata": {
    "cellView": "form",
    "id": "oOaC2-LE6UHv"
   },
   "outputs": [],
   "source": [
    "# @title <font size=\"5\">↓ ឵឵<i>Update the contents of the cells in the spreadsheet below as needed</font> { vertical-output: true }\n",
    "movies_df_filtered, movies_sheet = t1.open_csv(\n",
    "    df=movies_df, df_range_rows=movies_range_rows, df_range_columns=movies_range_columns\n",
    ")\n",
    "movies_sheet"
   ]
  },
  {
   "cell_type": "code",
   "execution_count": null,
   "id": "izEvb7la6K7D",
   "metadata": {
    "cellView": "form",
    "id": "izEvb7la6K7D"
   },
   "outputs": [],
   "source": [
    "# @title <font size=\"5\">↓ ឵឵<i>Review the changes</font> { vertical-output: true }\n",
    "\n",
    "movies_sheet_df = pp.view_meta_changes(\n",
    "    df_filtered=movies_df_filtered, sheet=movies_sheet\n",
    ")"
   ]
  },
  {
   "cell_type": "code",
   "execution_count": null,
   "id": "Kd7Od4VfBln5",
   "metadata": {
    "cellView": "form",
    "id": "Kd7Od4VfBln5"
   },
   "outputs": [],
   "source": [
    "# @title <font size=\"5\">↓ ឵឵<i>Confirm or deny the changes</font> { vertical-output: true }\n",
    "# Confirm or deny the changes\n",
    "pp.update_meta(movies_sheet_df, \"movies\")"
   ]
  },
  {
   "cell_type": "markdown",
   "id": "tyKSJHRq3kog",
   "metadata": {
    "id": "tyKSJHRq3kog"
   },
   "source": [
    "# Review species"
   ]
  },
  {
   "cell_type": "code",
   "execution_count": null,
   "id": "OTGLqqdjusy5",
   "metadata": {
    "cellView": "form",
    "id": "OTGLqqdjusy5"
   },
   "outputs": [],
   "source": [
    "# @title <font size=\"5\">↓ ឵឵<i>Automatically check the species dataframe</font> { vertical-output: true }\n",
    "species_sheet_df = pp.check_species_meta()"
   ]
  },
  {
   "cell_type": "markdown",
   "id": "yKpoX8DUvHDs",
   "metadata": {
    "id": "yKpoX8DUvHDs"
   },
   "source": [
    "## Manually update species dataframe"
   ]
  },
  {
   "cell_type": "code",
   "execution_count": null,
   "id": "b78b2738",
   "metadata": {
    "cellView": "form",
    "id": "b78b2738"
   },
   "outputs": [],
   "source": [
    "# @title <font size=\"5\">↓ ឵឵<i>Select the range of species to display</font> { vertical-output: true }\n",
    "species_df, species_range_rows, species_range_columns = pp.select_meta_range(\n",
    "    meta_key=\"species\"\n",
    ")"
   ]
  },
  {
   "cell_type": "code",
   "execution_count": null,
   "id": "zvl2ZNO5vXYi",
   "metadata": {
    "cellView": "form",
    "id": "zvl2ZNO5vXYi"
   },
   "outputs": [],
   "source": [
    "# @title <font size=\"5\">↓ ឵឵<i>Update the contents of the cells in the spreadsheet below as needed</font> { vertical-output: true }\n",
    "\n",
    "species_df_filtered, species_sheet = t1.open_csv(\n",
    "    df=species_df,\n",
    "    df_range_rows=species_range_rows,\n",
    "    df_range_columns=species_range_columns,\n",
    ")\n",
    "species_sheet"
   ]
  },
  {
   "cell_type": "code",
   "execution_count": null,
   "id": "Niq_2WZlvlE9",
   "metadata": {
    "cellView": "form",
    "id": "Niq_2WZlvlE9"
   },
   "outputs": [],
   "source": [
    "# @title <font size=\"5\">↓ ឵឵<i>Review the changes</font> { vertical-output: true }\n",
    "\n",
    "# Display the changes\n",
    "species_sheet_df = pp.view_meta_changes(\n",
    "    df_filtered=species_df_filtered, sheet=species_sheet\n",
    ")"
   ]
  },
  {
   "cell_type": "code",
   "execution_count": null,
   "id": "cGHj7CkKuhcC",
   "metadata": {
    "cellView": "form",
    "id": "cGHj7CkKuhcC"
   },
   "outputs": [],
   "source": [
    "# @title <font size=\"5\">↓ ឵឵<i>Confirm or deny the changes</font> { vertical-output: true }\n",
    "\n",
    "# Confirm or deny the changes\n",
    "pp.update_meta(sites_sheet_df, \"species\")"
   ]
  },
  {
   "cell_type": "code",
   "execution_count": null,
   "id": "5fc74ec0",
   "metadata": {
    "id": "5fc74ec0"
   },
   "outputs": [],
   "source": [
    "# END"
   ]
  }
 ],
 "metadata": {
  "colab": {
   "provenance": []
  },
  "kernelspec": {
   "display_name": "Python 3 (ipykernel)",
   "language": "python",
   "name": "python3"
  },
  "language_info": {
   "codemirror_mode": {
    "name": "ipython",
    "version": 3
   },
   "file_extension": ".py",
   "mimetype": "text/x-python",
   "name": "python",
   "nbconvert_exporter": "python",
   "pygments_lexer": "ipython3",
   "version": "3.8.16"
  },
  "vscode": {
   "interpreter": {
    "hash": "9f0064b85a3bc365415745ead9abb78ac240c43fe3a2a9861333bea64f4ce941"
   }
  }
 },
 "nbformat": 4,
 "nbformat_minor": 5
}
