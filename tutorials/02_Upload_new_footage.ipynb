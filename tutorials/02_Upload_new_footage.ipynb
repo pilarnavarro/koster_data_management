{
 "cells": [
  {
   "cell_type": "markdown",
   "id": "1e01b4c4",
   "metadata": {},
   "source": [
    "Latest update: 2022-12-09 16:39:50.031469"
   ]
  },
  {
   "cell_type": "markdown",
   "id": "7331d0cf",
   "metadata": {},
   "source": [
    "<a href=\"https://colab.research.google.com/github/ocean-data-factory-sweden/kso-data-management/blob/main/tutorials/02_Upload_new_footage.ipynb\" target=\"_parent\"><img src=\"https://colab.research.google.com/assets/colab-badge.svg\" alt=\"Open In Colab\"/></a>"
   ]
  },
  {
   "cell_type": "markdown",
   "id": "95aea466",
   "metadata": {
    "id": "95aea466"
   },
   "source": [
    "<img align=\"left\" src=\"https://panoptes-uploads.zooniverse.org/project_avatar/86c23ca7-bbaa-4e84-8d8a-876819551431.png\" type=\"image/png\" height=100 width=100>\n",
    "</img>\n",
    "\n",
    "\n",
    "<h1 align=\"right\">Colab KSO Tutorials #2: Upload new footage</h1>\n",
    "<h3 align=\"right\">Written by @jannesgg and @vykanton</h3>"
   ]
  },
  {
   "cell_type": "markdown",
   "id": "6f0fc779",
   "metadata": {
    "id": "6f0fc779"
   },
   "source": [
    "# Set up and requirements"
   ]
  },
  {
   "cell_type": "markdown",
   "id": "r54trOEB7NbS",
   "metadata": {
    "id": "r54trOEB7NbS"
   },
   "source": [
    "## Install kso_data_management and its requirements"
   ]
  },
  {
   "cell_type": "code",
   "execution_count": 1,
   "id": "HhjhiS28s3yx",
   "metadata": {
    "id": "HhjhiS28s3yx"
   },
   "outputs": [
    {
     "name": "stdout",
     "output_type": "stream",
     "text": [
      "Running locally... you're good to go!\n"
     ]
    }
   ],
   "source": [
    "from IPython.display import clear_output\n",
    "\n",
    "try:\n",
    "    import google.colab\n",
    "    import os\n",
    "\n",
    "    IN_COLAB = True\n",
    "    print(\"Running in Colab...\")\n",
    "\n",
    "    # Clone kso-data-management repo\n",
    "    !git clone --quiet --recurse-submodules -b main https://github.com/ocean-data-factory-sweden/kso-data-management.git\n",
    "    !pip install -q --upgrade pip\n",
    "    !pip install -q -r kso-data-management/requirements.txt\n",
    "\n",
    "    # Fix libmagic issue\n",
    "    !apt-get -qq update && apt-get -qq install -y libmagic-dev > /dev/null\n",
    "\n",
    "    # Enable external widgets\n",
    "    from google.colab import output\n",
    "\n",
    "    output.enable_custom_widget_manager()\n",
    "\n",
    "    os.chdir(\"kso-data-management/tutorials\")\n",
    "    try:\n",
    "        clear_output()\n",
    "        print(\"All packages are installed and ready to go!\")\n",
    "    except:\n",
    "        clear_output()\n",
    "        print(\"There have been some issues installing the packages!\")\n",
    "except:\n",
    "    IN_COLAB = False\n",
    "    import sys\n",
    "\n",
    "    # Install requirements\n",
    "    !pip install -q --no-warn-script-location --upgrade pip\n",
    "    !pip install -qr ../requirements.txt\n",
    "\n",
    "    !jupyter nbextension install --user --py widgetsnbextension\n",
    "    !jupyter nbextension enable --user --py widgetsnbextension\n",
    "    !jupyter nbextension install --user --py jupyter_bbox_widget\n",
    "    !jupyter nbextension enable --user --py jupyter_bbox_widget\n",
    "    !jupyter nbextension enable --user --py ipysheet\n",
    "\n",
    "    clear_output()\n",
    "    print(\"Running locally... you're good to go!\")"
   ]
  },
  {
   "cell_type": "markdown",
   "id": "crpDygSI7898",
   "metadata": {
    "id": "crpDygSI7898"
   },
   "source": [
    "### Import Python packages"
   ]
  },
  {
   "cell_type": "code",
   "execution_count": 2,
   "id": "ZdzSznf_sOkr",
   "metadata": {
    "id": "ZdzSznf_sOkr"
   },
   "outputs": [
    {
     "name": "stdout",
     "output_type": "stream",
     "text": [
      "Packages loaded successfully\n"
     ]
    }
   ],
   "source": [
    "# Set the directory of the libraries\n",
    "import sys, os\n",
    "from pathlib import Path\n",
    "\n",
    "# Enables testing changes in utils\n",
    "%load_ext autoreload\n",
    "%autoreload 2\n",
    "\n",
    "# Specify the path of the tutorials\n",
    "# os.chdir(\"kso_dev\")\n",
    "# sys.path.append(\"/usr/src/app/kso_dev\")\n",
    "sys.path.insert(1, \"/usr/src/app/kso_dev\")\n",
    "\n",
    "\n",
    "# Enable third party widgets\n",
    "if IN_COLAB:\n",
    "    from google.colab import output\n",
    "\n",
    "    output.enable_custom_widget_manager()\n",
    "\n",
    "# Import required modules\n",
    "import kso_utils.tutorials_utils as t_utils\n",
    "import kso_utils.t2_utils as t2\n",
    "import kso_utils.project_utils as p_utils\n",
    "import kso_utils.server_utils as serv_utils\n",
    "\n",
    "# import kso_utils.server_utils as serv_utils\n",
    "\n",
    "print(\"Packages loaded successfully\")"
   ]
  },
  {
   "cell_type": "markdown",
   "id": "77996901",
   "metadata": {
    "id": "77996901"
   },
   "source": [
    "## Choose your project"
   ]
  },
  {
   "cell_type": "code",
   "execution_count": 3,
   "id": "eafe82e7",
   "metadata": {
    "id": "eafe82e7"
   },
   "outputs": [
    {
     "data": {
      "application/vnd.jupyter.widget-view+json": {
       "model_id": "72dff33d6e9e471fb6cd2b0fb441e486",
       "version_major": 2,
       "version_minor": 0
      },
      "text/plain": [
       "Dropdown(description='Project:', options=('Template project', 'Koster_Seafloor_Obs', 'Spyfish_Aotearoa', 'SGU'…"
      ]
     },
     "metadata": {},
     "output_type": "display_data"
    }
   ],
   "source": [
    "project_name = t_utils.choose_project()"
   ]
  },
  {
   "cell_type": "markdown",
   "id": "46c3d19e",
   "metadata": {
    "id": "46c3d19e"
   },
   "source": [
    "## Initiate sql and get server or local storage details"
   ]
  },
  {
   "cell_type": "code",
   "execution_count": 4,
   "id": "33d744a9",
   "metadata": {
    "id": "33d744a9"
   },
   "outputs": [
    {
     "name": "stderr",
     "output_type": "stream",
     "text": [
      "INFO:root:Koster_Seafloor_Obs loaded succesfully\n"
     ]
    },
    {
     "name": "stdout",
     "output_type": "stream",
     "text": [
      "Enter your username for SNIC server········\n",
      "Enter your password for SNIC server········\n"
     ]
    },
    {
     "name": "stderr",
     "output_type": "stream",
     "text": [
      "INFO:paramiko.transport:Connected (version 2.0, client OpenSSH_8.0)\n",
      "INFO:paramiko.transport:Authentication (password) successful!\n",
      "INFO:paramiko.transport:Connected (version 2.0, client OpenSSH_8.0)\n",
      "INFO:paramiko.transport:Authentication (password) successful!\n",
      "INFO:paramiko.transport.sftp:[chan 0] Opened sftp connection (server version 3)\n",
      "INFO:root:Updated sites\n",
      "INFO:root:Updated movies\n",
      "INFO:root:Updated species\n"
     ]
    }
   ],
   "source": [
    "# Save project name\n",
    "project = p_utils.find_project(project_name=project_name.value)\n",
    "# Initiate db\n",
    "db_info_dict = t_utils.initiate_db(project)"
   ]
  },
  {
   "cell_type": "markdown",
   "id": "1a9ffb27",
   "metadata": {
    "id": "1a9ffb27"
   },
   "source": [
    "# Select the survey linked to the videos"
   ]
  },
  {
   "cell_type": "code",
   "execution_count": null,
   "id": "a2d26b4f",
   "metadata": {
    "id": "a2d26b4f"
   },
   "outputs": [],
   "source": [
    "survey_i = t2.select_survey(db_info_dict)"
   ]
  },
  {
   "cell_type": "code",
   "execution_count": null,
   "id": "eeaf83b5",
   "metadata": {
    "id": "eeaf83b5"
   },
   "outputs": [],
   "source": [
    "survey_name = t2.confirm_survey(survey_i, db_info_dict)"
   ]
  },
  {
   "cell_type": "markdown",
   "id": "f401dba3",
   "metadata": {
    "id": "f401dba3"
   },
   "source": [
    "## Select new deployments"
   ]
  },
  {
   "cell_type": "markdown",
   "id": "18hzxd8bFxZy",
   "metadata": {
    "id": "18hzxd8bFxZy"
   },
   "source": [
    "To save time you can select multiple deployments **recorded on the same day**"
   ]
  },
  {
   "cell_type": "code",
   "execution_count": null,
   "id": "RMikSz_oEdJQ",
   "metadata": {
    "id": "RMikSz_oEdJQ"
   },
   "outputs": [],
   "source": [
    "deployment_selected, survey_row, survey_server_name = t2.select_deployment(\n",
    "    project=project, db_info_dict=db_info_dict, survey_i=survey_i\n",
    ")"
   ]
  },
  {
   "cell_type": "markdown",
   "id": "siCS6I-5RnT2",
   "metadata": {
    "id": "siCS6I-5RnT2"
   },
   "source": [
    "## Specify the date of the deployments"
   ]
  },
  {
   "cell_type": "code",
   "execution_count": null,
   "id": "fFZ9vSOiHKlr",
   "metadata": {
    "id": "fFZ9vSOiHKlr"
   },
   "outputs": [],
   "source": [
    "deployment_date = t2.select_eventdate(survey_row)"
   ]
  },
  {
   "cell_type": "markdown",
   "id": "ZPKJ7ZovR86O",
   "metadata": {
    "id": "ZPKJ7ZovR86O"
   },
   "source": [
    "## Check the database to avoid deployment duplicates"
   ]
  },
  {
   "cell_type": "code",
   "execution_count": null,
   "id": "hyBpGROxIaRM",
   "metadata": {
    "id": "hyBpGROxIaRM"
   },
   "outputs": [],
   "source": [
    "deployment_names = t2.check_deployment(\n",
    "    deployment_selected, deployment_date, survey_server_name, db_info_dict, survey_i\n",
    ")"
   ]
  },
  {
   "cell_type": "markdown",
   "id": "pK_CZFhmj0bn",
   "metadata": {
    "id": "pK_CZFhmj0bn"
   },
   "source": [
    "## Update new deployment files"
   ]
  },
  {
   "cell_type": "code",
   "execution_count": null,
   "id": "RLkTUdzesK1-",
   "metadata": {
    "id": "RLkTUdzesK1-"
   },
   "outputs": [],
   "source": [
    "movie_files_server = t2.update_new_deployments(\n",
    "    deployment_filenames=deployment_names,\n",
    "    db_info_dict=db_info_dict,\n",
    "    survey_server_name=survey_server_name,\n",
    "    deployment_date=deployment_date,\n",
    ")"
   ]
  },
  {
   "cell_type": "markdown",
   "id": "5a9faf7c",
   "metadata": {
    "id": "5a9faf7c"
   },
   "source": [
    "## Specify deployment details"
   ]
  },
  {
   "cell_type": "code",
   "execution_count": null,
   "id": "14ca7029",
   "metadata": {
    "id": "14ca7029",
    "scrolled": true
   },
   "outputs": [],
   "source": [
    "deployment_info = t2.record_deployment_info(deployment_names, db_info_dict)"
   ]
  },
  {
   "cell_type": "markdown",
   "id": "08a5b78d",
   "metadata": {
    "id": "08a5b78d"
   },
   "source": [
    "## Review deployment  details"
   ]
  },
  {
   "cell_type": "code",
   "execution_count": null,
   "id": "463e7131",
   "metadata": {
    "id": "463e7131"
   },
   "outputs": [],
   "source": [
    "new_deployment_row = t2.confirm_deployment_details(\n",
    "    deployment_names,\n",
    "    survey_server_name,\n",
    "    db_info_dict,\n",
    "    survey_i,\n",
    "    deployment_info,\n",
    "    movie_files_server,\n",
    "    deployment_date,\n",
    ")"
   ]
  },
  {
   "cell_type": "markdown",
   "id": "098afca0",
   "metadata": {
    "id": "098afca0"
   },
   "source": [
    "# !!!Only pass this point if deployment details are correct!!!"
   ]
  },
  {
   "cell_type": "markdown",
   "id": "21e2d0b9",
   "metadata": {
    "id": "21e2d0b9"
   },
   "source": [
    "### Update movies csv and upload video to s3"
   ]
  },
  {
   "cell_type": "code",
   "execution_count": null,
   "id": "549375bf",
   "metadata": {
    "id": "549375bf"
   },
   "outputs": [],
   "source": [
    "t2.upload_concat_movie(db_info_dict, new_deployment_row)"
   ]
  },
  {
   "cell_type": "markdown",
   "id": "96961ecc",
   "metadata": {},
   "source": [
    "# Upload movies to SNIC"
   ]
  },
  {
   "cell_type": "markdown",
   "id": "b8816b76",
   "metadata": {},
   "source": [
    "### Choose files to upload"
   ]
  },
  {
   "cell_type": "code",
   "execution_count": 5,
   "id": "55416de5",
   "metadata": {},
   "outputs": [
    {
     "name": "stdout",
     "output_type": "stream",
     "text": [
      "Choose the file that you want to upload: \n"
     ]
    },
    {
     "data": {
      "application/vnd.jupyter.widget-view+json": {
       "model_id": "3211039e0a0a43bfbd016dd9e4a0b972",
       "version_major": 2,
       "version_minor": 0
      },
      "text/plain": [
       "FileChooser(path='/usr/src/app/kso_dev/tutorials', filename='', title='HTML(value='', layout=Layout(display='n…"
      ]
     },
     "metadata": {},
     "output_type": "display_data"
    },
    {
     "name": "stdout",
     "output_type": "stream",
     "text": [
      "Showing paths to the selected movies:\n",
      "Rerun cell to reset\n",
      "--------------\n"
     ]
    },
    {
     "data": {
      "application/vnd.jupyter.widget-view+json": {
       "model_id": "e2db94842472410f8a28e956e8e66187",
       "version_major": 2,
       "version_minor": 0
      },
      "text/plain": [
       "Button(description='Add selected file', style=ButtonStyle())"
      ]
     },
     "metadata": {},
     "output_type": "display_data"
    },
    {
     "data": {
      "application/vnd.jupyter.widget-view+json": {
       "model_id": "c548b44e7a0b4062abbebc70c1f64078",
       "version_major": 2,
       "version_minor": 0
      },
      "text/plain": [
       "Output()"
      ]
     },
     "metadata": {},
     "output_type": "display_data"
    }
   ],
   "source": [
    "movie_list = t2.choose_new_videos_to_upload()"
   ]
  },
  {
   "cell_type": "markdown",
   "id": "ec58d6e6",
   "metadata": {},
   "source": [
    "### Upload the videos and add metadata"
   ]
  },
  {
   "cell_type": "code",
   "execution_count": 6,
   "id": "8e9d4099",
   "metadata": {},
   "outputs": [
    {
     "name": "stdout",
     "output_type": "stream",
     "text": [
      "movie to be uploaded: movie_1_processed.mp4\n"
     ]
    },
    {
     "name": "stderr",
     "output_type": "stream",
     "text": [
      "100%|##########| 30.8k/30.8k [00:00<00:00, 1.88Mb/s]"
     ]
    },
    {
     "name": "stdout",
     "output_type": "stream",
     "text": [
      "movie uploaded\n",
      "\n",
      "All movies uploaded:\n",
      "\n",
      "Complete this sheet by filling the missing info on the movie you just uploaded\n"
     ]
    },
    {
     "name": "stderr",
     "output_type": "stream",
     "text": [
      "\n"
     ]
    },
    {
     "data": {
      "application/vnd.jupyter.widget-view+json": {
       "model_id": "87126ff219354b52a95059d4cf0fbbc1",
       "version_major": 2,
       "version_minor": 0
      },
      "text/plain": [
       "Sheet(cells=(Cell(column_end=0, column_start=0, row_end=0, row_start=0, type='text', value='127'), Cell(column…"
      ]
     },
     "metadata": {},
     "output_type": "display_data"
    }
   ],
   "source": [
    "new_movie_rows_sheet = t2.upload_new_movies_to_snic(db_info_dict, movie_list)"
   ]
  },
  {
   "cell_type": "markdown",
   "id": "69b36b05",
   "metadata": {},
   "source": [
    "### concatenate previous data with new rows\n"
   ]
  },
  {
   "cell_type": "code",
   "execution_count": 7,
   "id": "06f88a75",
   "metadata": {},
   "outputs": [],
   "source": [
    "df_with_new_rows = t2.add_new_rows_to_csv(db_info_dict, new_movie_rows_sheet)"
   ]
  },
  {
   "cell_type": "markdown",
   "id": "1cb8910b",
   "metadata": {},
   "source": [
    "### Create the local updated csv"
   ]
  },
  {
   "cell_type": "code",
   "execution_count": 12,
   "id": "b31f1f3c",
   "metadata": {},
   "outputs": [
    {
     "name": "stdout",
     "output_type": "stream",
     "text": [
      "/cephyr/NOBACKUP/groups/snic2021-6-9/tmp_dir/local_dir_devmovies_koster_updated.csv\n"
     ]
    },
    {
     "name": "stderr",
     "output_type": "stream",
     "text": [
      "100%|##########| 10.2k/10.2k [00:00<00:00, 1.62Mb/s]\n"
     ]
    }
   ],
   "source": [
    "# update the csv\n",
    "\n",
    "updated_csv = \"movies_koster_updated.csv\"\n",
    "updated_csv_path = (\n",
    "    \"/cephyr/NOBACKUP/groups/snic2021-6-9/tmp_dir/local_dir_dev/\" + updated_csv\n",
    ")\n",
    "orig_csv = db_info_dict[\"local_movies_csv\"].name\n",
    "csv_with_new_rows = df_with_new_rows.to_csv(updated_csv_path)"
   ]
  },
  {
   "cell_type": "markdown",
   "id": "3d4e9939",
   "metadata": {},
   "source": [
    "### upload the csv to the server"
   ]
  },
  {
   "cell_type": "code",
   "execution_count": null,
   "id": "56e38362",
   "metadata": {},
   "outputs": [],
   "source": [
    "serv_utils.update_csv_server(project, db_info_dict, orig_csv, updated_csv)"
   ]
  },
  {
   "cell_type": "code",
   "execution_count": null,
   "id": "a004889d",
   "metadata": {
    "id": "a004889d"
   },
   "outputs": [],
   "source": [
    "# END"
   ]
  },
  {
   "cell_type": "markdown",
   "id": "8c11c7d3",
   "metadata": {},
   "source": [
    "### Todo:\n",
    "multiselect videos"
   ]
  }
 ],
 "metadata": {
  "colab": {
   "collapsed_sections": [],
   "name": "COLAB_2_Upload_new_footage.ipynb",
   "provenance": []
  },
  "kernelspec": {
   "display_name": "Python 3 (ipykernel)",
   "language": "python",
   "name": "python3"
  },
  "language_info": {
   "codemirror_mode": {
    "name": "ipython",
    "version": 3
   },
   "file_extension": ".py",
   "mimetype": "text/x-python",
   "name": "python",
   "nbconvert_exporter": "python",
   "pygments_lexer": "ipython3",
   "version": "3.8.15"
  },
  "vscode": {
   "interpreter": {
    "hash": "1b96f41d5f4691810361bcb1fbe65a430032a17864adb5c442d2f5d54834ac21"
   }
  }
 },
 "nbformat": 4,
 "nbformat_minor": 5
}
