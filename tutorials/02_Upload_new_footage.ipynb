{
  "cells": [
    {
      "cell_type": "markdown",
      "id": "1e01b4c4",
      "metadata": {
        "id": "1e01b4c4"
      },
      "source": [
        "Latest update: 2022-12-09 16:39:50.031469"
      ]
    },
    {
      "cell_type": "markdown",
      "id": "7331d0cf",
      "metadata": {
        "id": "7331d0cf"
      },
      "source": [
        "<a href=\"https://colab.research.google.com/github/ocean-data-factory-sweden/kso-data-management/blob/main/tutorials/02_Upload_new_footage.ipynb\" target=\"_parent\"><img src=\"https://colab.research.google.com/assets/colab-badge.svg\" alt=\"Open In Colab\"/></a>"
      ]
    },
    {
      "cell_type": "markdown",
      "id": "95aea466",
      "metadata": {
        "id": "95aea466"
      },
      "source": [
        "<img align=\"left\" src=\"https://panoptes-uploads.zooniverse.org/project_avatar/86c23ca7-bbaa-4e84-8d8a-876819551431.png\" type=\"image/png\" height=100 width=100>\n",
        "</img>\n",
        "\n",
        "\n",
        "<h1 align=\"right\">Colab KSO Tutorials #2: Upload new footage</h1>\n",
        "<h3 align=\"right\">Written by the KSO team</h3>"
      ]
    },
    {
      "cell_type": "markdown",
      "id": "6f0fc779",
      "metadata": {
        "id": "6f0fc779"
      },
      "source": [
        "# Set up and requirements"
      ]
    },
    {
      "cell_type": "code",
      "execution_count": null,
      "id": "HhjhiS28s3yx",
      "metadata": {
        "id": "HhjhiS28s3yx",
        "outputId": "659b08c8-749c-4864-e090-1b5aae3340a5",
        "colab": {
          "base_uri": "https://localhost:8080/"
        }
      },
      "outputs": [
        {
          "output_type": "stream",
          "name": "stdout",
          "text": [
            "Running in Colab...\n",
            "\u001b[2K     \u001b[90m━━━━━━━━━━━━━━━━━━━━━━━━━━━━━━━━━━━━━━━━\u001b[0m \u001b[32m2.1/2.1 MB\u001b[0m \u001b[31m19.2 MB/s\u001b[0m eta \u001b[36m0:00:00\u001b[0m\n",
            "\u001b[?25h  Preparing metadata (setup.py) ... \u001b[?25l\u001b[?25hdone\n",
            "\u001b[2K     \u001b[90m━━━━━━━━━━━━━━━━━━━━━━━━━━━━━━━━━━━━━━━\u001b[0m \u001b[32m44.5/44.5 kB\u001b[0m \u001b[31m562.6 kB/s\u001b[0m eta \u001b[36m0:00:00\u001b[0m\n",
            "\u001b[2K     \u001b[90m━━━━━━━━━━━━━━━━━━━━━━━━━━━━━━━━━━━━━━━━\u001b[0m \u001b[32m60.3/60.3 MB\u001b[0m \u001b[31m9.1 MB/s\u001b[0m eta \u001b[36m0:00:00\u001b[0m\n",
            "\u001b[?25h"
          ]
        }
      ],
      "source": [
        "# @title <font size=\"5\">↓ ឵឵<i>Install kso_data_management and its requirements</font> { vertical-output: true }\n",
        "\n",
        "from IPython.display import clear_output\n",
        "\n",
        "try:\n",
        "    import google.colab\n",
        "    import os\n",
        "\n",
        "    IN_COLAB = True\n",
        "    print(\"Running in Colab...\")\n",
        "\n",
        "    # Clone kso-data-management repo\n",
        "    !git clone --quiet --recurse-submodules -b main https://github.com/ocean-data-factory-sweden/kso-data-management.git\n",
        "    !pip install -q --upgrade pip\n",
        "    !pip install -q -r kso-data-management/requirements.txt\n",
        "\n",
        "    # Fix libmagic issue\n",
        "    !apt-get -qq update && apt-get -qq install -y libmagic-dev > /dev/null\n",
        "\n",
        "    # Enable external widgets\n",
        "    from google.colab import output\n",
        "\n",
        "    output.enable_custom_widget_manager()\n",
        "\n",
        "    os.chdir(\"kso-data-management/tutorials\")\n",
        "    try:\n",
        "        clear_output()\n",
        "        print(\"All packages are installed and ready to go!\")\n",
        "    except:\n",
        "        clear_output()\n",
        "        print(\"There have been some issues installing the packages!\")\n",
        "except:\n",
        "    IN_COLAB = False\n",
        "    import sys\n",
        "\n",
        "    # Install requirements\n",
        "    !pip install -q --no-warn-script-location --upgrade pip\n",
        "    !pip install -qr ../requirements.txt\n",
        "\n",
        "    !jupyter nbextension install --user --py widgetsnbextension\n",
        "    !jupyter nbextension enable --user --py widgetsnbextension\n",
        "    !jupyter nbextension install --user --py jupyter_bbox_widget\n",
        "    !jupyter nbextension enable --user --py jupyter_bbox_widget\n",
        "    !jupyter nbextension enable --user --py ipysheet\n",
        "\n",
        "    clear_output()\n",
        "    print(\"Running locally... you're good to go!\")\n",
        "\n",
        "#######Import Python packages########\n",
        "# Set the directory of the libraries\n",
        "import sys, os\n",
        "from pathlib import Path\n",
        "\n",
        "# Enables testing changes in utils\n",
        "%load_ext autoreload\n",
        "%autoreload 2\n",
        "\n",
        "# Specify the path of the tutorials\n",
        "sys.path.append(\"..\")\n",
        "\n",
        "\n",
        "# Import required modules\n",
        "import kso_utils.tutorials_utils as t_utils\n",
        "import kso_utils.t2_utils as t2\n",
        "import kso_utils.project_utils as p_utils\n",
        "import kso_utils.server_utils as serv_utils\n",
        "\n",
        "# import kso_utils.server_utils as serv_utils\n",
        "\n",
        "print(\"Packages loaded successfully\")"
      ]
    },
    {
      "cell_type": "markdown",
      "id": "77996901",
      "metadata": {
        "id": "77996901"
      },
      "source": [
        "## Choose your project"
      ]
    },
    {
      "cell_type": "code",
      "execution_count": null,
      "id": "eafe82e7",
      "metadata": {
        "id": "eafe82e7",
        "outputId": "db3a4a43-1db1-474c-d759-456d6f75324b",
        "colab": {
          "referenced_widgets": [
            "a430961a0f434d81b7f55041bd075fc8",
            "894b1d415dbe4fd7a53c6b9e7d62989a",
            "80adee194b6a4b03975458ec879611ca"
          ],
          "base_uri": "https://localhost:8080/",
          "height": 49
        }
      },
      "outputs": [
        {
          "output_type": "display_data",
          "data": {
            "text/plain": [
              "Dropdown(description='Project:', options=('Template project', 'Koster_Seafloor_Obs', 'Spyfish_Aotearoa', 'SGU'…"
            ],
            "application/vnd.jupyter.widget-view+json": {
              "version_major": 2,
              "version_minor": 0,
              "model_id": "a430961a0f434d81b7f55041bd075fc8"
            }
          },
          "metadata": {
            "application/vnd.jupyter.widget-view+json": {
              "colab": {
                "custom_widget_manager": {
                  "url": "https://ssl.gstatic.com/colaboratory-static/widgets/colab-cdn-widget-manager/b3e629b1971e1542/manager.min.js"
                }
              }
            }
          }
        }
      ],
      "source": [
        "project_name = t_utils.choose_project()"
      ]
    },
    {
      "cell_type": "markdown",
      "id": "46c3d19e",
      "metadata": {
        "id": "46c3d19e"
      },
      "source": [
        "## Initiate sql and get server or local storage details"
      ]
    },
    {
      "cell_type": "code",
      "execution_count": null,
      "id": "33d744a9",
      "metadata": {
        "id": "33d744a9",
        "outputId": "a5624b15-72fd-42b9-efc2-1bcde021506e",
        "colab": {
          "base_uri": "https://localhost:8080/"
        }
      },
      "outputs": [
        {
          "output_type": "stream",
          "name": "stderr",
          "text": [
            "INFO:root:Spyfish_Aotearoa loaded succesfully\n"
          ]
        },
        {
          "name": "stdout",
          "output_type": "stream",
          "text": [
            "Enter the key id for the aws server··········\n",
            "Enter the secret access key for the aws server··········\n"
          ]
        },
        {
          "output_type": "stream",
          "name": "stderr",
          "text": [
            "INFO:root:Spyfish_Aotearoa loaded succesfully\n",
            "db_spyfish_csv/sites_buv_doc.csv: 100%|██████████| 180k/180k [00:01<00:00, 159kB/s]\n",
            "db_spyfish_csv/movies_buv_doc.csv: 100%|██████████| 48.2k/48.2k [00:00<00:00, 107kB/s]\n",
            "db_spyfish_csv/species_buv_doc.csv: 100%|██████████| 7.53k/7.53k [00:00<00:00, 16.6kB/s]\n",
            "db_spyfish_csv/surveys_buv_doc.csv: 100%|██████████| 3.73k/3.73k [00:00<00:00, 8.02kB/s]\n",
            "db_spyfish_csv/choices_buv.csv: 100%|██████████| 3.58k/3.58k [00:00<00:00, 7.68kB/s]\n",
            "INFO:root:Updated sites\n",
            "INFO:root:Updated movies\n",
            "INFO:root:Updated species\n"
          ]
        }
      ],
      "source": [
        "# Save project name\n",
        "project = p_utils.find_project(project_name=project_name.value)\n",
        "# Initiate db\n",
        "db_info_dict = t_utils.initiate_db(project)"
      ]
    },
    {
      "cell_type": "markdown",
      "id": "1a9ffb27",
      "metadata": {
        "id": "1a9ffb27"
      },
      "source": [
        "# Select the survey linked to the videos"
      ]
    },
    {
      "cell_type": "code",
      "execution_count": null,
      "id": "a2d26b4f",
      "metadata": {
        "id": "a2d26b4f",
        "colab": {
          "base_uri": "https://localhost:8080/",
          "height": 81,
          "referenced_widgets": [
            "0f57775edc4e4ef1a336a89adeba77f2",
            "5dcaa08213154eea9958997f372ded3a",
            "a900a3058786469bb5d6d102d257c941",
            "29a9090d528e4b02b9a6ca091f55890c",
            "3e38da1b178f4c6e970878b7cba929af",
            "7af09c982c024c9490f2a5f7a1d09480",
            "31e6a60060e94c948661655226f492c0",
            "4e6b98b33cec43f49d3dfc3033551c69",
            "604d21d1f26842cebb057d292c911a8c",
            "0ed9b8d03fd44007b08e3d91ec19add0"
          ]
        },
        "outputId": "2dab212f-eeec-4f25-e7ec-10136976df56"
      },
      "outputs": [
        {
          "output_type": "display_data",
          "data": {
            "text/plain": [
              "interactive(children=(Dropdown(description='Existing or new survey:', layout=Layout(width='90%'), options=('Ex…"
            ],
            "application/vnd.jupyter.widget-view+json": {
              "version_major": 2,
              "version_minor": 0,
              "model_id": "0f57775edc4e4ef1a336a89adeba77f2"
            }
          },
          "metadata": {
            "application/vnd.jupyter.widget-view+json": {
              "colab": {
                "custom_widget_manager": {
                  "url": "https://ssl.gstatic.com/colaboratory-static/widgets/colab-cdn-widget-manager/b3e629b1971e1542/manager.min.js"
                }
              }
            }
          }
        }
      ],
      "source": [
        "survey_i = t2.select_survey(db_info_dict)"
      ]
    },
    {
      "cell_type": "code",
      "execution_count": null,
      "id": "eeaf83b5",
      "metadata": {
        "id": "eeaf83b5",
        "colab": {
          "base_uri": "https://localhost:8080/",
          "height": 711,
          "referenced_widgets": [
            "06b826ca649e48fc846ea1769d5e34ff",
            "27f8446bf6fe4857905a3cae24b384e4",
            "4d14322014a74cffa34cafd5c31eba04",
            "7a624ac09ff54bb98319221da1aa744f",
            "2c742a45e0ae43fa87f54ae93651e208",
            "aca680be08764aafadcfba6e99301748",
            "4296c24b5abf41479b7301e3a3bb16b5",
            "aa5fdc2462204415aa4fcd963fa06ad7"
          ]
        },
        "outputId": "19781744-487e-4394-cd86-f46f7e2f57be"
      },
      "outputs": [
        {
          "output_type": "stream",
          "name": "stdout",
          "text": [
            "The details of the selected survey are:\n",
            "SurveyID --> BUV_TTR_20210125\n",
            "DateEntry --> 29/11/2021\n",
            "EncoderName --> Monique Ladds\n",
            "SurveyStartDate --> 17/01/2021\n",
            "SurveyName --> BUV Te Tapuwae o Rongokako 2021\n",
            "LinkToMarineReserve --> Te Tapuwae o Rongokako Marine Reserve\n",
            "SurveyLocation --> TTR\n",
            "SurveyType --> BUV\n",
            "Region --> Lower North Island\n",
            "OfficeName --> Turanganui-a-Kiwa / Gisborne Office \n",
            "OfficeContact --> Jamie Quirk\n",
            "ContractorName --> nan\n",
            "ContractNumber --> nan\n",
            "LinkToContract --> nan\n",
            "SurveyLeaderName --> Laura McCartney\n",
            "FishMultiSpecies --> True\n",
            "StratifiedBy --> DepthxHabitat\n",
            "IsLongTermMonitoring --> True\n",
            "SiteSelectionDesign --> Non-random\n",
            "UnitSelectionDesign --> Haphazard\n",
            "RightsHolder --> Department of Conservation\n",
            "AccessRights --> nan\n",
            "SurveyVerbatim --> This survey was conducted over two iterations in January 2021 - it was the first time BUV has been done at this reserve. Not all waypoints were able to be completed. Some issues with frames that need to be fixed for the next survey.\n",
            "BUVType --> Willis frame\n",
            "LinkToPicture --> nan\n",
            "Vessel --> Kaiora\n",
            "LinkToFieldSheets --> nan\n",
            "LinkReport01 --> nan\n",
            "LinkReport02 --> nan\n",
            "LinkReport03 --> nan\n",
            "LinkReport04 --> nan\n",
            "LinkToOriginalData --> nan\n",
            "\n",
            "\n",
            "Are the survey details above correct?\n"
          ]
        },
        {
          "output_type": "display_data",
          "data": {
            "text/plain": [
              "HBox(children=(Button(button_style='danger', description='Yes, details are correct', layout=Layout(width='25%'…"
            ],
            "application/vnd.jupyter.widget-view+json": {
              "version_major": 2,
              "version_minor": 0,
              "model_id": "06b826ca649e48fc846ea1769d5e34ff"
            }
          },
          "metadata": {
            "application/vnd.jupyter.widget-view+json": {
              "colab": {
                "custom_widget_manager": {
                  "url": "https://ssl.gstatic.com/colaboratory-static/widgets/colab-cdn-widget-manager/b3e629b1971e1542/manager.min.js"
                }
              }
            }
          }
        },
        {
          "output_type": "stream",
          "name": "stdout",
          "text": [
            "Great, you can start uploading the movies.\n"
          ]
        }
      ],
      "source": [
        "survey_name = t2.confirm_survey(survey_i, db_info_dict)"
      ]
    },
    {
      "cell_type": "markdown",
      "id": "f401dba3",
      "metadata": {
        "id": "f401dba3"
      },
      "source": [
        "## Select new deployments"
      ]
    },
    {
      "cell_type": "markdown",
      "id": "18hzxd8bFxZy",
      "metadata": {
        "id": "18hzxd8bFxZy"
      },
      "source": [
        "To save time you can select multiple deployments **recorded on the same day**"
      ]
    },
    {
      "cell_type": "code",
      "execution_count": null,
      "id": "RMikSz_oEdJQ",
      "metadata": {
        "id": "RMikSz_oEdJQ",
        "colab": {
          "base_uri": "https://localhost:8080/",
          "height": 111,
          "referenced_widgets": [
            "cf77712d206947a882b33ec5c3521493",
            "698b4c8823c84ab4827034ffc1a732ba",
            "a1b06ceff0a54419b142eaea8e92d285"
          ]
        },
        "outputId": "d9517f62-1d0f-40bc-fcca-5d8afa2c3db1"
      },
      "outputs": [
        {
          "output_type": "display_data",
          "data": {
            "text/plain": [
              "SelectMultiple(description='New deployment:', layout=Layout(width='50%'), options=('0', 'RON', 'RON_0', 'RON_0…"
            ],
            "application/vnd.jupyter.widget-view+json": {
              "version_major": 2,
              "version_minor": 0,
              "model_id": "cf77712d206947a882b33ec5c3521493"
            }
          },
          "metadata": {
            "application/vnd.jupyter.widget-view+json": {
              "colab": {
                "custom_widget_manager": {
                  "url": "https://ssl.gstatic.com/colaboratory-static/widgets/colab-cdn-widget-manager/b3e629b1971e1542/manager.min.js"
                }
              }
            }
          }
        }
      ],
      "source": [
        "deployment_selected, survey_row, survey_server_name = t2.select_deployment(\n",
        "    project=project, db_info_dict=db_info_dict, survey_i=survey_i\n",
        ")"
      ]
    },
    {
      "cell_type": "markdown",
      "id": "siCS6I-5RnT2",
      "metadata": {
        "id": "siCS6I-5RnT2"
      },
      "source": [
        "## Specify the date of the deployments"
      ]
    },
    {
      "cell_type": "code",
      "execution_count": null,
      "id": "fFZ9vSOiHKlr",
      "metadata": {
        "id": "fFZ9vSOiHKlr"
      },
      "outputs": [],
      "source": [
        "deployment_date = t2.select_eventdate(survey_row)"
      ]
    },
    {
      "cell_type": "markdown",
      "id": "ZPKJ7ZovR86O",
      "metadata": {
        "id": "ZPKJ7ZovR86O"
      },
      "source": [
        "## Check the database to avoid deployment duplicates"
      ]
    },
    {
      "cell_type": "code",
      "execution_count": null,
      "id": "hyBpGROxIaRM",
      "metadata": {
        "id": "hyBpGROxIaRM"
      },
      "outputs": [],
      "source": [
        "deployment_names = t2.check_deployment(\n",
        "    deployment_selected, deployment_date, survey_server_name, db_info_dict, survey_i\n",
        ")"
      ]
    },
    {
      "cell_type": "markdown",
      "id": "pK_CZFhmj0bn",
      "metadata": {
        "id": "pK_CZFhmj0bn"
      },
      "source": [
        "## Update new deployment files"
      ]
    },
    {
      "cell_type": "code",
      "execution_count": null,
      "id": "RLkTUdzesK1-",
      "metadata": {
        "id": "RLkTUdzesK1-"
      },
      "outputs": [],
      "source": [
        "movie_files_server = t2.update_new_deployments(\n",
        "    deployment_filenames=deployment_names,\n",
        "    db_info_dict=db_info_dict,\n",
        "    survey_server_name=survey_server_name,\n",
        "    deployment_date=deployment_date,\n",
        ")"
      ]
    },
    {
      "cell_type": "markdown",
      "id": "5a9faf7c",
      "metadata": {
        "id": "5a9faf7c"
      },
      "source": [
        "## Specify deployment details"
      ]
    },
    {
      "cell_type": "code",
      "execution_count": null,
      "id": "14ca7029",
      "metadata": {
        "id": "14ca7029",
        "scrolled": true
      },
      "outputs": [],
      "source": [
        "deployment_info = t2.record_deployment_info(deployment_names, db_info_dict)"
      ]
    },
    {
      "cell_type": "markdown",
      "id": "08a5b78d",
      "metadata": {
        "id": "08a5b78d"
      },
      "source": [
        "## Review deployment  details"
      ]
    },
    {
      "cell_type": "code",
      "execution_count": null,
      "id": "463e7131",
      "metadata": {
        "id": "463e7131"
      },
      "outputs": [],
      "source": [
        "new_deployment_row = t2.confirm_deployment_details(\n",
        "    deployment_names,\n",
        "    survey_server_name,\n",
        "    db_info_dict,\n",
        "    survey_i,\n",
        "    deployment_info,\n",
        "    movie_files_server,\n",
        "    deployment_date,\n",
        ")"
      ]
    },
    {
      "cell_type": "markdown",
      "id": "098afca0",
      "metadata": {
        "id": "098afca0"
      },
      "source": [
        "# !!!Only pass this point if deployment details are correct!!!"
      ]
    },
    {
      "cell_type": "markdown",
      "id": "21e2d0b9",
      "metadata": {
        "id": "21e2d0b9"
      },
      "source": [
        "### Update movies csv and upload video to s3"
      ]
    },
    {
      "cell_type": "code",
      "execution_count": null,
      "id": "549375bf",
      "metadata": {
        "id": "549375bf"
      },
      "outputs": [],
      "source": [
        "t2.upload_concat_movie(db_info_dict, new_deployment_row)"
      ]
    },
    {
      "cell_type": "markdown",
      "id": "96961ecc",
      "metadata": {
        "id": "96961ecc"
      },
      "source": [
        "# Upload movies to SNIC"
      ]
    },
    {
      "cell_type": "markdown",
      "id": "b8816b76",
      "metadata": {
        "id": "b8816b76"
      },
      "source": [
        "### Choose files to upload"
      ]
    },
    {
      "cell_type": "code",
      "execution_count": null,
      "id": "55416de5",
      "metadata": {
        "id": "55416de5",
        "outputId": "9a1037e2-46c7-4b3b-e757-83bedf2bbc47",
        "colab": {
          "referenced_widgets": [
            "3211039e0a0a43bfbd016dd9e4a0b972",
            "e2db94842472410f8a28e956e8e66187",
            "c548b44e7a0b4062abbebc70c1f64078"
          ]
        }
      },
      "outputs": [
        {
          "name": "stdout",
          "output_type": "stream",
          "text": [
            "Choose the file that you want to upload: \n"
          ]
        },
        {
          "data": {
            "application/vnd.jupyter.widget-view+json": {
              "model_id": "3211039e0a0a43bfbd016dd9e4a0b972",
              "version_major": 2,
              "version_minor": 0
            },
            "text/plain": [
              "FileChooser(path='/usr/src/app/kso_dev/tutorials', filename='', title='HTML(value='', layout=Layout(display='n…"
            ]
          },
          "metadata": {},
          "output_type": "display_data"
        },
        {
          "name": "stdout",
          "output_type": "stream",
          "text": [
            "Showing paths to the selected movies:\n",
            "Rerun cell to reset\n",
            "--------------\n"
          ]
        },
        {
          "data": {
            "application/vnd.jupyter.widget-view+json": {
              "model_id": "e2db94842472410f8a28e956e8e66187",
              "version_major": 2,
              "version_minor": 0
            },
            "text/plain": [
              "Button(description='Add selected file', style=ButtonStyle())"
            ]
          },
          "metadata": {},
          "output_type": "display_data"
        },
        {
          "data": {
            "application/vnd.jupyter.widget-view+json": {
              "model_id": "c548b44e7a0b4062abbebc70c1f64078",
              "version_major": 2,
              "version_minor": 0
            },
            "text/plain": [
              "Output()"
            ]
          },
          "metadata": {},
          "output_type": "display_data"
        }
      ],
      "source": [
        "movie_list = t2.choose_new_videos_to_upload()"
      ]
    },
    {
      "cell_type": "markdown",
      "id": "ec58d6e6",
      "metadata": {
        "id": "ec58d6e6"
      },
      "source": [
        "### Upload the videos and add metadata"
      ]
    },
    {
      "cell_type": "code",
      "execution_count": null,
      "id": "8e9d4099",
      "metadata": {
        "id": "8e9d4099",
        "outputId": "ae6cc819-2447-42fb-ff3f-c8c06f701808",
        "colab": {
          "referenced_widgets": [
            "87126ff219354b52a95059d4cf0fbbc1"
          ]
        }
      },
      "outputs": [
        {
          "name": "stdout",
          "output_type": "stream",
          "text": [
            "movie to be uploaded: movie_1_processed.mp4\n"
          ]
        },
        {
          "name": "stderr",
          "output_type": "stream",
          "text": [
            "100%|##########| 30.8k/30.8k [00:00<00:00, 1.88Mb/s]"
          ]
        },
        {
          "name": "stdout",
          "output_type": "stream",
          "text": [
            "movie uploaded\n",
            "\n",
            "All movies uploaded:\n",
            "\n",
            "Complete this sheet by filling the missing info on the movie you just uploaded\n"
          ]
        },
        {
          "name": "stderr",
          "output_type": "stream",
          "text": [
            "\n"
          ]
        },
        {
          "data": {
            "application/vnd.jupyter.widget-view+json": {
              "model_id": "87126ff219354b52a95059d4cf0fbbc1",
              "version_major": 2,
              "version_minor": 0
            },
            "text/plain": [
              "Sheet(cells=(Cell(column_end=0, column_start=0, row_end=0, row_start=0, type='text', value='127'), Cell(column…"
            ]
          },
          "metadata": {},
          "output_type": "display_data"
        }
      ],
      "source": [
        "new_movie_rows_sheet = t2.upload_new_movies_to_snic(db_info_dict, movie_list)"
      ]
    },
    {
      "cell_type": "markdown",
      "id": "69b36b05",
      "metadata": {
        "id": "69b36b05"
      },
      "source": [
        "### concatenate previous data with new rows\n"
      ]
    },
    {
      "cell_type": "code",
      "execution_count": null,
      "id": "06f88a75",
      "metadata": {
        "id": "06f88a75"
      },
      "outputs": [],
      "source": [
        "df_with_new_rows = t2.add_new_rows_to_csv(db_info_dict, new_movie_rows_sheet)"
      ]
    },
    {
      "cell_type": "markdown",
      "id": "1cb8910b",
      "metadata": {
        "id": "1cb8910b"
      },
      "source": [
        "### Create the local updated csv"
      ]
    },
    {
      "cell_type": "code",
      "execution_count": null,
      "id": "b31f1f3c",
      "metadata": {
        "id": "b31f1f3c",
        "outputId": "87a0e318-4f11-4f4a-8513-3d58098e2eec"
      },
      "outputs": [
        {
          "name": "stdout",
          "output_type": "stream",
          "text": [
            "/cephyr/NOBACKUP/groups/snic2021-6-9/tmp_dir/local_dir_devmovies_koster_updated.csv\n"
          ]
        },
        {
          "name": "stderr",
          "output_type": "stream",
          "text": [
            "100%|##########| 10.2k/10.2k [00:00<00:00, 1.62Mb/s]\n"
          ]
        }
      ],
      "source": [
        "# update the csv\n",
        "\n",
        "updated_csv = \"movies_koster_updated.csv\"\n",
        "updated_csv_path = (\n",
        "    \"/cephyr/NOBACKUP/groups/snic2021-6-9/tmp_dir/local_dir_dev/\" + updated_csv\n",
        ")\n",
        "orig_csv = db_info_dict[\"local_movies_csv\"].name\n",
        "csv_with_new_rows = df_with_new_rows.to_csv(updated_csv_path)"
      ]
    },
    {
      "cell_type": "markdown",
      "id": "3d4e9939",
      "metadata": {
        "id": "3d4e9939"
      },
      "source": [
        "### upload the csv to the server"
      ]
    },
    {
      "cell_type": "code",
      "execution_count": null,
      "id": "56e38362",
      "metadata": {
        "id": "56e38362"
      },
      "outputs": [],
      "source": [
        "serv_utils.update_csv_server(project, db_info_dict, orig_csv, updated_csv)"
      ]
    },
    {
      "cell_type": "code",
      "execution_count": null,
      "id": "a004889d",
      "metadata": {
        "id": "a004889d"
      },
      "outputs": [],
      "source": [
        "# END"
      ]
    },
    {
      "cell_type": "markdown",
      "id": "8c11c7d3",
      "metadata": {
        "id": "8c11c7d3"
      },
      "source": [
        "### Todo:\n",
        "multiselect videos"
      ]
    }
  ],
  "metadata": {
    "colab": {
      "provenance": []
    },
    "kernelspec": {
      "display_name": "Python 3 (ipykernel)",
      "language": "python",
      "name": "python3"
    },
    "language_info": {
      "codemirror_mode": {
        "name": "ipython",
        "version": 3
      },
      "file_extension": ".py",
      "mimetype": "text/x-python",
      "name": "python",
      "nbconvert_exporter": "python",
      "pygments_lexer": "ipython3",
      "version": "3.8.15"
    },
    "vscode": {
      "interpreter": {
        "hash": "1b96f41d5f4691810361bcb1fbe65a430032a17864adb5c442d2f5d54834ac21"
      }
    },
    "widgets": {
      "application/vnd.jupyter.widget-state+json": {
        "a430961a0f434d81b7f55041bd075fc8": {
          "model_module": "@jupyter-widgets/controls",
          "model_name": "DropdownModel",
          "model_module_version": "1.5.0",
          "state": {
            "_dom_classes": [],
            "_model_module": "@jupyter-widgets/controls",
            "_model_module_version": "1.5.0",
            "_model_name": "DropdownModel",
            "_options_labels": [
              "Template project",
              "Koster_Seafloor_Obs",
              "Spyfish_Aotearoa",
              "SGU",
              "Medins",
              "GU",
              "model-registry"
            ],
            "_view_count": null,
            "_view_module": "@jupyter-widgets/controls",
            "_view_module_version": "1.5.0",
            "_view_name": "DropdownView",
            "description": "Project:",
            "description_tooltip": null,
            "disabled": false,
            "index": 2,
            "layout": "IPY_MODEL_894b1d415dbe4fd7a53c6b9e7d62989a",
            "style": "IPY_MODEL_80adee194b6a4b03975458ec879611ca"
          }
        },
        "894b1d415dbe4fd7a53c6b9e7d62989a": {
          "model_module": "@jupyter-widgets/base",
          "model_name": "LayoutModel",
          "model_module_version": "1.2.0",
          "state": {
            "_model_module": "@jupyter-widgets/base",
            "_model_module_version": "1.2.0",
            "_model_name": "LayoutModel",
            "_view_count": null,
            "_view_module": "@jupyter-widgets/base",
            "_view_module_version": "1.2.0",
            "_view_name": "LayoutView",
            "align_content": null,
            "align_items": null,
            "align_self": null,
            "border": null,
            "bottom": null,
            "display": null,
            "flex": null,
            "flex_flow": null,
            "grid_area": null,
            "grid_auto_columns": null,
            "grid_auto_flow": null,
            "grid_auto_rows": null,
            "grid_column": null,
            "grid_gap": null,
            "grid_row": null,
            "grid_template_areas": null,
            "grid_template_columns": null,
            "grid_template_rows": null,
            "height": null,
            "justify_content": null,
            "justify_items": null,
            "left": null,
            "margin": null,
            "max_height": null,
            "max_width": null,
            "min_height": null,
            "min_width": null,
            "object_fit": null,
            "object_position": null,
            "order": null,
            "overflow": null,
            "overflow_x": null,
            "overflow_y": null,
            "padding": null,
            "right": null,
            "top": null,
            "visibility": null,
            "width": null
          }
        },
        "80adee194b6a4b03975458ec879611ca": {
          "model_module": "@jupyter-widgets/controls",
          "model_name": "DescriptionStyleModel",
          "model_module_version": "1.5.0",
          "state": {
            "_model_module": "@jupyter-widgets/controls",
            "_model_module_version": "1.5.0",
            "_model_name": "DescriptionStyleModel",
            "_view_count": null,
            "_view_module": "@jupyter-widgets/base",
            "_view_module_version": "1.2.0",
            "_view_name": "StyleView",
            "description_width": ""
          }
        },
        "0f57775edc4e4ef1a336a89adeba77f2": {
          "model_module": "@jupyter-widgets/controls",
          "model_name": "VBoxModel",
          "model_module_version": "1.5.0",
          "state": {
            "_dom_classes": [
              "widget-interact"
            ],
            "_model_module": "@jupyter-widgets/controls",
            "_model_module_version": "1.5.0",
            "_model_name": "VBoxModel",
            "_view_count": null,
            "_view_module": "@jupyter-widgets/controls",
            "_view_module_version": "1.5.0",
            "_view_name": "VBoxView",
            "box_style": "",
            "children": [
              "IPY_MODEL_5dcaa08213154eea9958997f372ded3a",
              "IPY_MODEL_a900a3058786469bb5d6d102d257c941"
            ],
            "layout": "IPY_MODEL_29a9090d528e4b02b9a6ca091f55890c"
          }
        },
        "5dcaa08213154eea9958997f372ded3a": {
          "model_module": "@jupyter-widgets/controls",
          "model_name": "DropdownModel",
          "model_module_version": "1.5.0",
          "state": {
            "_dom_classes": [],
            "_model_module": "@jupyter-widgets/controls",
            "_model_module_version": "1.5.0",
            "_model_name": "DropdownModel",
            "_options_labels": [
              "Existing",
              "New survey"
            ],
            "_view_count": null,
            "_view_module": "@jupyter-widgets/controls",
            "_view_module_version": "1.5.0",
            "_view_name": "DropdownView",
            "description": "Existing or new survey:",
            "description_tooltip": null,
            "disabled": false,
            "index": 0,
            "layout": "IPY_MODEL_3e38da1b178f4c6e970878b7cba929af",
            "style": "IPY_MODEL_7af09c982c024c9490f2a5f7a1d09480"
          }
        },
        "a900a3058786469bb5d6d102d257c941": {
          "model_module": "@jupyter-widgets/output",
          "model_name": "OutputModel",
          "model_module_version": "1.0.0",
          "state": {
            "_dom_classes": [],
            "_model_module": "@jupyter-widgets/output",
            "_model_module_version": "1.0.0",
            "_model_name": "OutputModel",
            "_view_count": null,
            "_view_module": "@jupyter-widgets/output",
            "_view_module_version": "1.0.0",
            "_view_name": "OutputView",
            "layout": "IPY_MODEL_31e6a60060e94c948661655226f492c0",
            "msg_id": "",
            "outputs": [
              {
                "output_type": "display_data",
                "data": {
                  "text/plain": "Dropdown(description='Survey Name:', layout=Layout(width='80%'), options=('BUV Te Tapuwae o Rongokako 2021', '…",
                  "application/vnd.jupyter.widget-view+json": {
                    "version_major": 2,
                    "version_minor": 0,
                    "model_id": "4e6b98b33cec43f49d3dfc3033551c69"
                  }
                },
                "metadata": {
                  "application/vnd.jupyter.widget-view+json": {
                    "colab": {
                      "custom_widget_manager": {
                        "url": "https://ssl.gstatic.com/colaboratory-static/widgets/colab-cdn-widget-manager/b3e629b1971e1542/manager.min.js"
                      }
                    }
                  }
                }
              }
            ]
          }
        },
        "29a9090d528e4b02b9a6ca091f55890c": {
          "model_module": "@jupyter-widgets/base",
          "model_name": "LayoutModel",
          "model_module_version": "1.2.0",
          "state": {
            "_model_module": "@jupyter-widgets/base",
            "_model_module_version": "1.2.0",
            "_model_name": "LayoutModel",
            "_view_count": null,
            "_view_module": "@jupyter-widgets/base",
            "_view_module_version": "1.2.0",
            "_view_name": "LayoutView",
            "align_content": null,
            "align_items": null,
            "align_self": null,
            "border": null,
            "bottom": null,
            "display": null,
            "flex": null,
            "flex_flow": null,
            "grid_area": null,
            "grid_auto_columns": null,
            "grid_auto_flow": null,
            "grid_auto_rows": null,
            "grid_column": null,
            "grid_gap": null,
            "grid_row": null,
            "grid_template_areas": null,
            "grid_template_columns": null,
            "grid_template_rows": null,
            "height": null,
            "justify_content": null,
            "justify_items": null,
            "left": null,
            "margin": null,
            "max_height": null,
            "max_width": null,
            "min_height": null,
            "min_width": null,
            "object_fit": null,
            "object_position": null,
            "order": null,
            "overflow": null,
            "overflow_x": null,
            "overflow_y": null,
            "padding": null,
            "right": null,
            "top": null,
            "visibility": null,
            "width": null
          }
        },
        "3e38da1b178f4c6e970878b7cba929af": {
          "model_module": "@jupyter-widgets/base",
          "model_name": "LayoutModel",
          "model_module_version": "1.2.0",
          "state": {
            "_model_module": "@jupyter-widgets/base",
            "_model_module_version": "1.2.0",
            "_model_name": "LayoutModel",
            "_view_count": null,
            "_view_module": "@jupyter-widgets/base",
            "_view_module_version": "1.2.0",
            "_view_name": "LayoutView",
            "align_content": null,
            "align_items": null,
            "align_self": null,
            "border": null,
            "bottom": null,
            "display": null,
            "flex": null,
            "flex_flow": null,
            "grid_area": null,
            "grid_auto_columns": null,
            "grid_auto_flow": null,
            "grid_auto_rows": null,
            "grid_column": null,
            "grid_gap": null,
            "grid_row": null,
            "grid_template_areas": null,
            "grid_template_columns": null,
            "grid_template_rows": null,
            "height": null,
            "justify_content": null,
            "justify_items": null,
            "left": null,
            "margin": null,
            "max_height": null,
            "max_width": null,
            "min_height": null,
            "min_width": null,
            "object_fit": null,
            "object_position": null,
            "order": null,
            "overflow": null,
            "overflow_x": null,
            "overflow_y": null,
            "padding": null,
            "right": null,
            "top": null,
            "visibility": null,
            "width": "90%"
          }
        },
        "7af09c982c024c9490f2a5f7a1d09480": {
          "model_module": "@jupyter-widgets/controls",
          "model_name": "DescriptionStyleModel",
          "model_module_version": "1.5.0",
          "state": {
            "_model_module": "@jupyter-widgets/controls",
            "_model_module_version": "1.5.0",
            "_model_name": "DescriptionStyleModel",
            "_view_count": null,
            "_view_module": "@jupyter-widgets/base",
            "_view_module_version": "1.2.0",
            "_view_name": "StyleView",
            "description_width": "initial"
          }
        },
        "31e6a60060e94c948661655226f492c0": {
          "model_module": "@jupyter-widgets/base",
          "model_name": "LayoutModel",
          "model_module_version": "1.2.0",
          "state": {
            "_model_module": "@jupyter-widgets/base",
            "_model_module_version": "1.2.0",
            "_model_name": "LayoutModel",
            "_view_count": null,
            "_view_module": "@jupyter-widgets/base",
            "_view_module_version": "1.2.0",
            "_view_name": "LayoutView",
            "align_content": null,
            "align_items": null,
            "align_self": null,
            "border": null,
            "bottom": null,
            "display": null,
            "flex": null,
            "flex_flow": null,
            "grid_area": null,
            "grid_auto_columns": null,
            "grid_auto_flow": null,
            "grid_auto_rows": null,
            "grid_column": null,
            "grid_gap": null,
            "grid_row": null,
            "grid_template_areas": null,
            "grid_template_columns": null,
            "grid_template_rows": null,
            "height": null,
            "justify_content": null,
            "justify_items": null,
            "left": null,
            "margin": null,
            "max_height": null,
            "max_width": null,
            "min_height": null,
            "min_width": null,
            "object_fit": null,
            "object_position": null,
            "order": null,
            "overflow": null,
            "overflow_x": null,
            "overflow_y": null,
            "padding": null,
            "right": null,
            "top": null,
            "visibility": null,
            "width": null
          }
        },
        "4e6b98b33cec43f49d3dfc3033551c69": {
          "model_module": "@jupyter-widgets/controls",
          "model_name": "DropdownModel",
          "model_module_version": "1.5.0",
          "state": {
            "_dom_classes": [],
            "_model_module": "@jupyter-widgets/controls",
            "_model_module_version": "1.5.0",
            "_model_name": "DropdownModel",
            "_options_labels": [
              "BUV Te Tapuwae o Rongokako 2021",
              "BUV Guardians of Kapiti MR 2020-21",
              "Tonga Island BUV Oct 2021",
              "Tuhua BUV 2020",
              "Tapuae BUV 2022",
              "CRP and Tawh BUV surveys Apr-May 2022",
              "Tuhua BUV Mar 2021"
            ],
            "_view_count": null,
            "_view_module": "@jupyter-widgets/controls",
            "_view_module_version": "1.5.0",
            "_view_name": "DropdownView",
            "description": "Survey Name:",
            "description_tooltip": null,
            "disabled": false,
            "index": 0,
            "layout": "IPY_MODEL_604d21d1f26842cebb057d292c911a8c",
            "style": "IPY_MODEL_0ed9b8d03fd44007b08e3d91ec19add0"
          }
        },
        "604d21d1f26842cebb057d292c911a8c": {
          "model_module": "@jupyter-widgets/base",
          "model_name": "LayoutModel",
          "model_module_version": "1.2.0",
          "state": {
            "_model_module": "@jupyter-widgets/base",
            "_model_module_version": "1.2.0",
            "_model_name": "LayoutModel",
            "_view_count": null,
            "_view_module": "@jupyter-widgets/base",
            "_view_module_version": "1.2.0",
            "_view_name": "LayoutView",
            "align_content": null,
            "align_items": null,
            "align_self": null,
            "border": null,
            "bottom": null,
            "display": null,
            "flex": null,
            "flex_flow": null,
            "grid_area": null,
            "grid_auto_columns": null,
            "grid_auto_flow": null,
            "grid_auto_rows": null,
            "grid_column": null,
            "grid_gap": null,
            "grid_row": null,
            "grid_template_areas": null,
            "grid_template_columns": null,
            "grid_template_rows": null,
            "height": null,
            "justify_content": null,
            "justify_items": null,
            "left": null,
            "margin": null,
            "max_height": null,
            "max_width": null,
            "min_height": null,
            "min_width": null,
            "object_fit": null,
            "object_position": null,
            "order": null,
            "overflow": null,
            "overflow_x": null,
            "overflow_y": null,
            "padding": null,
            "right": null,
            "top": null,
            "visibility": null,
            "width": "80%"
          }
        },
        "0ed9b8d03fd44007b08e3d91ec19add0": {
          "model_module": "@jupyter-widgets/controls",
          "model_name": "DescriptionStyleModel",
          "model_module_version": "1.5.0",
          "state": {
            "_model_module": "@jupyter-widgets/controls",
            "_model_module_version": "1.5.0",
            "_model_name": "DescriptionStyleModel",
            "_view_count": null,
            "_view_module": "@jupyter-widgets/base",
            "_view_module_version": "1.2.0",
            "_view_name": "StyleView",
            "description_width": "initial"
          }
        },
        "06b826ca649e48fc846ea1769d5e34ff": {
          "model_module": "@jupyter-widgets/controls",
          "model_name": "HBoxModel",
          "model_module_version": "1.5.0",
          "state": {
            "_dom_classes": [],
            "_model_module": "@jupyter-widgets/controls",
            "_model_module_version": "1.5.0",
            "_model_name": "HBoxModel",
            "_view_count": null,
            "_view_module": "@jupyter-widgets/controls",
            "_view_module_version": "1.5.0",
            "_view_name": "HBoxView",
            "box_style": "",
            "children": [
              "IPY_MODEL_27f8446bf6fe4857905a3cae24b384e4",
              "IPY_MODEL_4d14322014a74cffa34cafd5c31eba04"
            ],
            "layout": "IPY_MODEL_7a624ac09ff54bb98319221da1aa744f"
          }
        },
        "27f8446bf6fe4857905a3cae24b384e4": {
          "model_module": "@jupyter-widgets/controls",
          "model_name": "ButtonModel",
          "model_module_version": "1.5.0",
          "state": {
            "_dom_classes": [],
            "_model_module": "@jupyter-widgets/controls",
            "_model_module_version": "1.5.0",
            "_model_name": "ButtonModel",
            "_view_count": null,
            "_view_module": "@jupyter-widgets/controls",
            "_view_module_version": "1.5.0",
            "_view_name": "ButtonView",
            "button_style": "danger",
            "description": "Yes, details are correct",
            "disabled": false,
            "icon": "",
            "layout": "IPY_MODEL_2c742a45e0ae43fa87f54ae93651e208",
            "style": "IPY_MODEL_aca680be08764aafadcfba6e99301748",
            "tooltip": ""
          }
        },
        "4d14322014a74cffa34cafd5c31eba04": {
          "model_module": "@jupyter-widgets/controls",
          "model_name": "ButtonModel",
          "model_module_version": "1.5.0",
          "state": {
            "_dom_classes": [],
            "_model_module": "@jupyter-widgets/controls",
            "_model_module_version": "1.5.0",
            "_model_name": "ButtonModel",
            "_view_count": null,
            "_view_module": "@jupyter-widgets/controls",
            "_view_module_version": "1.5.0",
            "_view_name": "ButtonView",
            "button_style": "danger",
            "description": "No, I will go back and fix them",
            "disabled": false,
            "icon": "",
            "layout": "IPY_MODEL_4296c24b5abf41479b7301e3a3bb16b5",
            "style": "IPY_MODEL_aa5fdc2462204415aa4fcd963fa06ad7",
            "tooltip": ""
          }
        },
        "7a624ac09ff54bb98319221da1aa744f": {
          "model_module": "@jupyter-widgets/base",
          "model_name": "LayoutModel",
          "model_module_version": "1.2.0",
          "state": {
            "_model_module": "@jupyter-widgets/base",
            "_model_module_version": "1.2.0",
            "_model_name": "LayoutModel",
            "_view_count": null,
            "_view_module": "@jupyter-widgets/base",
            "_view_module_version": "1.2.0",
            "_view_name": "LayoutView",
            "align_content": null,
            "align_items": null,
            "align_self": null,
            "border": null,
            "bottom": null,
            "display": null,
            "flex": null,
            "flex_flow": null,
            "grid_area": null,
            "grid_auto_columns": null,
            "grid_auto_flow": null,
            "grid_auto_rows": null,
            "grid_column": null,
            "grid_gap": null,
            "grid_row": null,
            "grid_template_areas": null,
            "grid_template_columns": null,
            "grid_template_rows": null,
            "height": null,
            "justify_content": null,
            "justify_items": null,
            "left": null,
            "margin": null,
            "max_height": null,
            "max_width": null,
            "min_height": null,
            "min_width": null,
            "object_fit": null,
            "object_position": null,
            "order": null,
            "overflow": null,
            "overflow_x": null,
            "overflow_y": null,
            "padding": null,
            "right": null,
            "top": null,
            "visibility": null,
            "width": null
          }
        },
        "2c742a45e0ae43fa87f54ae93651e208": {
          "model_module": "@jupyter-widgets/base",
          "model_name": "LayoutModel",
          "model_module_version": "1.2.0",
          "state": {
            "_model_module": "@jupyter-widgets/base",
            "_model_module_version": "1.2.0",
            "_model_name": "LayoutModel",
            "_view_count": null,
            "_view_module": "@jupyter-widgets/base",
            "_view_module_version": "1.2.0",
            "_view_name": "LayoutView",
            "align_content": null,
            "align_items": null,
            "align_self": null,
            "border": null,
            "bottom": null,
            "display": null,
            "flex": null,
            "flex_flow": null,
            "grid_area": null,
            "grid_auto_columns": null,
            "grid_auto_flow": null,
            "grid_auto_rows": null,
            "grid_column": null,
            "grid_gap": null,
            "grid_row": null,
            "grid_template_areas": null,
            "grid_template_columns": null,
            "grid_template_rows": null,
            "height": null,
            "justify_content": null,
            "justify_items": null,
            "left": null,
            "margin": null,
            "max_height": null,
            "max_width": null,
            "min_height": null,
            "min_width": null,
            "object_fit": null,
            "object_position": null,
            "order": null,
            "overflow": null,
            "overflow_x": null,
            "overflow_y": null,
            "padding": null,
            "right": null,
            "top": null,
            "visibility": null,
            "width": "25%"
          }
        },
        "aca680be08764aafadcfba6e99301748": {
          "model_module": "@jupyter-widgets/controls",
          "model_name": "ButtonStyleModel",
          "model_module_version": "1.5.0",
          "state": {
            "_model_module": "@jupyter-widgets/controls",
            "_model_module_version": "1.5.0",
            "_model_name": "ButtonStyleModel",
            "_view_count": null,
            "_view_module": "@jupyter-widgets/base",
            "_view_module_version": "1.2.0",
            "_view_name": "StyleView",
            "button_color": null,
            "font_weight": ""
          }
        },
        "4296c24b5abf41479b7301e3a3bb16b5": {
          "model_module": "@jupyter-widgets/base",
          "model_name": "LayoutModel",
          "model_module_version": "1.2.0",
          "state": {
            "_model_module": "@jupyter-widgets/base",
            "_model_module_version": "1.2.0",
            "_model_name": "LayoutModel",
            "_view_count": null,
            "_view_module": "@jupyter-widgets/base",
            "_view_module_version": "1.2.0",
            "_view_name": "LayoutView",
            "align_content": null,
            "align_items": null,
            "align_self": null,
            "border": null,
            "bottom": null,
            "display": null,
            "flex": null,
            "flex_flow": null,
            "grid_area": null,
            "grid_auto_columns": null,
            "grid_auto_flow": null,
            "grid_auto_rows": null,
            "grid_column": null,
            "grid_gap": null,
            "grid_row": null,
            "grid_template_areas": null,
            "grid_template_columns": null,
            "grid_template_rows": null,
            "height": null,
            "justify_content": null,
            "justify_items": null,
            "left": null,
            "margin": null,
            "max_height": null,
            "max_width": null,
            "min_height": null,
            "min_width": null,
            "object_fit": null,
            "object_position": null,
            "order": null,
            "overflow": null,
            "overflow_x": null,
            "overflow_y": null,
            "padding": null,
            "right": null,
            "top": null,
            "visibility": null,
            "width": "45%"
          }
        },
        "aa5fdc2462204415aa4fcd963fa06ad7": {
          "model_module": "@jupyter-widgets/controls",
          "model_name": "ButtonStyleModel",
          "model_module_version": "1.5.0",
          "state": {
            "_model_module": "@jupyter-widgets/controls",
            "_model_module_version": "1.5.0",
            "_model_name": "ButtonStyleModel",
            "_view_count": null,
            "_view_module": "@jupyter-widgets/base",
            "_view_module_version": "1.2.0",
            "_view_name": "StyleView",
            "button_color": null,
            "font_weight": ""
          }
        },
        "cf77712d206947a882b33ec5c3521493": {
          "model_module": "@jupyter-widgets/controls",
          "model_name": "SelectMultipleModel",
          "model_module_version": "1.5.0",
          "state": {
            "_dom_classes": [],
            "_model_module": "@jupyter-widgets/controls",
            "_model_module_version": "1.5.0",
            "_model_name": "SelectMultipleModel",
            "_options_labels": [
              "0",
              "RON",
              "RON_0",
              "RON_001",
              "RON_002",
              "RON_003",
              "RON_004",
              "RON_010",
              "RON_011",
              "RON_012",
              "RON_012_2",
              "RON_013",
              "RON_033",
              "RON_034",
              "RON_035",
              "RON_036",
              "RON_037",
              "RON_038",
              "RON_039",
              "RON_040",
              "RON_041",
              "RON_042",
              "RON_043",
              "RON_045",
              "RON_046",
              "RON_047",
              "RON_049",
              "RON_050",
              "RON_051",
              "RON_052",
              "RON_053",
              "RON_054",
              "RON_055",
              "RON_056",
              "RON_057",
              "RON_058",
              "RON_064",
              "RON_065",
              "RON_066",
              "RON_067",
              "RON_068",
              "RON_072",
              "RON_077",
              "RON_078",
              "RON_079"
            ],
            "_view_count": null,
            "_view_module": "@jupyter-widgets/controls",
            "_view_module_version": "1.5.0",
            "_view_name": "SelectMultipleView",
            "description": "New deployment:",
            "description_tooltip": null,
            "disabled": false,
            "index": [],
            "layout": "IPY_MODEL_698b4c8823c84ab4827034ffc1a732ba",
            "rows": 5,
            "style": "IPY_MODEL_a1b06ceff0a54419b142eaea8e92d285"
          }
        },
        "698b4c8823c84ab4827034ffc1a732ba": {
          "model_module": "@jupyter-widgets/base",
          "model_name": "LayoutModel",
          "model_module_version": "1.2.0",
          "state": {
            "_model_module": "@jupyter-widgets/base",
            "_model_module_version": "1.2.0",
            "_model_name": "LayoutModel",
            "_view_count": null,
            "_view_module": "@jupyter-widgets/base",
            "_view_module_version": "1.2.0",
            "_view_name": "LayoutView",
            "align_content": null,
            "align_items": null,
            "align_self": null,
            "border": null,
            "bottom": null,
            "display": null,
            "flex": null,
            "flex_flow": null,
            "grid_area": null,
            "grid_auto_columns": null,
            "grid_auto_flow": null,
            "grid_auto_rows": null,
            "grid_column": null,
            "grid_gap": null,
            "grid_row": null,
            "grid_template_areas": null,
            "grid_template_columns": null,
            "grid_template_rows": null,
            "height": null,
            "justify_content": null,
            "justify_items": null,
            "left": null,
            "margin": null,
            "max_height": null,
            "max_width": null,
            "min_height": null,
            "min_width": null,
            "object_fit": null,
            "object_position": null,
            "order": null,
            "overflow": null,
            "overflow_x": null,
            "overflow_y": null,
            "padding": null,
            "right": null,
            "top": null,
            "visibility": null,
            "width": "50%"
          }
        },
        "a1b06ceff0a54419b142eaea8e92d285": {
          "model_module": "@jupyter-widgets/controls",
          "model_name": "DescriptionStyleModel",
          "model_module_version": "1.5.0",
          "state": {
            "_model_module": "@jupyter-widgets/controls",
            "_model_module_version": "1.5.0",
            "_model_name": "DescriptionStyleModel",
            "_view_count": null,
            "_view_module": "@jupyter-widgets/base",
            "_view_module_version": "1.2.0",
            "_view_name": "StyleView",
            "description_width": "initial"
          }
        }
      }
    }
  },
  "nbformat": 4,
  "nbformat_minor": 5
}