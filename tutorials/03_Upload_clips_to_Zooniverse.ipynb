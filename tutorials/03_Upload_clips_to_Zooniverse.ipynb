{
 "cells": [
  {
   "attachments": {},
   "cell_type": "markdown",
   "id": "2c8790f3",
   "metadata": {
    "id": "2c8790f3"
   },
   "source": [
    "<a href=\"https://colab.research.google.com/github/ocean-data-factory-sweden/kso-data-management/blob/main/tutorials/03_Upload_clips_to_Zooniverse.ipynb\" target=\"_parent\"><img src=\"https://colab.research.google.com/assets/colab-badge.svg\" alt=\"Open In Colab\"/></a>"
   ]
  },
  {
   "attachments": {},
   "cell_type": "markdown",
   "id": "b169b8d0",
   "metadata": {
    "id": "b169b8d0"
   },
   "source": [
    "<img align=\"left\" src=\"https://panoptes-uploads.zooniverse.org/project_avatar/86c23ca7-bbaa-4e84-8d8a-876819551431.png\" type=\"image/png\" height=100 width=100>\n",
    "</img>\n",
    "<h1 align=\"right\">KSO Tutorials #3: Upload clips to Zooniverse</h1>\n",
    "<h3 align=\"right\">Written by KSO Team</h3>"
   ]
  },
  {
   "attachments": {},
   "cell_type": "markdown",
   "id": "3ee20d67",
   "metadata": {
    "id": "3ee20d67"
   },
   "source": [
    "# Set up KSO requirements"
   ]
  },
  {
   "cell_type": "code",
   "execution_count": null,
   "id": "euLU610Jo8xh",
   "metadata": {
    "cellView": "form",
    "id": "euLU610Jo8xh"
   },
   "outputs": [],
   "source": [
    "# @title <font size=\"5\">↓ ឵឵<i>Install kso_data_management and its requirements</font> { vertical-output: true }\n",
    "\n",
    "from IPython.display import clear_output\n",
    "\n",
    "try:\n",
    "    import google.colab\n",
    "    import os\n",
    "\n",
    "    IN_COLAB = True\n",
    "    print(\"Running in Colab...\")\n",
    "\n",
    "    # Clone kso-data-management repo\n",
    "    !git clone --quiet --recurse-submodules -b main https://github.com/ocean-data-factory-sweden/kso-data-management.git\n",
    "    %pip install -q --upgrade pip\n",
    "    %pip install -qr <(sed '/boto3/d;/ipywidgets/d' kso-data-management/requirements.txt)\n",
    "    %pip install -qr <(sed '/boto3/d;/ipywidgets/d' kso-data-management/kso_utils/requirements.txt)\n",
    "\n",
    "    # Fix libmagic issue\n",
    "    !apt-get -qq update && apt-get -qq install -y libmagic-dev > /dev/null\n",
    "\n",
    "    # Enable external widgets\n",
    "    from google.colab import output\n",
    "\n",
    "    output.enable_custom_widget_manager()\n",
    "\n",
    "    os.chdir(\"kso-data-management/tutorials\")\n",
    "    try:\n",
    "        clear_output()\n",
    "        print(\"All packages are installed and ready to go!\")\n",
    "    except:\n",
    "        clear_output()\n",
    "        print(\"There have been some issues installing the packages!\")\n",
    "except:\n",
    "    IN_COLAB = False\n",
    "\n",
    "    # Install requirements\n",
    "    # %pip install -q --no-warn-script-location --upgrade pip --user\n",
    "    # %pip install -qr ../requirements.txt --user\n",
    "    # %pip install -qr ../kso_utils/requirements.txt --user\n",
    "\n",
    "    !jupyter nbextension install --user --py widgetsnbextension\n",
    "    !jupyter nbextension enable --user --py widgetsnbextension\n",
    "    !jupyter nbextension install --user --py jupyter_bbox_widget\n",
    "    !jupyter nbextension enable --user --py jupyter_bbox_widget\n",
    "    !jupyter nbextension install --user --py ipysheet\n",
    "    !jupyter nbextension enable --user --py ipysheet\n",
    "\n",
    "    clear_output()\n",
    "    print(\"Running locally... you're good to go!\")"
   ]
  },
  {
   "cell_type": "code",
   "execution_count": null,
   "id": "2f980fe6",
   "metadata": {},
   "outputs": [],
   "source": [
    "# @title <font size=\"5\">↓ ឵឵<i>Import Python packages</font> { vertical-output: true }\n",
    "\n",
    "# Set the directory of the libraries\n",
    "import sys\n",
    "\n",
    "try:\n",
    "    if \"kso_utils\" not in sys.modules:\n",
    "        sys.path.append(\"..\")\n",
    "        import kso_utils.kso_utils\n",
    "\n",
    "        sys.modules[\"kso_utils\"] = kso_utils.kso_utils\n",
    "        print(\"Using development version...\")\n",
    "        # Enables testing changes in utils\n",
    "        %load_ext autoreload\n",
    "        %autoreload 2\n",
    "except:\n",
    "    print(\"Installing latest version from PyPI...\")\n",
    "    %pip install -q kso-utils\n",
    "\n",
    "# Import required modules\n",
    "import kso_utils.tutorials_utils as t_utils\n",
    "import kso_utils.project_utils as p_utils\n",
    "import kso_utils.t3_utils as t3\n",
    "from kso_utils.project import ProjectProcessor\n",
    "\n",
    "\n",
    "print(\"Packages loaded successfully\")"
   ]
  },
  {
   "cell_type": "code",
   "execution_count": null,
   "id": "ulpoaaNHoiUz",
   "metadata": {
    "cellView": "form",
    "id": "ulpoaaNHoiUz"
   },
   "outputs": [],
   "source": [
    "# @title <font size=\"5\">↓ ឵឵<i>Specify GPU availability</font> { vertical-output: true }\n",
    "gpu_available = t_utils.gpu_select()"
   ]
  },
  {
   "cell_type": "code",
   "execution_count": null,
   "id": "bfef12df",
   "metadata": {
    "cellView": "form",
    "id": "bfef12df"
   },
   "outputs": [],
   "source": [
    "# @title <font size=\"5\">↓ ឵឵<i>Choose your project</font> { vertical-output: true }\n",
    "project_name = t_utils.choose_project()"
   ]
  },
  {
   "cell_type": "code",
   "execution_count": null,
   "id": "8a7abc2f",
   "metadata": {
    "cellView": "form",
    "id": "8a7abc2f",
    "scrolled": true
   },
   "outputs": [],
   "source": [
    "# @title <font size=\"5\">↓ ឵឵<i>Initiate project's database</font> { vertical-output: true }\n",
    "# Save the name of the project\n",
    "project = p_utils.find_project(project_name=project_name.value)\n",
    "\n",
    "# Initiate pp\n",
    "pp = ProjectProcessor(project)"
   ]
  },
  {
   "cell_type": "code",
   "execution_count": null,
   "id": "10b4aa16",
   "metadata": {
    "cellView": "form",
    "id": "10b4aa16"
   },
   "outputs": [],
   "source": [
    "# @title <font size=\"5\">↓ ឵឵<i>Connect to Zooniverse</font> { vertical-output: true }\n",
    "pp.get_zoo_info()"
   ]
  },
  {
   "attachments": {},
   "cell_type": "markdown",
   "id": "lq8kiRqqnxe8",
   "metadata": {
    "id": "lq8kiRqqnxe8"
   },
   "source": [
    "# Select the movie to upload to Zooniverse"
   ]
  },
  {
   "cell_type": "code",
   "execution_count": null,
   "id": "6667d092",
   "metadata": {
    "cellView": "form",
    "id": "6667d092"
   },
   "outputs": [],
   "source": [
    "# @title <font size=\"5\">↓ ឵឵<i>Specify movie of interest</font> { vertical-output: true }\n",
    "pp.preview_media()"
   ]
  },
  {
   "cell_type": "code",
   "execution_count": null,
   "id": "dbe6b212",
   "metadata": {
    "cellView": "form",
    "id": "dbe6b212"
   },
   "outputs": [],
   "source": [
    "# @title <font size=\"5\">↓ ឵឵<i>Check if movie is already in Zooniverse</font> { vertical-output: true }\n",
    "\n",
    "# Remember to query the newest zooniverse data to get the most up to date list of clips uploaded\n",
    "pp.check_movies_uploaded(pp.movie_selected)"
   ]
  },
  {
   "attachments": {},
   "cell_type": "markdown",
   "id": "QQKQ25Rd7zid",
   "metadata": {
    "id": "QQKQ25Rd7zid"
   },
   "source": [
    "# Create some clip examples (Optional)\n",
    "Test different parameters (e.g. compression rate, color modifications) in randomly selected clip examples"
   ]
  },
  {
   "cell_type": "code",
   "execution_count": null,
   "id": "6aabd8b0",
   "metadata": {},
   "outputs": [],
   "source": [
    "# @title <font size=\"5\">↓ ឵឵<i>Create the clip examples</font> { vertical-output: true }\n",
    "pp.generate_zu_clips(pp.movie_selected, pp.movie_path, is_example=True)"
   ]
  },
  {
   "cell_type": "code",
   "execution_count": null,
   "id": "0iJ_DMsWM9Wm",
   "metadata": {
    "cellView": "form",
    "id": "0iJ_DMsWM9Wm"
   },
   "outputs": [],
   "source": [
    "# @title <font size=\"5\">↓ ឵឵<i>Review the size of the clips</font> { vertical-output: true }\n",
    "t3.check_clip_size(clips_list=pp.generated_clips.clip_path)"
   ]
  },
  {
   "cell_type": "code",
   "execution_count": null,
   "id": "zXQOMNRsNRMf",
   "metadata": {
    "cellView": "form",
    "id": "zXQOMNRsNRMf"
   },
   "outputs": [],
   "source": [
    "# @title <font size=\"5\">↓ ឵឵<i>Display clips side-by-side (in progress)</font> { vertical-output: true }\n",
    "t3.compare_clips(\n",
    "    example_clips=pp.generated_clips.clip_path,\n",
    "    modified_clips=pp.generated_clips.modif_clip_path,\n",
    ")"
   ]
  },
  {
   "attachments": {},
   "cell_type": "markdown",
   "id": "a9NhZKK-NS_s",
   "metadata": {
    "id": "a9NhZKK-NS_s"
   },
   "source": [
    "# Create the clips to upload to Zooniverse"
   ]
  },
  {
   "cell_type": "code",
   "execution_count": null,
   "id": "704d84e6",
   "metadata": {},
   "outputs": [],
   "source": [
    "pp.generate_zu_clips(pp.movie_selected, pp.movie_path, is_example=False)"
   ]
  },
  {
   "cell_type": "code",
   "execution_count": null,
   "id": "ACnwMvssNrxX",
   "metadata": {
    "cellView": "form",
    "id": "ACnwMvssNrxX"
   },
   "outputs": [],
   "source": [
    "# @title <font size=\"5\">↓ ឵឵<i>Check the size of the clips</font> { vertical-output: true }\n",
    "t3.check_clip_size(clips_list=pp.generated_clips.clip_path)"
   ]
  },
  {
   "attachments": {},
   "cell_type": "markdown",
   "id": "dp4F7oNfRIbA",
   "metadata": {
    "id": "dp4F7oNfRIbA"
   },
   "source": [
    "# Upload clips to Zooniverse\n",
    "Make sure your workflows in Zooniverse have different names to avoid issues while selecting the workflow id"
   ]
  },
  {
   "cell_type": "code",
   "execution_count": null,
   "id": "ac733f98",
   "metadata": {},
   "outputs": [],
   "source": [
    "# @title <font size=\"5\">↓ ឵឵<i>Upload clips to Zooniverse</font> { vertical-output: true }\n",
    "pp.upload_zu_subjects(pp.generated_clips, \"clip\")"
   ]
  },
  {
   "cell_type": "code",
   "execution_count": null,
   "id": "Ewbv8G7fRagf",
   "metadata": {
    "id": "Ewbv8G7fRagf"
   },
   "outputs": [],
   "source": [
    "# END"
   ]
  }
 ],
 "metadata": {
  "accelerator": "GPU",
  "colab": {
   "collapsed_sections": [
    "Hro0l-z-OxAA",
    "cEy0Uz9ZO17V",
    "cuCiI4KqPZSw"
   ],
   "name": "3. Upload clips to Zooniverse.ipynb",
   "provenance": []
  },
  "kernelspec": {
   "display_name": "odf",
   "language": "python",
   "name": "python3"
  },
  "language_info": {
   "codemirror_mode": {
    "name": "ipython",
    "version": 3
   },
   "file_extension": ".py",
   "mimetype": "text/x-python",
   "name": "python",
   "nbconvert_exporter": "python",
   "pygments_lexer": "ipython3",
   "version": "3.8.16"
  },
  "vscode": {
   "interpreter": {
    "hash": "9f0064b85a3bc365415745ead9abb78ac240c43fe3a2a9861333bea64f4ce941"
   }
  }
 },
 "nbformat": 4,
 "nbformat_minor": 5
}
