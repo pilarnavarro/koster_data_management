{
 "cells": [
  {
   "cell_type": "markdown",
   "id": "2c8790f3",
   "metadata": {
    "id": "2c8790f3"
   },
   "source": [
    "<a href=\"https://colab.research.google.com/github/ocean-data-factory-sweden/kso-data-management/blob/main/tutorials/03_Upload_clips_to_Zooniverse.ipynb\" target=\"_parent\"><img src=\"https://colab.research.google.com/assets/colab-badge.svg\" alt=\"Open In Colab\"/></a>"
   ]
  },
  {
   "attachments": {},
   "cell_type": "markdown",
   "id": "b169b8d0",
   "metadata": {
    "id": "b169b8d0"
   },
   "source": [
    "<img align=\"left\" src=\"https://panoptes-uploads.zooniverse.org/project_avatar/86c23ca7-bbaa-4e84-8d8a-876819551431.png\" type=\"image/png\" height=100 width=100>\n",
    "</img>\n",
    "<h1 align=\"right\">KSO Tutorials #3: Upload clips to Zooniverse</h1>\n",
    "<h3 align=\"right\">Written by KSO Team</h3>"
   ]
  },
  {
   "cell_type": "markdown",
   "id": "3ee20d67",
   "metadata": {
    "id": "3ee20d67"
   },
   "source": [
    "# Set up KSO requirements"
   ]
  },
  {
   "cell_type": "code",
   "execution_count": null,
   "id": "euLU610Jo8xh",
   "metadata": {
    "cellView": "form",
    "id": "euLU610Jo8xh"
   },
   "outputs": [],
   "source": [
    "# @title <font size=\"5\">↓ ឵឵<i>Install kso_data_management and its requirements</font> { vertical-output: true }\n",
    "\n",
    "from IPython.display import clear_output\n",
    "\n",
    "try:\n",
    "    import google.colab\n",
    "    import os\n",
    "\n",
    "    IN_COLAB = True\n",
    "    print(\"Running in Colab...\")\n",
    "\n",
    "    # Clone kso-data-management repo\n",
    "    !git clone --quiet --recurse-submodules -b main https://github.com/ocean-data-factory-sweden/kso-data-management.git\n",
    "    !pip install -q --upgrade pip\n",
    "    !pip install -q -r kso-data-management/requirements.txt\n",
    "\n",
    "    # Fix libmagic issue\n",
    "    !apt-get -qq update && apt-get -qq install -y libmagic-dev > /dev/null\n",
    "\n",
    "    # Enable external widgets\n",
    "    from google.colab import output\n",
    "\n",
    "    output.enable_custom_widget_manager()\n",
    "\n",
    "    os.chdir(\"kso-data-management/tutorials\")\n",
    "    try:\n",
    "        clear_output()\n",
    "        print(\"All packages are installed and ready to go!\")\n",
    "    except:\n",
    "        clear_output()\n",
    "        print(\"There have been some issues installing the packages!\")\n",
    "except:\n",
    "    IN_COLAB = False\n",
    "    import sys\n",
    "\n",
    "    # Install requirements\n",
    "    !pip install -q --no-warn-script-location --upgrade pip\n",
    "    !pip install -qr ../requirements.txt\n",
    "\n",
    "    !jupyter nbextension install --user --py widgetsnbextension\n",
    "    !jupyter nbextension enable --user --py widgetsnbextension\n",
    "    !jupyter nbextension install --user --py jupyter_bbox_widget\n",
    "    !jupyter nbextension enable --user --py jupyter_bbox_widget\n",
    "    !jupyter nbextension enable --user --py ipysheet\n",
    "\n",
    "    clear_output()\n",
    "    print(\"Running locally... you're good to go!\")\n",
    "\n",
    "#######Import Python packages########\n",
    "\n",
    "# Set the directory of the libraries\n",
    "import sys, os\n",
    "from pathlib import Path\n",
    "\n",
    "# Enables testing changes in utils\n",
    "%load_ext autoreload\n",
    "%autoreload 2\n",
    "\n",
    "# Specify the path of the tutorials\n",
    "sys.path.append(\"..\")\n",
    "\n",
    "# Import required modules\n",
    "import kso_utils.tutorials_utils as t_utils\n",
    "import kso_utils.movie_utils as m_utils\n",
    "import kso_utils.t3_utils as t3\n",
    "import kso_utils.project_utils as p_utils\n",
    "import kso_utils.server_utils as s_utils\n",
    "\n",
    "print(\"Packages loaded successfully\")"
   ]
  },
  {
   "cell_type": "code",
   "execution_count": null,
   "id": "ulpoaaNHoiUz",
   "metadata": {
    "cellView": "form",
    "id": "ulpoaaNHoiUz"
   },
   "outputs": [],
   "source": [
    "# @title <font size=\"5\">↓ ឵឵<i>Specify GPU availability</font> { vertical-output: true }\n",
    "gpu_available = t_utils.gpu_select()"
   ]
  },
  {
   "cell_type": "code",
   "execution_count": null,
   "id": "bfef12df",
   "metadata": {
    "cellView": "form",
    "id": "bfef12df"
   },
   "outputs": [],
   "source": [
    "# @title <font size=\"5\">↓ ឵឵<i>Choose your project</font> { vertical-output: true }\n",
    "project_name = t_utils.choose_project()"
   ]
  },
  {
   "cell_type": "code",
   "execution_count": null,
   "id": "8a7abc2f",
   "metadata": {
    "cellView": "form",
    "id": "8a7abc2f",
    "scrolled": true
   },
   "outputs": [],
   "source": [
    "# @title <font size=\"5\">↓ ឵឵<i>Initiate project's database</font> { vertical-output: true }\n",
    "# Save the name of the project\n",
    "project = p_utils.find_project(project_name=project_name.value)\n",
    "\n",
    "# Initiate db\n",
    "db_info_dict = t_utils.initiate_db(project)"
   ]
  },
  {
   "cell_type": "code",
   "execution_count": null,
   "id": "10b4aa16",
   "metadata": {
    "cellView": "form",
    "id": "10b4aa16"
   },
   "outputs": [],
   "source": [
    "# @title <font size=\"5\">↓ ឵឵<i>Connect to Zooniverse</font> { vertical-output: true }\n",
    "zoo_project = t_utils.connect_zoo_project(project)"
   ]
  },
  {
   "cell_type": "code",
   "execution_count": null,
   "id": "0c2d059b",
   "metadata": {
    "cellView": "form",
    "id": "0c2d059b"
   },
   "outputs": [],
   "source": [
    "# @title <font size=\"5\">↓ ឵឵<i>Retrieve information from Zooniverse and media storage</font> { vertical-output: true }\n",
    "\n",
    "# Retrieve info about zooniverse clips\n",
    "zoo_info_dict = t_utils.retrieve__populate_zoo_info(\n",
    "    project=project,\n",
    "    db_info_dict=db_info_dict,\n",
    "    zoo_project=zoo_project,\n",
    "    zoo_info=[\"subjects\"],\n",
    ")\n",
    "\n",
    "# Retrieve info about the movies available in the server\n",
    "available_movies_df = s_utils.retrieve_movie_info_from_server(\n",
    "    project=project, db_info_dict=db_info_dict\n",
    ")"
   ]
  },
  {
   "cell_type": "markdown",
   "id": "lq8kiRqqnxe8",
   "metadata": {
    "id": "lq8kiRqqnxe8"
   },
   "source": [
    "# Select the movie to upload to Zooniverse"
   ]
  },
  {
   "cell_type": "code",
   "execution_count": null,
   "id": "6667d092",
   "metadata": {
    "cellView": "form",
    "id": "6667d092"
   },
   "outputs": [],
   "source": [
    "# @title <font size=\"5\">↓ ឵឵<i>Specify movie of interest</font> { vertical-output: true }\n",
    "movie_selected = t_utils.select_movie(available_movies_df)"
   ]
  },
  {
   "cell_type": "code",
   "execution_count": null,
   "id": "04b2Jn-t6Qqz",
   "metadata": {
    "cellView": "form",
    "id": "04b2Jn-t6Qqz"
   },
   "outputs": [],
   "source": [
    "# @title <font size=\"5\">↓ ឵឵<i>Preview the selected movie</font> { vertical-output: true }\n",
    "movie_display, movie_path = t_utils.preview_movie(\n",
    "    project=project,\n",
    "    db_info_dict=db_info_dict,\n",
    "    available_movies_df=available_movies_df,\n",
    "    movie_i=movie_selected.value,\n",
    ")\n",
    "movie_display"
   ]
  },
  {
   "cell_type": "code",
   "execution_count": null,
   "id": "dbe6b212",
   "metadata": {
    "cellView": "form",
    "id": "dbe6b212"
   },
   "outputs": [],
   "source": [
    "# @title <font size=\"5\">↓ ឵឵<i>Check if movie is already in Zooniverse</font> { vertical-output: true }\n",
    "\n",
    "# Remember to query the newest zooniverse data to get the most up to date list of clips uploaded\n",
    "t3.check_movie_uploaded(movie_i=movie_selected.value, db_info_dict=db_info_dict)"
   ]
  },
  {
   "cell_type": "markdown",
   "id": "QQKQ25Rd7zid",
   "metadata": {
    "id": "QQKQ25Rd7zid"
   },
   "source": [
    "# Create some clip examples (Optional)\n",
    "Test different parameters (e.g. compression rate, color modifications) in randomly selected clip examples"
   ]
  },
  {
   "cell_type": "code",
   "execution_count": null,
   "id": "dmTJM7hvMvpU",
   "metadata": {
    "cellView": "form",
    "id": "dmTJM7hvMvpU"
   },
   "outputs": [],
   "source": [
    "# @title <font size=\"5\">↓ ឵឵<i>Select how many clip examples</font> { vertical-output: true }\n",
    "random_clip_selection = t3.select_random_clips(\n",
    "    movie_i=movie_selected.value, db_info_dict=db_info_dict\n",
    ")"
   ]
  },
  {
   "cell_type": "code",
   "execution_count": null,
   "id": "EcueiHWXMz7p",
   "metadata": {
    "cellView": "form",
    "id": "EcueiHWXMz7p"
   },
   "outputs": [],
   "source": [
    "# @title <font size=\"5\">↓ ឵឵<i>Create the clip examples</font> { vertical-output: true }\n",
    "example_clips = t3.create_example_clips(\n",
    "    movie_i=movie_selected.value,\n",
    "    movie_path=movie_path,\n",
    "    db_info_dict=db_info_dict,\n",
    "    project=project,\n",
    "    clip_selection=random_clip_selection,\n",
    ")"
   ]
  },
  {
   "cell_type": "code",
   "execution_count": null,
   "id": "0iJ_DMsWM9Wm",
   "metadata": {
    "cellView": "form",
    "id": "0iJ_DMsWM9Wm"
   },
   "outputs": [],
   "source": [
    "# @title <font size=\"5\">↓ ឵឵<i>Review the size of the clips</font> { vertical-output: true }\n",
    "t3.check_clip_size(clips_list=example_clips)"
   ]
  },
  {
   "cell_type": "code",
   "execution_count": null,
   "id": "zSr9_9T2NCs_",
   "metadata": {
    "cellView": "form",
    "id": "zSr9_9T2NCs_"
   },
   "outputs": [],
   "source": [
    "# @title <font size=\"5\">↓ ឵឵<i>Select modifications for the clips</font> { vertical-output: true }\n",
    "\n",
    "clip_example_modification = t3.clip_modification_widget()\n",
    "clip_example_modification"
   ]
  },
  {
   "cell_type": "code",
   "execution_count": null,
   "id": "sZtj9shKo71j",
   "metadata": {
    "cellView": "form",
    "id": "sZtj9shKo71j"
   },
   "outputs": [],
   "source": [
    "# @title <font size=\"5\">↓ ឵឵<i>Modify the clips</font> { vertical-output: true }\n",
    "modified_clips = t3.create_modified_clips(\n",
    "    clips_list=example_clips,\n",
    "    movie_i=movie_selected.value,\n",
    "    modification_details=clip_example_modification.checks,\n",
    "    project=project,\n",
    "    gpu_available=gpu_available.result,\n",
    ")"
   ]
  },
  {
   "cell_type": "code",
   "execution_count": null,
   "id": "2vNIENCTNNUW",
   "metadata": {
    "cellView": "form",
    "id": "2vNIENCTNNUW"
   },
   "outputs": [],
   "source": [
    "# @title <font size=\"5\">↓ ឵឵<i>Check size of the modified clips</font> { vertical-output: true }\n",
    "t3.check_clip_size(clips_list=modified_clips)"
   ]
  },
  {
   "cell_type": "code",
   "execution_count": null,
   "id": "zXQOMNRsNRMf",
   "metadata": {
    "cellView": "form",
    "id": "zXQOMNRsNRMf"
   },
   "outputs": [],
   "source": [
    "# @title <font size=\"5\">↓ ឵឵<i>Display clips side-by-side (in progress)</font> { vertical-output: true }\n",
    "t3.compare_clips(example_clips=example_clips, modified_clips=modified_clips)"
   ]
  },
  {
   "cell_type": "markdown",
   "id": "a9NhZKK-NS_s",
   "metadata": {
    "id": "a9NhZKK-NS_s"
   },
   "source": [
    "# Create the clips to upload to Zooniverse"
   ]
  },
  {
   "cell_type": "code",
   "execution_count": null,
   "id": "WZ03q68-8mrT",
   "metadata": {
    "cellView": "form",
    "id": "WZ03q68-8mrT"
   },
   "outputs": [],
   "source": [
    "# @title <font size=\"5\">↓ ឵឵<i>Select video modifications for the clips</font> { vertical-output: true }\n",
    "\n",
    "clip_modification = t3.clip_modification_widget()\n",
    "clip_modification"
   ]
  },
  {
   "cell_type": "code",
   "execution_count": null,
   "id": "tspAVRDGNW5X",
   "metadata": {
    "cellView": "form",
    "id": "tspAVRDGNW5X"
   },
   "outputs": [],
   "source": [
    "# @title <font size=\"5\">↓ ឵឵<i>Specify the number of clips and clip length</font> { vertical-output: true }\n",
    "clip_selection = t3.select_clip_n_len(\n",
    "    movie_i=movie_selected.value, db_info_dict=db_info_dict\n",
    ")"
   ]
  },
  {
   "cell_type": "code",
   "execution_count": null,
   "id": "IXkwpjXhNXUl",
   "metadata": {
    "cellView": "form",
    "id": "IXkwpjXhNXUl"
   },
   "outputs": [],
   "source": [
    "# @title <font size=\"5\">↓ ឵឵<i>Check information about the clips</font> { vertical-output: true }\n",
    "t3.review_clip_selection(\n",
    "    clip_selection=clip_selection,\n",
    "    movie_i=movie_selected.value,\n",
    "    clip_modification=clip_modification,\n",
    ")"
   ]
  },
  {
   "cell_type": "code",
   "execution_count": null,
   "id": "idoKSzjpNof6",
   "metadata": {
    "cellView": "form",
    "id": "idoKSzjpNof6"
   },
   "outputs": [],
   "source": [
    "# @title <font size=\"5\">↓ ឵឵<i>Create the clips</font> { vertical-output: true }\n",
    "\n",
    "clips_to_upload_df = t3.create_clips(\n",
    "    available_movies_df=available_movies_df,\n",
    "    movie_i=movie_selected.value,\n",
    "    movie_path=movie_path,\n",
    "    db_info_dict=db_info_dict,\n",
    "    clip_selection=clip_selection,\n",
    "    project=project,\n",
    "    modification_details=clip_modification.checks,\n",
    "    gpu_available=gpu_available.result,\n",
    "    pool_size=10,\n",
    ")"
   ]
  },
  {
   "cell_type": "code",
   "execution_count": null,
   "id": "ACnwMvssNrxX",
   "metadata": {
    "cellView": "form",
    "id": "ACnwMvssNrxX"
   },
   "outputs": [],
   "source": [
    "# @title <font size=\"5\">↓ ឵឵<i>Check the size of the clips</font> { vertical-output: true }\n",
    "\n",
    "t3.check_clip_size(clips_list=clips_to_upload_df.clip_path.to_list())"
   ]
  },
  {
   "cell_type": "markdown",
   "id": "dp4F7oNfRIbA",
   "metadata": {
    "id": "dp4F7oNfRIbA"
   },
   "source": [
    "# Upload clips to Zooniverse\n",
    "Make sure your workflows in Zooniverse have different names to avoid issues while selecting the workflow id"
   ]
  },
  {
   "cell_type": "code",
   "execution_count": null,
   "id": "brSCedDbPncC",
   "metadata": {
    "cellView": "form",
    "id": "brSCedDbPncC"
   },
   "outputs": [],
   "source": [
    "# @title <font size=\"5\">↓ ឵឵<i>Set Zooniverse metadata</font> { vertical-output: true }\n",
    "upload_to_zoo, sitename, created_on = t3.set_zoo_metadata(\n",
    "    db_info_dict=db_info_dict, df=clips_to_upload_df, project=project\n",
    ")"
   ]
  },
  {
   "cell_type": "code",
   "execution_count": null,
   "id": "vALY0dFDPnfb",
   "metadata": {
    "cellView": "form",
    "id": "vALY0dFDPnfb"
   },
   "outputs": [],
   "source": [
    "# @title <font size=\"5\">↓ ឵឵<i>Upload clips to Zooniverse</font> { vertical-output: true }\n",
    "\n",
    "t3.upload_clips_to_zooniverse(\n",
    "    upload_to_zoo=upload_to_zoo,\n",
    "    sitename=sitename,\n",
    "    created_on=created_on,\n",
    "    project=project.Zooniverse_number,\n",
    ")"
   ]
  },
  {
   "cell_type": "code",
   "execution_count": null,
   "id": "ae24fabf",
   "metadata": {
    "cellView": "form",
    "id": "ae24fabf"
   },
   "outputs": [],
   "source": [
    "# @title <font size=\"5\">↓ ឵឵<i>Remove local clips to free up space for new clips</font> { vertical-output: true }\n",
    "\n",
    "t3.remove_temp_clips(upload_to_zoo)"
   ]
  },
  {
   "cell_type": "code",
   "execution_count": null,
   "id": "Ewbv8G7fRagf",
   "metadata": {
    "id": "Ewbv8G7fRagf"
   },
   "outputs": [],
   "source": [
    "# END"
   ]
  }
 ],
 "metadata": {
  "accelerator": "GPU",
  "colab": {
   "collapsed_sections": [
    "Hro0l-z-OxAA",
    "cEy0Uz9ZO17V",
    "cuCiI4KqPZSw"
   ],
   "name": "3. Upload clips to Zooniverse.ipynb",
   "provenance": []
  },
  "kernelspec": {
   "display_name": "odf",
   "language": "python",
   "name": "python3"
  },
  "language_info": {
   "codemirror_mode": {
    "name": "ipython",
    "version": 3
   },
   "file_extension": ".py",
   "mimetype": "text/x-python",
   "name": "python",
   "nbconvert_exporter": "python",
   "pygments_lexer": "ipython3",
   "version": "3.8.8 | packaged by conda-forge | (default, Feb 20 2021, 16:12:38) \n[Clang 11.0.1 ]"
  },
  "vscode": {
   "interpreter": {
    "hash": "9f0064b85a3bc365415745ead9abb78ac240c43fe3a2a9861333bea64f4ce941"
   }
  }
 },
 "nbformat": 4,
 "nbformat_minor": 5
}
