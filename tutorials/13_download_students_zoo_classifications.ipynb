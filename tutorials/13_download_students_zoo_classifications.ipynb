{
 "cells": [
  {
   "attachments": {},
   "cell_type": "markdown",
   "id": "95aea466",
   "metadata": {},
   "source": [
    "<img align=\"left\" src=\"https://panoptes-uploads.zooniverse.org/project_avatar/86c23ca7-bbaa-4e84-8d8a-876819551431.png\" type=\"image/png\" height=100 width=100>\n",
    "</img>\n",
    "\n",
    "\n",
    "<h1 align=\"right\">KSO Tutorial #13: Download Zoo classifications created by students</h1>\n",
    "<h3 align=\"right\">Written by KSO Team</h3>"
   ]
  },
  {
   "attachments": {},
   "cell_type": "markdown",
   "id": "6f0fc779",
   "metadata": {},
   "source": [
    "# Set up KSO requirements"
   ]
  },
  {
   "cell_type": "markdown",
   "id": "ed3d9d14",
   "metadata": {},
   "source": [
    "## Import Python packages"
   ]
  },
  {
   "cell_type": "code",
   "execution_count": null,
   "id": "46ca201f",
   "metadata": {},
   "outputs": [],
   "source": [
    "# Enables testing changes in utils\n",
    "%load_ext autoreload\n",
    "%autoreload 2\n",
    "\n",
    "# Set the directory of the libraries\n",
    "import sys\n",
    "\n",
    "sys.path.append(\"..\")\n",
    "\n",
    "# Import required modules\n",
    "import kso_utils.tutorials_utils as t_utils\n",
    "import kso_utils.project_utils as p_utils\n",
    "import kso_utils.t8_utils as t8\n",
    "\n",
    "print(\"Packages loaded successfully\")"
   ]
  },
  {
   "cell_type": "markdown",
   "id": "fdc7152a",
   "metadata": {},
   "source": [
    "## Choose your project"
   ]
  },
  {
   "cell_type": "code",
   "execution_count": null,
   "id": "1c1aabda",
   "metadata": {},
   "outputs": [],
   "source": [
    "project_name = t_utils.choose_project()"
   ]
  },
  {
   "cell_type": "markdown",
   "id": "d898f611",
   "metadata": {},
   "source": [
    "## Initiate the database"
   ]
  },
  {
   "cell_type": "code",
   "execution_count": null,
   "id": "6d1103c3",
   "metadata": {
    "scrolled": true
   },
   "outputs": [],
   "source": [
    "project = p_utils.find_project(project_name=project_name.value)\n",
    "# Initiate db\n",
    "db_info_dict = t_utils.initiate_db(project)\n",
    "# Connect to Zooniverse project\n",
    "zoo_project = t_utils.connect_zoo_project(project)"
   ]
  },
  {
   "cell_type": "markdown",
   "id": "52f976b8",
   "metadata": {},
   "source": [
    "# Retrieve the student classifications"
   ]
  },
  {
   "cell_type": "markdown",
   "id": "68106a17",
   "metadata": {},
   "source": [
    "## Retrieve all zooniverse classifications"
   ]
  },
  {
   "cell_type": "code",
   "execution_count": null,
   "id": "5d66ee15",
   "metadata": {},
   "outputs": [],
   "source": [
    "zoo_info_dict = t_utils.retrieve__populate_zoo_info(\n",
    "    project=project,\n",
    "    db_info_dict=db_info_dict,\n",
    "    zoo_project=zoo_project,\n",
    "    zoo_info=[\"classifications\"],\n",
    ")"
   ]
  },
  {
   "cell_type": "markdown",
   "id": "b0c5f26d",
   "metadata": {},
   "source": [
    "## Filter and download zooniverse classifications"
   ]
  },
  {
   "cell_type": "code",
   "execution_count": null,
   "id": "3bab8bd9",
   "metadata": {},
   "outputs": [],
   "source": [
    "# base imports\n",
    "import os\n",
    "import pandas as pd\n",
    "import logging\n",
    "\n",
    "# widget imports\n",
    "import ipywidgets as widgets\n",
    "from ipywidgets import interactive, Layout, VBox\n",
    "from IPython.display import display\n",
    "import asyncio\n",
    "\n",
    "\n",
    "logging.basicConfig(level=logging.WARNING)\n",
    "logger = logging.getLogger(__name__)\n",
    "logger.setLevel(logging.DEBUG)\n",
    "out_df = pd.DataFrame()\n",
    "\n",
    "\n",
    "def filter_classifications(zoo_info_dict: dict):\n",
    "    \"\"\"\n",
    "    This function allows the user to specify a username prefix to download only their zoo classifications\n",
    "\n",
    "    :param zoo_info_dict: a dictionary with the following keys:\n",
    "    :type zoo_info_dict: dict\n",
    "    :return: A text widget and a click button to download classifications.\n",
    "    \"\"\"\n",
    "    # Load the dic as a pandas df\n",
    "    zoo_classifications = zoo_info_dict[\"classifications\"]\n",
    "\n",
    "    # Create the text widget to specify the prefix of the users\n",
    "    prefix_i = widgets.Text(\n",
    "        placeholder=\"\",\n",
    "        description=\"Prefix of the usernames:\",\n",
    "        disabled=False,\n",
    "        layout=Layout(width=\"95%\"),\n",
    "        style={\"description_width\": \"initial\"},\n",
    "    )\n",
    "\n",
    "    # Create the download classifications button\n",
    "    download_button = widgets.Button(\n",
    "        description=\"Download classifications\",\n",
    "        layout=Layout(width=\"25%\"),\n",
    "        style={\"description_width\": \"initial\"},\n",
    "        button_style=\"danger\",\n",
    "    )\n",
    "\n",
    "    # When button is clicked filter classifications with that prefix and download classifications in a csv\n",
    "    async def f(prefix_i):\n",
    "        x = await t_utils.wait_for_change(\n",
    "            download_button\n",
    "        )  # <---- Pass buttons into the function\n",
    "        if x == \"Download classifications\":\n",
    "            print(\"Your classifications will be downloaded shortly.\")\n",
    "\n",
    "            # Filter classifications with the prefix of interest\n",
    "            zoo_classifications_i = zoo_classifications[\n",
    "                zoo_classifications[\"Username\"].str.startswith(prefix_i.result)\n",
    "            ].reset_index(drop=True)\n",
    "\n",
    "            # Create a csv with the classifications\n",
    "        #             zoo_classifications_i.to_csv(\"classifications_zoo.csv\", index=False)\n",
    "\n",
    "        else:\n",
    "            print(\"There was an issue downloading your classifications!\")\n",
    "\n",
    "    print(\"\")\n",
    "    print(\"\")\n",
    "    print(\"Download student classifications\")\n",
    "    display(\n",
    "        VBox([prefix_widget, download_button])\n",
    "    )  # <----Display both widgets in an Vbox\n",
    "    asyncio.create_task(f(prefix_i))"
   ]
  },
  {
   "cell_type": "code",
   "execution_count": null,
   "id": "371ac9a0",
   "metadata": {},
   "outputs": [],
   "source": [
    "filter_classifications(zoo_info_dict)"
   ]
  },
  {
   "cell_type": "markdown",
   "id": "1f55747a",
   "metadata": {},
   "source": [
    "# Check subjects based on their id"
   ]
  },
  {
   "cell_type": "code",
   "execution_count": null,
   "id": "f2bc8c2a",
   "metadata": {},
   "outputs": [],
   "source": [
    "# Launch the subject viewer\n",
    "t8.launch_viewer(agg_class_df, wm.checks[\"Subject type: #0\"])"
   ]
  },
  {
   "cell_type": "code",
   "execution_count": null,
   "id": "c0a0fd24",
   "metadata": {},
   "outputs": [],
   "source": [
    "# END"
   ]
  }
 ],
 "metadata": {
  "kernelspec": {
   "display_name": "Python 3.8.8 ('odf')",
   "language": "python",
   "name": "python3"
  },
  "language_info": {
   "codemirror_mode": {
    "name": "ipython",
    "version": 3
   },
   "file_extension": ".py",
   "mimetype": "text/x-python",
   "name": "python",
   "nbconvert_exporter": "python",
   "pygments_lexer": "ipython3",
   "version": "3.8.8 | packaged by conda-forge | (default, Feb 20 2021, 16:12:38) \n[Clang 11.0.1 ]"
  },
  "vscode": {
   "interpreter": {
    "hash": "9f0064b85a3bc365415745ead9abb78ac240c43fe3a2a9861333bea64f4ce941"
   }
  }
 },
 "nbformat": 4,
 "nbformat_minor": 5
}
