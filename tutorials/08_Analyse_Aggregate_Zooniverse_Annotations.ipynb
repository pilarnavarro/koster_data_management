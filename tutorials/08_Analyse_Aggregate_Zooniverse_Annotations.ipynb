{
 "cells": [
  {
   "cell_type": "markdown",
   "id": "5c7ec5c0",
   "metadata": {
    "id": "5c7ec5c0"
   },
   "source": [
    "<a href=\"https://colab.research.google.com/github/ocean-data-factory-sweden/kso-data-management/blob/main/tutorials/08_Analyse_Aggregate_Zooniverse_Annotations.ipynb\" target=\"_parent\"><img src=\"https://colab.research.google.com/assets/colab-badge.svg\" alt=\"Open In Colab\"/></a>"
   ]
  },
  {
   "cell_type": "markdown",
   "id": "a49ece9a",
   "metadata": {
    "id": "a49ece9a"
   },
   "source": [
    "<img align=\"left\" src=\"https://panoptes-uploads.zooniverse.org/project_avatar/86c23ca7-bbaa-4e84-8d8a-876819551431.png\" type=\"image/png\" height=100 width=100>\n",
    "</img>\n",
    "\n",
    "\n",
    "<h1 align=\"right\">KSO Tutorials #8: Analyse / Aggregate Zooniverse classifications</h1>\n",
    "<h3 align=\"right\">Written by the KSO team</h3>"
   ]
  },
  {
   "cell_type": "markdown",
   "id": "TbIaPdBSU_H3",
   "metadata": {
    "id": "TbIaPdBSU_H3"
   },
   "source": [
    "This notebook takes you through the process of: \n",
    "* Connecting to a Zooniverse project\n",
    "* Retrieving the classifications/annotations that citizens have provided on the videos, from your workflow of interest \n",
    "* Aggregating the annotations you have received based on an aggregation threshold and a minimum number of users.\n",
    "* Exploring these aggregated classifications to inspect the effect of your aggregation settings.\n",
    "* *If you were inspecting videos*, you can use the aggregation settings you decided on for Notebook 4, where you cut the videos into images and upload them to Zooniverse for the 2nd part of the workflow. The rest of this notebook is only for frames.\n",
    "* *If you were inspecting frames*, you can continue with this notebook to:\n",
    "  * Export these frames into YOLO format, which is needed for ML purposes in Notebook 5.\n",
    "  * Export these frames into GBIF/OBIS format for biodiveristy purposes.\n",
    "\n",
    "If you do not have a project with us yet, you can run the template project to get a taste of how the aggregation of the annotations works for videos. However, it is not yet possible to do this for frames, and therefore also not to do the exports.\n",
    "\n",
    "🔴 <span style=\"color:red\">&nbsp;NOTE: If you want to run another project than the template project, you need to have a Zooniverse account and be a member of the corresponding project.  </span>"
   ]
  },
  {
   "cell_type": "markdown",
   "id": "FlVXYRkEzfGq",
   "metadata": {
    "id": "FlVXYRkEzfGq"
   },
   "source": [
    "# Set up KSO requirements"
   ]
  },
  {
   "cell_type": "code",
   "execution_count": null,
   "id": "4YRqq41oziEM",
   "metadata": {
    "id": "4YRqq41oziEM"
   },
   "outputs": [],
   "source": [
    "# @title <font size=\"5\">↓ ឵឵<i>Install kso_data_management and its requirements</font> { vertical-output: true }\n",
    "\n",
    "from IPython.display import clear_output\n",
    "\n",
    "try:\n",
    "    import google.colab\n",
    "    import os\n",
    "\n",
    "    IN_COLAB = True\n",
    "    print(\"Running in Colab...\")\n",
    "\n",
    "    # Clone kso-data-management repo\n",
    "    !git clone --quiet --recurse-submodules -b main https://github.com/ocean-data-factory-sweden/kso-data-management.git\n",
    "    %pip install -q --upgrade pip\n",
    "    %pip install -r <(sed '/boto3/d;/ipywidgets/d' kso-data-management/requirements.txt)\n",
    "    %pip install -r <(sed '/boto3/d;/ipywidgets/d' kso-data-management/kso_utils/requirements.txt)\n",
    "\n",
    "    # Fix libmagic issue\n",
    "    !apt-get -qq update && apt-get -qq install -y libmagic-dev > /dev/null\n",
    "\n",
    "    # Enable external widgets\n",
    "    from google.colab import output\n",
    "\n",
    "    output.enable_custom_widget_manager()\n",
    "\n",
    "    os.chdir(\"kso-data-management/tutorials\")\n",
    "    try:\n",
    "        clear_output()\n",
    "        print(\"All packages are installed and ready to go!\")\n",
    "    except:\n",
    "        clear_output()\n",
    "        print(\"There have been some issues installing the packages!\")\n",
    "except:\n",
    "    IN_COLAB = False\n",
    "\n",
    "    # Install requirements\n",
    "    %pip install -q --no-warn-script-location --upgrade pip\n",
    "    %pip install -qr ../requirements.txt\n",
    "    %pip install -qr ../kso_utils/requirements.txt\n",
    "\n",
    "    !jupyter nbextension install --user --py widgetsnbextension\n",
    "    !jupyter nbextension enable --user --py widgetsnbextension\n",
    "    !jupyter nbextension install --user --py jupyter_bbox_widget\n",
    "    !jupyter nbextension enable --user --py jupyter_bbox_widget\n",
    "    !jupyter nbextension enable --user --py ipysheet\n",
    "\n",
    "    clear_output()\n",
    "    print(\"Running locally... you're good to go!\")"
   ]
  },
  {
   "cell_type": "code",
   "execution_count": null,
   "id": "c7ac986f",
   "metadata": {},
   "outputs": [],
   "source": [
    "# @title <font size=\"5\">↓ ឵឵<i>Import Python packages</font> { vertical-output: true }\n",
    "\n",
    "# Set the directory of the libraries\n",
    "import sys\n",
    "\n",
    "try:\n",
    "    if \"kso_utils\" not in sys.modules:\n",
    "        sys.path.append(\"..\")\n",
    "        import kso_utils.kso_utils\n",
    "\n",
    "        sys.modules[\"kso_utils\"] = kso_utils.kso_utils\n",
    "        print(\"Using development version...\")\n",
    "        # Enables testing changes in utils\n",
    "        %load_ext autoreload\n",
    "        %autoreload 2\n",
    "except:\n",
    "    print(\"Installing latest version from PyPI...\")\n",
    "    %pip install -q kso-utils\n",
    "\n",
    "# Import required modules\n",
    "import kso_utils.tutorials_utils as t_utils\n",
    "import kso_utils.project_utils as p_utils\n",
    "import kso_utils.t5_utils as t5\n",
    "import kso_utils.t8_utils as t8\n",
    "from kso_utils.project import ProjectProcessor, MLProjectProcessor\n",
    "\n",
    "\n",
    "print(\"Packages loaded successfully\")"
   ]
  },
  {
   "cell_type": "code",
   "execution_count": null,
   "id": "ZI0XH96WzfGs",
   "metadata": {
    "id": "ZI0XH96WzfGs"
   },
   "outputs": [],
   "source": [
    "# @title <font size=\"5\"><i>Choose your project</font> { vertical-output: true }\n",
    "project_name = t_utils.choose_project()"
   ]
  },
  {
   "cell_type": "code",
   "execution_count": null,
   "id": "o8ShAbg3zfGs",
   "metadata": {
    "id": "o8ShAbg3zfGs"
   },
   "outputs": [],
   "source": [
    "# @title <font size=\"5\"><i>Initiate project's database</font> { vertical-output: true }\n",
    "# Save the name of the project\n",
    "project = p_utils.find_project(project_name=project_name.value)\n",
    "\n",
    "# Initiate pp\n",
    "pp = ProjectProcessor(project)"
   ]
  },
  {
   "cell_type": "code",
   "execution_count": null,
   "id": "HTLGiO6RFMfP",
   "metadata": {
    "id": "HTLGiO6RFMfP"
   },
   "outputs": [],
   "source": [
    "# @title <font size=\"5\"><i>Select the information to retrieve from Zooniverse</font> { vertical-output: true }\n",
    "\n",
    "retrieve_info = t_utils.select_retrieve_info()"
   ]
  },
  {
   "cell_type": "code",
   "execution_count": null,
   "id": "3iIYThmuzfGu",
   "metadata": {
    "id": "3iIYThmuzfGu"
   },
   "outputs": [],
   "source": [
    "# @title <font size=\"5\"><i>Retrieve the information from Zooniverse</font> { vertical-output: true }\n",
    "pp.get_zoo_info(retrieve_info.result)"
   ]
  },
  {
   "cell_type": "markdown",
   "id": "q-pVC53krSRx",
   "metadata": {
    "id": "q-pVC53krSRx"
   },
   "source": [
    "# Specify Zooniverse workflow of interest"
   ]
  },
  {
   "cell_type": "code",
   "execution_count": null,
   "id": "ADAbUiqYzfGv",
   "metadata": {
    "id": "ADAbUiqYzfGv"
   },
   "outputs": [],
   "source": [
    "# @title <font size=\"5\"><i>Select Zooniverse workflow id and version of interest</font> { vertical-output: true }\n",
    "\n",
    "# Note: A manual export in Zooniverse is required to get the most up-to-date classifications here*\n",
    "\n",
    "# Make sure your workflows in Zooniverse have different names to avoid issues while selecting the workflow id\n",
    "\n",
    "# Display a selectable list of workflow names and a list of versions of the workflow of interest\n",
    "workflows_df = pp.zoo_info[\"workflows\"]\n",
    "wm = t8.WidgetMaker(workflows_df)\n",
    "wm"
   ]
  },
  {
   "cell_type": "code",
   "execution_count": null,
   "id": "zRyKGVqczfGv",
   "metadata": {
    "id": "zRyKGVqczfGv"
   },
   "outputs": [],
   "source": [
    "# @title <font size=\"5\"><i>Retrieve classifications from the workflow of interest</font> { vertical-output: true }\n",
    "\n",
    "# Retrieve classifications from the workflow of interest\n",
    "class_df = t8.get_classifications(\n",
    "    wm.checks,\n",
    "    workflows_df,\n",
    "    wm.checks[\"Subject type: #0\"],\n",
    "    pp.zoo_info[\"classifications\"],\n",
    "    pp.db_info[\"db_path\"],\n",
    "    project,\n",
    ")"
   ]
  },
  {
   "cell_type": "markdown",
   "id": "NtRz3kE-7_FV",
   "metadata": {
    "id": "NtRz3kE-7_FV"
   },
   "source": [
    "🔴 <span style=\"color:red\">&nbsp;NOTE: If the output from the cell above says that 0 classifications have been retrieved, choose another selection of the workflows. The one you selected now did not contain any annotations. </span>"
   ]
  },
  {
   "cell_type": "markdown",
   "id": "R00g9V9yjWPX",
   "metadata": {
    "id": "R00g9V9yjWPX"
   },
   "source": [
    "# Aggregate classifications received on the workflow of interest"
   ]
  },
  {
   "cell_type": "code",
   "execution_count": null,
   "id": "927ef4df",
   "metadata": {},
   "outputs": [],
   "source": [
    "# @title <font size=\"5\"><i>Specify agreement threshold among cit scientists</font> { vertical-output: true }\n",
    "agg_params = t8.choose_agg_parameters(wm.checks[\"Subject type: #0\"])"
   ]
  },
  {
   "cell_type": "code",
   "execution_count": null,
   "id": "31c98274",
   "metadata": {},
   "outputs": [],
   "source": [
    "# @title <font size=\"5\"><i>Aggregate classifications based on threshold</font> { vertical-output: true }\n",
    "agg_df, raw_df = pp.process_classifications(\n",
    "    pp.zoo_info[\"classifications\"],\n",
    "    wm.checks[\"Subject type: #0\"],\n",
    "    agg_params,\n",
    "    summary=False,\n",
    ")"
   ]
  },
  {
   "cell_type": "markdown",
   "id": "qnYyF5TH9INf",
   "metadata": {
    "id": "qnYyF5TH9INf"
   },
   "source": [
    "🔴 <span style=\"color:red\">&nbsp;NOTE: If the output from the cell above says that 0 classifications are aggregated, you can experiment with other agreement thresholds, or you need to wait for more annotations to be made in Zooniverse.   </span>"
   ]
  },
  {
   "cell_type": "markdown",
   "id": "1iI7Jv5KjWPX",
   "metadata": {
    "id": "1iI7Jv5KjWPX"
   },
   "source": [
    "# Explore the aggregated classifications"
   ]
  },
  {
   "cell_type": "code",
   "execution_count": null,
   "id": "4QAUKSRSjWPX",
   "metadata": {
    "cellView": "form",
    "id": "4QAUKSRSjWPX"
   },
   "outputs": [],
   "source": [
    "# @title <font size=\"5\"><i>Summarise the number of aggregated classifications</font> { vertical-output: true }\n",
    "\n",
    "agg_df.groupby(\"label\")[\"subject_ids\"].agg(\"count\")"
   ]
  },
  {
   "cell_type": "code",
   "execution_count": null,
   "id": "i_aKwdLWjWPX",
   "metadata": {
    "cellView": "form",
    "id": "i_aKwdLWjWPX"
   },
   "outputs": [],
   "source": [
    "# @title <font size=\"5\"><i>Display all the aggregated classifications in a table</font> { vertical-output: true }\n",
    "\n",
    "t8.launch_table(agg_df, wm.checks[\"Subject type: #0\"])"
   ]
  },
  {
   "cell_type": "code",
   "execution_count": null,
   "id": "4370d487",
   "metadata": {
    "cellView": "form",
    "id": "4370d487"
   },
   "outputs": [],
   "source": [
    "# @title <font size=\"5\"><i>Display a subject and its aggregated classifications</font> { vertical-output: true }\n",
    "\n",
    "t8.launch_viewer(agg_df, wm.checks[\"Subject type: #0\"])"
   ]
  },
  {
   "cell_type": "code",
   "execution_count": null,
   "id": "Lv1VydtBpAQT",
   "metadata": {
    "cellView": "form",
    "id": "Lv1VydtBpAQT"
   },
   "outputs": [],
   "source": [
    "# @title <font size=\"5\"><i>Display the individual/non-aggregated classifications of a subject</font> { vertical-output: true }\n",
    "\n",
    "t8.explore_classifications_per_subject(raw_df, wm.checks[\"Subject type: #0\"])"
   ]
  },
  {
   "cell_type": "markdown",
   "id": "f3aJWaZR9lk6",
   "metadata": {
    "id": "f3aJWaZR9lk6"
   },
   "source": [
    "🔴 <span style=\"color:red\">&nbsp;NOTE: If you did the aggregation on clips (videos), the rest of this notebook is not relevant for you. You can use the explored aggregation settings to clip the videos into images with Notebook 4.Only if you were working with frames in the previous steps, you can continue with this notebook.  </span>"
   ]
  },
  {
   "attachments": {},
   "cell_type": "markdown",
   "id": "Q4XNdjhhzfGw",
   "metadata": {
    "id": "Q4XNdjhhzfGw"
   },
   "source": [
    "# OPTIONAL Task #1 - Export aggregated classifications in YOLO format (For ML purposes)"
   ]
  },
  {
   "cell_type": "markdown",
   "id": "RkHzQIzxzfGu",
   "metadata": {
    "id": "RkHzQIzxzfGu"
   },
   "source": [
    "## Prepare the labelled frames"
   ]
  },
  {
   "cell_type": "code",
   "execution_count": null,
   "id": "f75b8b18",
   "metadata": {},
   "outputs": [],
   "source": [
    "# Initialise mlp\n",
    "mlp = MLProjectProcessor(pp)"
   ]
  },
  {
   "cell_type": "code",
   "execution_count": null,
   "id": "fc94336a",
   "metadata": {},
   "outputs": [],
   "source": [
    "# @title <font size=\"5\"><i>Specify path to store the labelled frames and annotations</font> { vertical-output: true }\n",
    "# Specify path to store the labelled frames and annotations\n",
    "output_folder = t_utils.choose_folder(\".\", \"output\")"
   ]
  },
  {
   "cell_type": "code",
   "execution_count": null,
   "id": "3268e0ed",
   "metadata": {},
   "outputs": [],
   "source": [
    "# @title <font size=\"5\"><i>Determine your training parameters</font> { vertical-output: true }\n",
    "# Determine your training parameters\n",
    "percentage_test = t5.choose_test_prop()"
   ]
  },
  {
   "cell_type": "code",
   "execution_count": null,
   "id": "26d3277f",
   "metadata": {},
   "outputs": [],
   "source": [
    "# @title <font size=\"5\"><i>Run the preparation script</font> { vertical-output: true }\n",
    "# Run the preparation script\n",
    "mlp.prepare_dataset(\n",
    "    agg_df=agg_df,\n",
    "    out_path=output_folder.selected,\n",
    "    img_size=(720, 540),\n",
    "    perc_test=percentage_test.value,\n",
    ")"
   ]
  },
  {
   "cell_type": "markdown",
   "id": "Mw_ZiNtVKyMA",
   "metadata": {
    "id": "Mw_ZiNtVKyMA"
   },
   "source": [
    "\n",
    "## Preview and adjust aggregated annotations"
   ]
  },
  {
   "cell_type": "code",
   "execution_count": null,
   "id": "M-gyODDRKkhw",
   "metadata": {
    "cellView": "form",
    "id": "M-gyODDRKkhw"
   },
   "outputs": [],
   "source": [
    "# @title <font size=\"5\"><i>Preview and adjust annotations</font> { vertical-output: true }\n",
    "t8.get_annotations_viewer(output_folder.selected, species_list=mlp.species_of_interest)"
   ]
  },
  {
   "attachments": {},
   "cell_type": "markdown",
   "id": "iLAB5SCh9ma_",
   "metadata": {
    "id": "iLAB5SCh9ma_"
   },
   "source": [
    "\n",
    "# OPTIONAL Task #2 - Export observations in GBIF/OBIS format (For biodiversity purposes)"
   ]
  },
  {
   "cell_type": "code",
   "execution_count": null,
   "id": "NHvVweuAEWxJ",
   "metadata": {
    "id": "NHvVweuAEWxJ"
   },
   "outputs": [],
   "source": [
    "# @title <font size=\"5\"><i>Format the classifications to Darwin Core Standard occurrences</font> { vertical-output: true }\n",
    "occurrence_df = pp.format_to_gbif(\n",
    "    agg_df=agg_df, subject_type=wm.checks[\"Subject type: #0\"]\n",
    ")"
   ]
  },
  {
   "cell_type": "code",
   "execution_count": null,
   "id": "3dc58e1d",
   "metadata": {},
   "outputs": [],
   "source": [
    "# Preview occurence df\n",
    "occurrence_df"
   ]
  },
  {
   "cell_type": "code",
   "execution_count": null,
   "id": "06d827c2",
   "metadata": {
    "id": "06d827c2"
   },
   "outputs": [],
   "source": [
    "# @title <font size=\"5\"><i>Save the occurence df locally</font> { vertical-output: true }\n",
    "occurrence_df.to_csv(\"occurrence_for_gbif.csv\", index=False)\n",
    "print(\"The observations are now saved in occurrence_for_gbif.csv\")"
   ]
  },
  {
   "cell_type": "code",
   "execution_count": null,
   "id": "8umCRoDozfGx",
   "metadata": {
    "id": "8umCRoDozfGx"
   },
   "outputs": [],
   "source": [
    "# END"
   ]
  }
 ],
 "metadata": {
  "colab": {
   "collapsed_sections": [
    "Q4XNdjhhzfGw",
    "RkHzQIzxzfGu",
    "B_k4w2rRJYjF",
    "Mw_ZiNtVKyMA"
   ],
   "provenance": []
  },
  "kernelspec": {
   "display_name": "Python 3 (ipykernel)",
   "language": "python",
   "name": "python3"
  },
  "language_info": {
   "codemirror_mode": {
    "name": "ipython",
    "version": 3
   },
   "file_extension": ".py",
   "mimetype": "text/x-python",
   "name": "python",
   "nbconvert_exporter": "python",
   "pygments_lexer": "ipython3",
   "version": "3.8.16"
  },
  "vscode": {
   "interpreter": {
    "hash": "9f0064b85a3bc365415745ead9abb78ac240c43fe3a2a9861333bea64f4ce941"
   }
  }
 },
 "nbformat": 4,
 "nbformat_minor": 5
}
