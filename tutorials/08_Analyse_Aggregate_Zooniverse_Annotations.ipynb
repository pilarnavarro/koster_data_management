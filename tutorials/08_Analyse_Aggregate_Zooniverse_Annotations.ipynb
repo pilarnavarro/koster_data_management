{
 "cells": [
  {
   "cell_type": "markdown",
   "id": "5c7ec5c0",
   "metadata": {
    "id": "5c7ec5c0"
   },
   "source": [
    "<a href=\"https://colab.research.google.com/github/ocean-data-factory-sweden/kso-data-management/blob/main/tutorials/08_Analyse_Aggregate_Zooniverse_Annotations.ipynb\" target=\"_parent\"><img src=\"https://colab.research.google.com/assets/colab-badge.svg\" alt=\"Open In Colab\"/></a>"
   ]
  },
  {
   "attachments": {},
   "cell_type": "markdown",
   "id": "a49ece9a",
   "metadata": {
    "id": "a49ece9a"
   },
   "source": [
    "<img align=\"left\" src=\"https://panoptes-uploads.zooniverse.org/project_avatar/86c23ca7-bbaa-4e84-8d8a-876819551431.png\" type=\"image/png\" height=100 width=100>\n",
    "</img>\n",
    "\n",
    "\n",
    "<h1 align=\"right\">KSO Tutorials #8: Analyse / Aggregate Zooniverse classifications</h1>\n",
    "<h3 align=\"right\">Written by the KSO team</h3>"
   ]
  },
  {
   "cell_type": "markdown",
   "id": "FlVXYRkEzfGq",
   "metadata": {
    "id": "FlVXYRkEzfGq"
   },
   "source": [
    "# Set up KSO requirements"
   ]
  },
  {
   "cell_type": "code",
   "execution_count": null,
   "id": "4YRqq41oziEM",
   "metadata": {
    "cellView": "form",
    "colab": {
     "base_uri": "https://localhost:8080/"
    },
    "id": "4YRqq41oziEM",
    "outputId": "6ed4db31-aafb-4072-f975-168c1820c967"
   },
   "outputs": [],
   "source": [
    "# @title <font size=\"5\"><i>Install kso_data_management and its requirements</font> { vertical-output: true }\n",
    "\n",
    "from IPython.display import clear_output\n",
    "\n",
    "try:\n",
    "    import google.colab\n",
    "    import os\n",
    "\n",
    "    IN_COLAB = True\n",
    "    print(\"Running in Colab...\")\n",
    "\n",
    "    # Clone kso-data-management repo\n",
    "    !git clone --quiet --recurse-submodules -b main https://github.com/ocean-data-factory-sweden/kso-data-management.git\n",
    "    !pip install -q --upgrade pip\n",
    "    !pip install -q -r kso-data-management/requirements.txt\n",
    "\n",
    "    # Fix libmagic issue\n",
    "    !apt-get -qq update && apt-get -qq install -y libmagic-dev > /dev/null\n",
    "\n",
    "    # Enable external widgets\n",
    "    from google.colab import output\n",
    "\n",
    "    output.enable_custom_widget_manager()\n",
    "\n",
    "    os.chdir(\"kso-data-management/tutorials\")\n",
    "    try:\n",
    "        clear_output()\n",
    "        print(\"All packages are installed and ready to go!\")\n",
    "    except:\n",
    "        clear_output()\n",
    "        print(\"There have been some issues installing the packages!\")\n",
    "except:\n",
    "    IN_COLAB = False\n",
    "    import sys\n",
    "\n",
    "    # Install requirements\n",
    "    !pip install -q --no-warn-script-location --upgrade pip\n",
    "    !pip install -qr ../requirements.txt\n",
    "\n",
    "    !jupyter nbextension install --user --py widgetsnbextension\n",
    "    !jupyter nbextension enable --user --py widgetsnbextension\n",
    "    !jupyter nbextension install --user --py jupyter_bbox_widget\n",
    "    !jupyter nbextension enable --user --py jupyter_bbox_widget\n",
    "\n",
    "    clear_output()\n",
    "    print(\"Running locally... you're good to go!\")\n",
    "\n",
    "#######Import Python packages########\n",
    "\n",
    "# Set the directory of the libraries\n",
    "import sys, os\n",
    "from pathlib import Path\n",
    "\n",
    "# Enables testing changes in utils\n",
    "%load_ext autoreload\n",
    "%autoreload 2\n",
    "\n",
    "# Specify the path of the tutorials\n",
    "sys.path.append(\"..\")\n",
    "\n",
    "# Import required modules\n",
    "import kso_utils.tutorials_utils as t_utils\n",
    "import kso_utils.server_utils as s_utils\n",
    "import kso_utils.project_utils as p_utils\n",
    "import kso_utils.t3_utils as t3\n",
    "import kso_utils.t4_utils as t4\n",
    "import kso_utils.t5_utils as t5\n",
    "import kso_utils.t8_utils as t8\n",
    "from kso_utils.yolo_utils import frame_aggregation\n",
    "from kso_utils.zooniverse_utils import populate_agg_annotations\n",
    "\n",
    "print(\"Packages loaded successfully\")"
   ]
  },
  {
   "cell_type": "code",
   "execution_count": null,
   "id": "ZI0XH96WzfGs",
   "metadata": {
    "cellView": "form",
    "colab": {
     "base_uri": "https://localhost:8080/",
     "height": 49,
     "referenced_widgets": [
      "81cac5c3aeaf4cc6ae10733c0a96b173",
      "24452afc70434260b813403f39b819fb",
      "18fbd16f947241a29aaf9c156c08da7d"
     ]
    },
    "id": "ZI0XH96WzfGs",
    "outputId": "b33d50d5-a5cf-4c46-e9ed-0d309c4ca022"
   },
   "outputs": [],
   "source": [
    "# @title <font size=\"5\"><i>Choose your project</font> { vertical-output: true }\n",
    "project_name = t_utils.choose_project()"
   ]
  },
  {
   "cell_type": "code",
   "execution_count": null,
   "id": "o8ShAbg3zfGs",
   "metadata": {
    "cellView": "form",
    "colab": {
     "base_uri": "https://localhost:8080/"
    },
    "id": "o8ShAbg3zfGs",
    "outputId": "140f078a-5faf-4642-8512-3337be707aa3"
   },
   "outputs": [],
   "source": [
    "# @title <font size=\"5\"><i>Initiate project's database</font> { vertical-output: true }\n",
    "# Save the name of the project\n",
    "project = p_utils.find_project(project_name=project_name.value)\n",
    "\n",
    "# Initiate db\n",
    "db_info_dict = t_utils.initiate_db(project)"
   ]
  },
  {
   "cell_type": "code",
   "execution_count": null,
   "id": "bHyy9nDOzfGt",
   "metadata": {
    "cellView": "form",
    "colab": {
     "base_uri": "https://localhost:8080/"
    },
    "id": "bHyy9nDOzfGt",
    "outputId": "5b70b6e9-0469-4c81-b632-748b479b2a32"
   },
   "outputs": [],
   "source": [
    "# @title <font size=\"5\"><i>Connect to Zooniverse</font> { vertical-output: true }\n",
    "zoo_project = t_utils.connect_zoo_project(project)"
   ]
  },
  {
   "cell_type": "code",
   "execution_count": null,
   "id": "HTLGiO6RFMfP",
   "metadata": {
    "cellView": "form",
    "colab": {
     "base_uri": "https://localhost:8080/",
     "height": 179,
     "referenced_widgets": [
      "588440859f67419f9e87c22f2c9951fc",
      "336c610a00b5416b81d477d4a20963d3",
      "0b3e130b87ca49dda11d4217bbd4ca95",
      "7d29c879b9a141758f7ac889e0c9053f",
      "132f3f8429aa462b886a20a863f58aec",
      "aee3433f7f6e47c2ac9ddfcf49416d1c",
      "5696b36241de4bc08fd7cd9f1b0dee12"
     ]
    },
    "id": "HTLGiO6RFMfP",
    "outputId": "0087cde7-1c53-4b17-d801-dbfc8069f98f"
   },
   "outputs": [],
   "source": [
    "# @title <font size=\"5\"><i>Select the information to retrieve from Zooniverse</font> { vertical-output: true }\n",
    "\n",
    "retrieve_info = t_utils.select_retrieve_info()"
   ]
  },
  {
   "cell_type": "code",
   "execution_count": null,
   "id": "3iIYThmuzfGu",
   "metadata": {
    "colab": {
     "base_uri": "https://localhost:8080/"
    },
    "id": "3iIYThmuzfGu",
    "outputId": "e57fb7e0-3a54-4fe8-fffa-a187563fb9a2"
   },
   "outputs": [],
   "source": [
    "# @title <font size=\"5\"><i>Retrieve the information from Zooniverse</font> { vertical-output: true }\n",
    "\n",
    "zoo_info_dict = t_utils.retrieve__populate_zoo_info(\n",
    "    project=project,\n",
    "    db_info_dict=db_info_dict,\n",
    "    zoo_project=zoo_project,\n",
    "    zoo_info=[\"subjects\", \"workflows\", \"classifications\"],\n",
    "    generate_export=retrieve_info.result,\n",
    ")"
   ]
  },
  {
   "cell_type": "markdown",
   "id": "q-pVC53krSRx",
   "metadata": {
    "id": "q-pVC53krSRx"
   },
   "source": [
    "# Specify Zooniverse workflow of interest"
   ]
  },
  {
   "cell_type": "code",
   "execution_count": null,
   "id": "ADAbUiqYzfGv",
   "metadata": {
    "cellView": "form",
    "colab": {
     "base_uri": "https://localhost:8080/",
     "height": 93,
     "referenced_widgets": [
      "37d4e18899ec48e1839422ede9f25eb8",
      "a37844e98f884097af8f5967bed41e51",
      "3e38b421e9b44b1f8e287976ba2028cc",
      "b8b17c3045d74bcca2375c969511cc6b",
      "534f2d8cdced465391b593e86680ea47",
      "176a41815eb041d289ee67ff15501019",
      "ba9b290dbbe4424d8018d25ba8e8fb1a",
      "5c0fb51c6f734a39b5f0d01b2026a60e",
      "a4ad591f1df946ba9180de7a0e25f79f",
      "3b7ca0b44d0c4aa7a6e9159a430b7d2f",
      "b02127290a8a41eb897252523324d266",
      "25d67e0d05d641dd96322293627b725b",
      "1a3f46a31fd84bb898194ec4cb59555e",
      "c85e4387124947c984755bc3c944b17d",
      "5f39ba5a6b644fdab3d9ab57c8a10c96",
      "a3d4212aaa7c472d810ea04cd08c17a7",
      "aa9ce20d3b43468f8a7a18ba448892dd",
      "149345799ee04868bb66ff1a7ec710ce",
      "04ef004c02104568a0fe6ee36eee19a4"
     ]
    },
    "id": "ADAbUiqYzfGv",
    "outputId": "73264756-3446-4583-ba37-476c61b5260f"
   },
   "outputs": [],
   "source": [
    "# @title <font size=\"5\"><i>Select Zooniverse workflow id and version of interest</font> { vertical-output: true }\n",
    "\n",
    "# Note: A manual export in Zooniverse is required to get the most up-to-date classifications here*\n",
    "\n",
    "# Make sure your workflows in Zooniverse have different names to avoid issues while selecting the workflow id\n",
    "\n",
    "# Display a selectable list of workflow names and a list of versions of the workflow of interest\n",
    "workflows_df = zoo_info_dict[\"workflows\"]\n",
    "wm = t8.WidgetMaker(workflows_df)\n",
    "wm"
   ]
  },
  {
   "cell_type": "code",
   "execution_count": null,
   "id": "zRyKGVqczfGv",
   "metadata": {
    "colab": {
     "base_uri": "https://localhost:8080/"
    },
    "id": "zRyKGVqczfGv",
    "outputId": "b6eef151-4cf8-4b86-bb94-8e128fbe2983"
   },
   "outputs": [],
   "source": [
    "# @title <font size=\"5\"><i>Retrieve classifications from the workflow of interest</font> { vertical-output: true }\n",
    "\n",
    "# Retrieve classifications from the workflow of interest\n",
    "class_df = t8.get_classifications(\n",
    "    wm.checks,\n",
    "    workflows_df,\n",
    "    wm.checks[\"Subject type: #0\"],\n",
    "    zoo_info_dict[\"classifications\"],\n",
    "    db_info_dict[\"db_path\"],\n",
    "    project,\n",
    ")"
   ]
  },
  {
   "cell_type": "markdown",
   "id": "R00g9V9yjWPX",
   "metadata": {
    "id": "R00g9V9yjWPX"
   },
   "source": [
    "# Aggregate classifications received on the workflow of interest"
   ]
  },
  {
   "cell_type": "code",
   "execution_count": null,
   "id": "vlKLaOC3zfGw",
   "metadata": {
    "cellView": "form",
    "colab": {
     "base_uri": "https://localhost:8080/",
     "height": 79,
     "referenced_widgets": [
      "ae2072d9565540f1b1163537f514cb12",
      "b06aa2e05b404e718fc5fa3996e7fcdc",
      "73cb0288c8514d45b5de63682384566a",
      "f5dea455217d4e36a8b5862d405e918f",
      "183dd76f654242dc9246db0a461ff8da",
      "e774a378fa8048b4b6e0dcdecf04e1e7"
     ]
    },
    "id": "vlKLaOC3zfGw",
    "outputId": "8bb53242-a569-4cf9-cffe-351434f54f2d"
   },
   "outputs": [],
   "source": [
    "# @title <font size=\"5\"><i>Specify agreement threshold among cit scientists</font> { vertical-output: true }\n",
    "\n",
    "agg_params = t8.choose_agg_parameters(wm.checks[\"Subject type: #0\"])"
   ]
  },
  {
   "cell_type": "code",
   "execution_count": null,
   "id": "cJEbNORczfGw",
   "metadata": {
    "colab": {
     "base_uri": "https://localhost:8080/"
    },
    "id": "cJEbNORczfGw",
    "outputId": "67b29ecb-ccef-4c8b-b653-36db04a273d6"
   },
   "outputs": [],
   "source": [
    "# @title <font size=\"5\"><i>Aggregate classifications based on threshold</font> { vertical-output: true }\n",
    "\n",
    "agg_class_df, raw_class_df = t8.aggregrate_classifications(\n",
    "    df=class_df,\n",
    "    subj_type=wm.checks[\"Subject type: #0\"],\n",
    "    project=project,\n",
    "    agg_params=agg_params,\n",
    ")"
   ]
  },
  {
   "cell_type": "markdown",
   "id": "1iI7Jv5KjWPX",
   "metadata": {
    "id": "1iI7Jv5KjWPX"
   },
   "source": [
    "# Explore the aggregated classifications"
   ]
  },
  {
   "cell_type": "code",
   "execution_count": null,
   "id": "4QAUKSRSjWPX",
   "metadata": {
    "cellView": "form",
    "colab": {
     "base_uri": "https://localhost:8080/"
    },
    "id": "4QAUKSRSjWPX",
    "outputId": "bc8d5fbc-8b19-4e69-9a49-238c1a13964d"
   },
   "outputs": [],
   "source": [
    "# @title <font size=\"5\"><i>Summarise the number of aggregated classifications</font> { vertical-output: true }\n",
    "\n",
    "agg_class_df.groupby(\"label\")[\"subject_ids\"].agg(\"count\")"
   ]
  },
  {
   "cell_type": "code",
   "execution_count": null,
   "id": "i_aKwdLWjWPX",
   "metadata": {
    "cellView": "form",
    "id": "i_aKwdLWjWPX"
   },
   "outputs": [],
   "source": [
    "# @title <font size=\"5\"><i>Display all the aggregated classifications in a table</font> { vertical-output: true }\n",
    "\n",
    "t8.launch_table(agg_class_df, wm.checks[\"Subject type: #0\"])"
   ]
  },
  {
   "cell_type": "code",
   "execution_count": null,
   "id": "4370d487",
   "metadata": {
    "cellView": "form",
    "id": "4370d487"
   },
   "outputs": [],
   "source": [
    "# @title <font size=\"5\"><i>Display a subject and its aggregated classifications</font> { vertical-output: true }\n",
    "\n",
    "t8.launch_viewer(agg_class_df, wm.checks[\"Subject type: #0\"])"
   ]
  },
  {
   "cell_type": "code",
   "execution_count": null,
   "id": "Lv1VydtBpAQT",
   "metadata": {
    "cellView": "form",
    "id": "Lv1VydtBpAQT"
   },
   "outputs": [],
   "source": [
    "# @title <font size=\"5\"><i>Display the individual/non-aggregated classifications of a subject</font> { vertical-output: true }\n",
    "\n",
    "t8.explore_classifications_per_subject(raw_class_df, wm.checks[\"Subject type: #0\"])"
   ]
  },
  {
   "cell_type": "markdown",
   "id": "Q4XNdjhhzfGw",
   "metadata": {
    "id": "Q4XNdjhhzfGw"
   },
   "source": [
    "# OPTIONAL - Export aggregated classifications in YOLO format (For ML purposes)"
   ]
  },
  {
   "cell_type": "markdown",
   "id": "RkHzQIzxzfGu",
   "metadata": {
    "id": "RkHzQIzxzfGu"
   },
   "source": [
    "## Prepare the labelled frames"
   ]
  },
  {
   "cell_type": "code",
   "execution_count": null,
   "id": "-Vf8F9j0zfGv",
   "metadata": {
    "id": "-Vf8F9j0zfGv"
   },
   "outputs": [],
   "source": [
    "# @title <font size=\"5\"><i>Choose species of interest for model training</font> { vertical-output: true }\n",
    "\n",
    "# Roadblock to ensure the subject types are frames\n",
    "if wm.checks[\"Subject type: #0\"] != \"frame\":\n",
    "    raise ValueError(\"The subject types are not frames.\")\n",
    "else:\n",
    "    # Choose species of interest for model training\n",
    "    species_i = t4.choose_species(db_info_dict)"
   ]
  },
  {
   "cell_type": "code",
   "execution_count": null,
   "id": "NyZosOq-zfGv",
   "metadata": {
    "id": "NyZosOq-zfGv"
   },
   "outputs": [],
   "source": [
    "# @title <font size=\"5\"><i>Store selected classes of interest</font> { vertical-output: true }\n",
    "# Store selected classes of interest\n",
    "cl = list(species_i.value)\n",
    "print(\"The select species are\", cl)"
   ]
  },
  {
   "cell_type": "code",
   "execution_count": null,
   "id": "HvaEo7mjzfGv",
   "metadata": {
    "id": "HvaEo7mjzfGv"
   },
   "outputs": [],
   "source": [
    "# @title <font size=\"5\"><i>Specify path to store the labelled frames and annotations</font> { vertical-output: true }\n",
    "# Specify path to store the labelled frames and annotations\n",
    "output_folder = t_utils.choose_folder(\".\", \"output\")"
   ]
  },
  {
   "cell_type": "code",
   "execution_count": null,
   "id": "PEGK4xs2-4Wy",
   "metadata": {
    "id": "PEGK4xs2-4Wy"
   },
   "outputs": [],
   "source": [
    "# @title <font size=\"5\"><i>Select only relevant species frames</font> { vertical-output: true }\n",
    "# Select only relevant species frames\n",
    "agg_class_selected = agg_class_df[agg_class_df.label.isin(cl)]"
   ]
  },
  {
   "cell_type": "code",
   "execution_count": null,
   "id": "ktc1PheBRPM8",
   "metadata": {
    "id": "ktc1PheBRPM8"
   },
   "outputs": [],
   "source": [
    "# @title <font size=\"5\"><i>Preview aggregated frame information</font> { vertical-output: true }\n",
    "# Preview aggregated frame information\n",
    "agg_class_selected.head()"
   ]
  },
  {
   "cell_type": "markdown",
   "id": "B_k4w2rRJYjF",
   "metadata": {
    "id": "B_k4w2rRJYjF"
   },
   "source": [
    "## Process labelled frames"
   ]
  },
  {
   "cell_type": "code",
   "execution_count": null,
   "id": "e2G-3BQe-0BV",
   "metadata": {
    "id": "e2G-3BQe-0BV"
   },
   "outputs": [],
   "source": [
    "# @title <font size=\"5\"><i>Add annotations to db</font> { vertical-output: true }\n",
    "# Add annotations to db\n",
    "populate_agg_annotations(agg_class_selected, \"frame\", project)"
   ]
  },
  {
   "cell_type": "code",
   "execution_count": null,
   "id": "eQekPWcRzfGw",
   "metadata": {
    "id": "eQekPWcRzfGw"
   },
   "outputs": [],
   "source": [
    "# @title <font size=\"5\"><i>Determine your training parameters</font> { vertical-output: true }\n",
    "# Determine your training parameters\n",
    "percentage_test = t5.choose_test_prop()"
   ]
  },
  {
   "cell_type": "code",
   "execution_count": null,
   "id": "DsxAuGG_zfGw",
   "metadata": {
    "id": "DsxAuGG_zfGw"
   },
   "outputs": [],
   "source": [
    "# @title <font size=\"5\"><i>Run the preparation script</font> { vertical-output: true }\n",
    "# Run the preparation script\n",
    "frame_aggregation(\n",
    "    project,\n",
    "    db_info_dict,\n",
    "    output_folder.selected,\n",
    "    percentage_test.value,\n",
    "    cl,\n",
    "    (720, 540),\n",
    "    remove_nulls=True,\n",
    "    track_frames=False,\n",
    "    n_tracked_frames=10,\n",
    "    agg_df=agg_class_selected,\n",
    ")"
   ]
  },
  {
   "cell_type": "markdown",
   "id": "Mw_ZiNtVKyMA",
   "metadata": {
    "id": "Mw_ZiNtVKyMA"
   },
   "source": [
    "\n",
    "## Preview and adjust aggregated annotations"
   ]
  },
  {
   "cell_type": "code",
   "execution_count": null,
   "id": "M-gyODDRKkhw",
   "metadata": {
    "cellView": "form",
    "id": "M-gyODDRKkhw"
   },
   "outputs": [],
   "source": [
    "# @title <font size=\"5\"><i>Preview and adjust annotations</font> { vertical-output: true }\n",
    "t8.get_annotations_viewer(output_folder.selected, species_list=cl)"
   ]
  },
  {
   "cell_type": "markdown",
   "id": "iLAB5SCh9ma_",
   "metadata": {
    "id": "iLAB5SCh9ma_"
   },
   "source": [
    "\n",
    "# OPTIONAL - Export observations in GBIF/OBIS format (For biodiversity purposes)"
   ]
  },
  {
   "cell_type": "code",
   "execution_count": null,
   "id": "NHvVweuAEWxJ",
   "metadata": {
    "colab": {
     "base_uri": "https://localhost:8080/"
    },
    "id": "NHvVweuAEWxJ",
    "outputId": "5d2cc443-7244-403b-aca1-f031b6e1041e"
   },
   "outputs": [],
   "source": [
    "# @title <font size=\"5\"><i>Format the classifications to Darwin Core Standard occurrences</font> { vertical-output: true }\n",
    "occurrence_df = t8.format_to_gbif_occurence(\n",
    "    df=agg_class_df,\n",
    "    classified_by=\"citizen_scientists\",\n",
    "    subject_type=wm.checks[\"Subject type: #0\"],\n",
    "    db_info_dict=db_info_dict,\n",
    "    project=project,\n",
    "    zoo_info_dict=zoo_info_dict,\n",
    ")"
   ]
  },
  {
   "cell_type": "code",
   "execution_count": null,
   "id": "06d827c2",
   "metadata": {},
   "outputs": [],
   "source": [
    "# @title <font size=\"5\"><i>Save the occurence df locally</font> { vertical-output: true }\n",
    "\n",
    "occurrence_df.to_csv(\"occurrence_for_gbif.csv\", index=False)\n",
    "print(\"The observations are now saved in occurrence_for_gbif.csv\")"
   ]
  },
  {
   "cell_type": "code",
   "execution_count": null,
   "id": "8umCRoDozfGx",
   "metadata": {
    "id": "8umCRoDozfGx"
   },
   "outputs": [],
   "source": [
    "# END"
   ]
  }
 ],
 "metadata": {
  "colab": {
   "collapsed_sections": [
    "Q4XNdjhhzfGw",
    "RkHzQIzxzfGu",
    "B_k4w2rRJYjF",
    "Mw_ZiNtVKyMA"
   ],
   "provenance": []
  },
  "kernelspec": {
   "display_name": "Python 3 (ipykernel)",
   "language": "python",
   "name": "python3"
  },
  "language_info": {
   "codemirror_mode": {
    "name": "ipython",
    "version": 3
   },
   "file_extension": ".py",
   "mimetype": "text/x-python",
   "name": "python",
   "nbconvert_exporter": "python",
   "pygments_lexer": "ipython3",
   "version": "3.8.8 | packaged by conda-forge | (default, Feb 20 2021, 16:12:38) \n[Clang 11.0.1 ]"
  },
  "vscode": {
   "interpreter": {
    "hash": "9f0064b85a3bc365415745ead9abb78ac240c43fe3a2a9861333bea64f4ce941"
   }
  },
  "widgets": {
   "application/vnd.jupyter.widget-state+json": {
    "04ef004c02104568a0fe6ee36eee19a4": {
     "model_module": "@jupyter-widgets/controls",
     "model_module_version": "1.5.0",
     "model_name": "DescriptionStyleModel",
     "state": {
      "_model_module": "@jupyter-widgets/controls",
      "_model_module_version": "1.5.0",
      "_model_name": "DescriptionStyleModel",
      "_view_count": null,
      "_view_module": "@jupyter-widgets/base",
      "_view_module_version": "1.2.0",
      "_view_name": "StyleView",
      "description_width": "initial"
     }
    },
    "0b3e130b87ca49dda11d4217bbd4ca95": {
     "model_module": "@jupyter-widgets/output",
     "model_module_version": "1.0.0",
     "model_name": "OutputModel",
     "state": {
      "_dom_classes": [],
      "_model_module": "@jupyter-widgets/output",
      "_model_module_version": "1.0.0",
      "_model_name": "OutputModel",
      "_view_count": null,
      "_view_module": "@jupyter-widgets/output",
      "_view_module_version": "1.0.0",
      "_view_name": "OutputView",
      "layout": "IPY_MODEL_5696b36241de4bc08fd7cd9f1b0dee12",
      "msg_id": "",
      "outputs": []
     }
    },
    "132f3f8429aa462b886a20a863f58aec": {
     "model_module": "@jupyter-widgets/base",
     "model_module_version": "1.2.0",
     "model_name": "LayoutModel",
     "state": {
      "_model_module": "@jupyter-widgets/base",
      "_model_module_version": "1.2.0",
      "_model_name": "LayoutModel",
      "_view_count": null,
      "_view_module": "@jupyter-widgets/base",
      "_view_module_version": "1.2.0",
      "_view_name": "LayoutView",
      "align_content": null,
      "align_items": null,
      "align_self": null,
      "border": null,
      "bottom": null,
      "display": null,
      "flex": null,
      "flex_flow": null,
      "grid_area": null,
      "grid_auto_columns": null,
      "grid_auto_flow": null,
      "grid_auto_rows": null,
      "grid_column": null,
      "grid_gap": null,
      "grid_row": null,
      "grid_template_areas": null,
      "grid_template_columns": null,
      "grid_template_rows": null,
      "height": null,
      "justify_content": null,
      "justify_items": null,
      "left": null,
      "margin": null,
      "max_height": null,
      "max_width": null,
      "min_height": null,
      "min_width": null,
      "object_fit": null,
      "object_position": null,
      "order": null,
      "overflow": null,
      "overflow_x": null,
      "overflow_y": null,
      "padding": null,
      "right": null,
      "top": null,
      "visibility": null,
      "width": "max-content"
     }
    },
    "149345799ee04868bb66ff1a7ec710ce": {
     "model_module": "@jupyter-widgets/base",
     "model_module_version": "1.2.0",
     "model_name": "LayoutModel",
     "state": {
      "_model_module": "@jupyter-widgets/base",
      "_model_module_version": "1.2.0",
      "_model_name": "LayoutModel",
      "_view_count": null,
      "_view_module": "@jupyter-widgets/base",
      "_view_module_version": "1.2.0",
      "_view_name": "LayoutView",
      "align_content": null,
      "align_items": null,
      "align_self": null,
      "border": null,
      "bottom": null,
      "display": null,
      "flex": null,
      "flex_flow": null,
      "grid_area": null,
      "grid_auto_columns": null,
      "grid_auto_flow": null,
      "grid_auto_rows": null,
      "grid_column": null,
      "grid_gap": null,
      "grid_row": null,
      "grid_template_areas": null,
      "grid_template_columns": null,
      "grid_template_rows": null,
      "height": null,
      "justify_content": null,
      "justify_items": null,
      "left": null,
      "margin": null,
      "max_height": null,
      "max_width": null,
      "min_height": null,
      "min_width": null,
      "object_fit": null,
      "object_position": null,
      "order": null,
      "overflow": null,
      "overflow_x": null,
      "overflow_y": null,
      "padding": null,
      "right": null,
      "top": null,
      "visibility": null,
      "width": null
     }
    },
    "176a41815eb041d289ee67ff15501019": {
     "model_module": "@jupyter-widgets/controls",
     "model_module_version": "1.5.0",
     "model_name": "DescriptionStyleModel",
     "state": {
      "_model_module": "@jupyter-widgets/controls",
      "_model_module_version": "1.5.0",
      "_model_name": "DescriptionStyleModel",
      "_view_count": null,
      "_view_module": "@jupyter-widgets/base",
      "_view_module_version": "1.2.0",
      "_view_name": "StyleView",
      "description_width": "initial"
     }
    },
    "183dd76f654242dc9246db0a461ff8da": {
     "model_module": "@jupyter-widgets/base",
     "model_module_version": "1.2.0",
     "model_name": "LayoutModel",
     "state": {
      "_model_module": "@jupyter-widgets/base",
      "_model_module_version": "1.2.0",
      "_model_name": "LayoutModel",
      "_view_count": null,
      "_view_module": "@jupyter-widgets/base",
      "_view_module_version": "1.2.0",
      "_view_name": "LayoutView",
      "align_content": null,
      "align_items": null,
      "align_self": null,
      "border": null,
      "bottom": null,
      "display": null,
      "flex": null,
      "flex_flow": null,
      "grid_area": null,
      "grid_auto_columns": null,
      "grid_auto_flow": null,
      "grid_auto_rows": null,
      "grid_column": null,
      "grid_gap": null,
      "grid_row": null,
      "grid_template_areas": null,
      "grid_template_columns": null,
      "grid_template_rows": null,
      "height": null,
      "justify_content": null,
      "justify_items": null,
      "left": null,
      "margin": null,
      "max_height": null,
      "max_width": null,
      "min_height": null,
      "min_width": null,
      "object_fit": null,
      "object_position": null,
      "order": null,
      "overflow": null,
      "overflow_x": null,
      "overflow_y": null,
      "padding": null,
      "right": null,
      "top": null,
      "visibility": null,
      "width": null
     }
    },
    "18fbd16f947241a29aaf9c156c08da7d": {
     "model_module": "@jupyter-widgets/controls",
     "model_module_version": "1.5.0",
     "model_name": "DescriptionStyleModel",
     "state": {
      "_model_module": "@jupyter-widgets/controls",
      "_model_module_version": "1.5.0",
      "_model_name": "DescriptionStyleModel",
      "_view_count": null,
      "_view_module": "@jupyter-widgets/base",
      "_view_module_version": "1.2.0",
      "_view_name": "StyleView",
      "description_width": ""
     }
    },
    "1a3f46a31fd84bb898194ec4cb59555e": {
     "model_module": "@jupyter-widgets/base",
     "model_module_version": "1.2.0",
     "model_name": "LayoutModel",
     "state": {
      "_model_module": "@jupyter-widgets/base",
      "_model_module_version": "1.2.0",
      "_model_name": "LayoutModel",
      "_view_count": null,
      "_view_module": "@jupyter-widgets/base",
      "_view_module_version": "1.2.0",
      "_view_name": "LayoutView",
      "align_content": null,
      "align_items": null,
      "align_self": null,
      "border": null,
      "bottom": null,
      "display": null,
      "flex": null,
      "flex_flow": null,
      "grid_area": null,
      "grid_auto_columns": null,
      "grid_auto_flow": null,
      "grid_auto_rows": null,
      "grid_column": null,
      "grid_gap": null,
      "grid_row": null,
      "grid_template_areas": null,
      "grid_template_columns": null,
      "grid_template_rows": null,
      "height": null,
      "justify_content": null,
      "justify_items": null,
      "left": null,
      "margin": null,
      "max_height": null,
      "max_width": null,
      "min_height": null,
      "min_width": null,
      "object_fit": null,
      "object_position": null,
      "order": null,
      "overflow": null,
      "overflow_x": null,
      "overflow_y": null,
      "padding": null,
      "right": null,
      "top": null,
      "visibility": null,
      "width": null
     }
    },
    "24452afc70434260b813403f39b819fb": {
     "model_module": "@jupyter-widgets/base",
     "model_module_version": "1.2.0",
     "model_name": "LayoutModel",
     "state": {
      "_model_module": "@jupyter-widgets/base",
      "_model_module_version": "1.2.0",
      "_model_name": "LayoutModel",
      "_view_count": null,
      "_view_module": "@jupyter-widgets/base",
      "_view_module_version": "1.2.0",
      "_view_name": "LayoutView",
      "align_content": null,
      "align_items": null,
      "align_self": null,
      "border": null,
      "bottom": null,
      "display": null,
      "flex": null,
      "flex_flow": null,
      "grid_area": null,
      "grid_auto_columns": null,
      "grid_auto_flow": null,
      "grid_auto_rows": null,
      "grid_column": null,
      "grid_gap": null,
      "grid_row": null,
      "grid_template_areas": null,
      "grid_template_columns": null,
      "grid_template_rows": null,
      "height": null,
      "justify_content": null,
      "justify_items": null,
      "left": null,
      "margin": null,
      "max_height": null,
      "max_width": null,
      "min_height": null,
      "min_width": null,
      "object_fit": null,
      "object_position": null,
      "order": null,
      "overflow": null,
      "overflow_x": null,
      "overflow_y": null,
      "padding": null,
      "right": null,
      "top": null,
      "visibility": null,
      "width": null
     }
    },
    "25d67e0d05d641dd96322293627b725b": {
     "model_module": "@jupyter-widgets/controls",
     "model_module_version": "1.5.0",
     "model_name": "DescriptionStyleModel",
     "state": {
      "_model_module": "@jupyter-widgets/controls",
      "_model_module_version": "1.5.0",
      "_model_name": "DescriptionStyleModel",
      "_view_count": null,
      "_view_module": "@jupyter-widgets/base",
      "_view_module_version": "1.2.0",
      "_view_name": "StyleView",
      "description_width": "initial"
     }
    },
    "336c610a00b5416b81d477d4a20963d3": {
     "model_module": "@jupyter-widgets/controls",
     "model_module_version": "1.5.0",
     "model_name": "RadioButtonsModel",
     "state": {
      "_dom_classes": [],
      "_model_module": "@jupyter-widgets/controls",
      "_model_module_version": "1.5.0",
      "_model_name": "RadioButtonsModel",
      "_options_labels": [
       "Yes",
       "No, just download the last available information"
      ],
      "_view_count": null,
      "_view_module": "@jupyter-widgets/controls",
      "_view_module_version": "1.5.0",
      "_view_name": "RadioButtonsView",
      "description": "Do you want to request the most up-to-date Zooniverse information?",
      "description_tooltip": null,
      "disabled": false,
      "index": 1,
      "layout": "IPY_MODEL_132f3f8429aa462b886a20a863f58aec",
      "style": "IPY_MODEL_aee3433f7f6e47c2ac9ddfcf49416d1c"
     }
    },
    "37d4e18899ec48e1839422ede9f25eb8": {
     "model_module": "@jupyter-widgets/controls",
     "model_module_version": "1.5.0",
     "model_name": "VBoxModel",
     "state": {
      "_dom_classes": [],
      "_model_module": "@jupyter-widgets/controls",
      "_model_module_version": "1.5.0",
      "_model_name": "VBoxModel",
      "_view_count": null,
      "_view_module": "@jupyter-widgets/controls",
      "_view_module_version": "1.5.0",
      "_view_name": "VBoxView",
      "box_style": "",
      "children": [
       "IPY_MODEL_a37844e98f884097af8f5967bed41e51",
       "IPY_MODEL_3e38b421e9b44b1f8e287976ba2028cc"
      ],
      "layout": "IPY_MODEL_b8b17c3045d74bcca2375c969511cc6b"
     }
    },
    "3b7ca0b44d0c4aa7a6e9159a430b7d2f": {
     "model_module": "@jupyter-widgets/controls",
     "model_module_version": "1.5.0",
     "model_name": "DescriptionStyleModel",
     "state": {
      "_model_module": "@jupyter-widgets/controls",
      "_model_module_version": "1.5.0",
      "_model_name": "DescriptionStyleModel",
      "_view_count": null,
      "_view_module": "@jupyter-widgets/base",
      "_view_module_version": "1.2.0",
      "_view_name": "StyleView",
      "description_width": "initial"
     }
    },
    "3e38b421e9b44b1f8e287976ba2028cc": {
     "model_module": "@jupyter-widgets/controls",
     "model_module_version": "1.5.0",
     "model_name": "HBoxModel",
     "state": {
      "_dom_classes": [],
      "_model_module": "@jupyter-widgets/controls",
      "_model_module_version": "1.5.0",
      "_model_name": "HBoxModel",
      "_view_count": null,
      "_view_module": "@jupyter-widgets/controls",
      "_view_module_version": "1.5.0",
      "_view_name": "HBoxView",
      "box_style": "",
      "children": [
       "IPY_MODEL_5f39ba5a6b644fdab3d9ab57c8a10c96",
       "IPY_MODEL_a3d4212aaa7c472d810ea04cd08c17a7",
       "IPY_MODEL_aa9ce20d3b43468f8a7a18ba448892dd"
      ],
      "layout": "IPY_MODEL_ba9b290dbbe4424d8018d25ba8e8fb1a"
     }
    },
    "534f2d8cdced465391b593e86680ea47": {
     "model_module": "@jupyter-widgets/base",
     "model_module_version": "1.2.0",
     "model_name": "LayoutModel",
     "state": {
      "_model_module": "@jupyter-widgets/base",
      "_model_module_version": "1.2.0",
      "_model_name": "LayoutModel",
      "_view_count": null,
      "_view_module": "@jupyter-widgets/base",
      "_view_module_version": "1.2.0",
      "_view_name": "LayoutView",
      "align_content": null,
      "align_items": null,
      "align_self": null,
      "border": null,
      "bottom": null,
      "display": null,
      "flex": null,
      "flex_flow": null,
      "grid_area": null,
      "grid_auto_columns": null,
      "grid_auto_flow": null,
      "grid_auto_rows": null,
      "grid_column": null,
      "grid_gap": null,
      "grid_row": null,
      "grid_template_areas": null,
      "grid_template_columns": null,
      "grid_template_rows": null,
      "height": null,
      "justify_content": null,
      "justify_items": null,
      "left": null,
      "margin": null,
      "max_height": null,
      "max_width": null,
      "min_height": null,
      "min_width": null,
      "object_fit": null,
      "object_position": null,
      "order": null,
      "overflow": null,
      "overflow_x": null,
      "overflow_y": null,
      "padding": null,
      "right": null,
      "top": null,
      "visibility": null,
      "width": null
     }
    },
    "5696b36241de4bc08fd7cd9f1b0dee12": {
     "model_module": "@jupyter-widgets/base",
     "model_module_version": "1.2.0",
     "model_name": "LayoutModel",
     "state": {
      "_model_module": "@jupyter-widgets/base",
      "_model_module_version": "1.2.0",
      "_model_name": "LayoutModel",
      "_view_count": null,
      "_view_module": "@jupyter-widgets/base",
      "_view_module_version": "1.2.0",
      "_view_name": "LayoutView",
      "align_content": null,
      "align_items": null,
      "align_self": null,
      "border": null,
      "bottom": null,
      "display": null,
      "flex": null,
      "flex_flow": null,
      "grid_area": null,
      "grid_auto_columns": null,
      "grid_auto_flow": null,
      "grid_auto_rows": null,
      "grid_column": null,
      "grid_gap": null,
      "grid_row": null,
      "grid_template_areas": null,
      "grid_template_columns": null,
      "grid_template_rows": null,
      "height": null,
      "justify_content": null,
      "justify_items": null,
      "left": null,
      "margin": null,
      "max_height": null,
      "max_width": null,
      "min_height": null,
      "min_width": null,
      "object_fit": null,
      "object_position": null,
      "order": null,
      "overflow": null,
      "overflow_x": null,
      "overflow_y": null,
      "padding": null,
      "right": null,
      "top": null,
      "visibility": null,
      "width": null
     }
    },
    "588440859f67419f9e87c22f2c9951fc": {
     "model_module": "@jupyter-widgets/controls",
     "model_module_version": "1.5.0",
     "model_name": "VBoxModel",
     "state": {
      "_dom_classes": [
       "widget-interact"
      ],
      "_model_module": "@jupyter-widgets/controls",
      "_model_module_version": "1.5.0",
      "_model_name": "VBoxModel",
      "_view_count": null,
      "_view_module": "@jupyter-widgets/controls",
      "_view_module_version": "1.5.0",
      "_view_name": "VBoxView",
      "box_style": "",
      "children": [
       "IPY_MODEL_336c610a00b5416b81d477d4a20963d3",
       "IPY_MODEL_0b3e130b87ca49dda11d4217bbd4ca95"
      ],
      "layout": "IPY_MODEL_7d29c879b9a141758f7ac889e0c9053f"
     }
    },
    "5c0fb51c6f734a39b5f0d01b2026a60e": {
     "model_module": "@jupyter-widgets/base",
     "model_module_version": "1.2.0",
     "model_name": "LayoutModel",
     "state": {
      "_model_module": "@jupyter-widgets/base",
      "_model_module_version": "1.2.0",
      "_model_name": "LayoutModel",
      "_view_count": null,
      "_view_module": "@jupyter-widgets/base",
      "_view_module_version": "1.2.0",
      "_view_name": "LayoutView",
      "align_content": null,
      "align_items": null,
      "align_self": null,
      "border": null,
      "bottom": null,
      "display": null,
      "flex": null,
      "flex_flow": null,
      "grid_area": null,
      "grid_auto_columns": null,
      "grid_auto_flow": null,
      "grid_auto_rows": null,
      "grid_column": null,
      "grid_gap": null,
      "grid_row": null,
      "grid_template_areas": null,
      "grid_template_columns": null,
      "grid_template_rows": null,
      "height": "40px",
      "justify_content": null,
      "justify_items": null,
      "left": null,
      "margin": null,
      "max_height": null,
      "max_width": null,
      "min_height": null,
      "min_width": null,
      "object_fit": null,
      "object_position": null,
      "order": null,
      "overflow": null,
      "overflow_x": null,
      "overflow_y": null,
      "padding": null,
      "right": null,
      "top": null,
      "visibility": null,
      "width": "auto"
     }
    },
    "5f39ba5a6b644fdab3d9ab57c8a10c96": {
     "model_module": "@jupyter-widgets/controls",
     "model_module_version": "1.5.0",
     "model_name": "DropdownModel",
     "state": {
      "_dom_classes": [],
      "_model_module": "@jupyter-widgets/controls",
      "_model_module_version": "1.5.0",
      "_model_name": "DropdownModel",
      "_options_labels": [
       "new workflow title",
       "Development workflow"
      ],
      "_view_count": null,
      "_view_module": "@jupyter-widgets/controls",
      "_view_module_version": "1.5.0",
      "_view_name": "DropdownView",
      "description": "Workflow name: #0",
      "description_tooltip": null,
      "disabled": false,
      "index": 1,
      "layout": "IPY_MODEL_5c0fb51c6f734a39b5f0d01b2026a60e",
      "style": "IPY_MODEL_a4ad591f1df946ba9180de7a0e25f79f"
     }
    },
    "73cb0288c8514d45b5de63682384566a": {
     "model_module": "@jupyter-widgets/controls",
     "model_module_version": "1.5.0",
     "model_name": "SliderStyleModel",
     "state": {
      "_model_module": "@jupyter-widgets/controls",
      "_model_module_version": "1.5.0",
      "_model_name": "SliderStyleModel",
      "_view_count": null,
      "_view_module": "@jupyter-widgets/base",
      "_view_module_version": "1.2.0",
      "_view_name": "StyleView",
      "description_width": "initial",
      "handle_color": null
     }
    },
    "7d29c879b9a141758f7ac889e0c9053f": {
     "model_module": "@jupyter-widgets/base",
     "model_module_version": "1.2.0",
     "model_name": "LayoutModel",
     "state": {
      "_model_module": "@jupyter-widgets/base",
      "_model_module_version": "1.2.0",
      "_model_name": "LayoutModel",
      "_view_count": null,
      "_view_module": "@jupyter-widgets/base",
      "_view_module_version": "1.2.0",
      "_view_name": "LayoutView",
      "align_content": null,
      "align_items": null,
      "align_self": null,
      "border": null,
      "bottom": null,
      "display": null,
      "flex": null,
      "flex_flow": null,
      "grid_area": null,
      "grid_auto_columns": null,
      "grid_auto_flow": null,
      "grid_auto_rows": null,
      "grid_column": null,
      "grid_gap": null,
      "grid_row": null,
      "grid_template_areas": null,
      "grid_template_columns": null,
      "grid_template_rows": null,
      "height": null,
      "justify_content": null,
      "justify_items": null,
      "left": null,
      "margin": null,
      "max_height": null,
      "max_width": null,
      "min_height": null,
      "min_width": null,
      "object_fit": null,
      "object_position": null,
      "order": null,
      "overflow": null,
      "overflow_x": null,
      "overflow_y": null,
      "padding": null,
      "right": null,
      "top": null,
      "visibility": null,
      "width": null
     }
    },
    "81cac5c3aeaf4cc6ae10733c0a96b173": {
     "model_module": "@jupyter-widgets/controls",
     "model_module_version": "1.5.0",
     "model_name": "DropdownModel",
     "state": {
      "_dom_classes": [],
      "_model_module": "@jupyter-widgets/controls",
      "_model_module_version": "1.5.0",
      "_model_name": "DropdownModel",
      "_options_labels": [
       "Template project",
       "Koster_Seafloor_Obs",
       "Spyfish_Aotearoa",
       "SGU",
       "Medins",
       "GU",
       "model-registry"
      ],
      "_view_count": null,
      "_view_module": "@jupyter-widgets/controls",
      "_view_module_version": "1.5.0",
      "_view_name": "DropdownView",
      "description": "Project:",
      "description_tooltip": null,
      "disabled": false,
      "index": 2,
      "layout": "IPY_MODEL_24452afc70434260b813403f39b819fb",
      "style": "IPY_MODEL_18fbd16f947241a29aaf9c156c08da7d"
     }
    },
    "a37844e98f884097af8f5967bed41e51": {
     "model_module": "@jupyter-widgets/controls",
     "model_module_version": "1.5.0",
     "model_name": "IntTextModel",
     "state": {
      "_dom_classes": [],
      "_model_module": "@jupyter-widgets/controls",
      "_model_module_version": "1.5.0",
      "_model_name": "IntTextModel",
      "_view_count": null,
      "_view_module": "@jupyter-widgets/controls",
      "_view_module_version": "1.5.0",
      "_view_name": "IntTextView",
      "continuous_update": false,
      "description": "Number of workflows:",
      "description_tooltip": null,
      "disabled": false,
      "layout": "IPY_MODEL_534f2d8cdced465391b593e86680ea47",
      "step": 1,
      "style": "IPY_MODEL_176a41815eb041d289ee67ff15501019",
      "value": 1
     }
    },
    "a3d4212aaa7c472d810ea04cd08c17a7": {
     "model_module": "@jupyter-widgets/controls",
     "model_module_version": "1.5.0",
     "model_name": "DropdownModel",
     "state": {
      "_dom_classes": [],
      "_model_module": "@jupyter-widgets/controls",
      "_model_module_version": "1.5.0",
      "_model_name": "DropdownModel",
      "_options_labels": [
       "frame",
       "clip"
      ],
      "_view_count": null,
      "_view_module": "@jupyter-widgets/controls",
      "_view_module_version": "1.5.0",
      "_view_name": "DropdownView",
      "description": "Subject type: #0",
      "description_tooltip": null,
      "disabled": false,
      "index": 1,
      "layout": "IPY_MODEL_5c0fb51c6f734a39b5f0d01b2026a60e",
      "style": "IPY_MODEL_3b7ca0b44d0c4aa7a6e9159a430b7d2f"
     }
    },
    "a4ad591f1df946ba9180de7a0e25f79f": {
     "model_module": "@jupyter-widgets/controls",
     "model_module_version": "1.5.0",
     "model_name": "DescriptionStyleModel",
     "state": {
      "_model_module": "@jupyter-widgets/controls",
      "_model_module_version": "1.5.0",
      "_model_name": "DescriptionStyleModel",
      "_view_count": null,
      "_view_module": "@jupyter-widgets/base",
      "_view_module_version": "1.2.0",
      "_view_name": "StyleView",
      "description_width": "initial"
     }
    },
    "aa9ce20d3b43468f8a7a18ba448892dd": {
     "model_module": "@jupyter-widgets/controls",
     "model_module_version": "1.5.0",
     "model_name": "DropdownModel",
     "state": {
      "_dom_classes": [],
      "_model_module": "@jupyter-widgets/controls",
      "_model_module_version": "1.5.0",
      "_model_name": "DropdownModel",
      "_options_labels": [
       "1.0",
       "2.0"
      ],
      "_view_count": null,
      "_view_module": "@jupyter-widgets/controls",
      "_view_module_version": "1.5.0",
      "_view_name": "DropdownView",
      "description": "Minimum workflow version: #0",
      "description_tooltip": null,
      "disabled": false,
      "index": 0,
      "layout": "IPY_MODEL_b02127290a8a41eb897252523324d266",
      "style": "IPY_MODEL_25d67e0d05d641dd96322293627b725b"
     }
    },
    "ae2072d9565540f1b1163537f514cb12": {
     "model_module": "@jupyter-widgets/controls",
     "model_module_version": "1.5.0",
     "model_name": "FloatSliderModel",
     "state": {
      "_dom_classes": [],
      "_model_module": "@jupyter-widgets/controls",
      "_model_module_version": "1.5.0",
      "_model_name": "FloatSliderModel",
      "_view_count": null,
      "_view_module": "@jupyter-widgets/controls",
      "_view_module_version": "1.5.0",
      "_view_name": "FloatSliderView",
      "continuous_update": false,
      "description": "Aggregation threshold:",
      "description_tooltip": null,
      "disabled": false,
      "layout": "IPY_MODEL_b06aa2e05b404e718fc5fa3996e7fcdc",
      "max": 1,
      "min": 0,
      "orientation": "horizontal",
      "readout": true,
      "readout_format": ".1f",
      "step": 0.1,
      "style": "IPY_MODEL_73cb0288c8514d45b5de63682384566a",
      "value": 0.8
     }
    },
    "aee3433f7f6e47c2ac9ddfcf49416d1c": {
     "model_module": "@jupyter-widgets/controls",
     "model_module_version": "1.5.0",
     "model_name": "DescriptionStyleModel",
     "state": {
      "_model_module": "@jupyter-widgets/controls",
      "_model_module_version": "1.5.0",
      "_model_name": "DescriptionStyleModel",
      "_view_count": null,
      "_view_module": "@jupyter-widgets/base",
      "_view_module_version": "1.2.0",
      "_view_name": "StyleView",
      "description_width": "initial"
     }
    },
    "b02127290a8a41eb897252523324d266": {
     "model_module": "@jupyter-widgets/base",
     "model_module_version": "1.2.0",
     "model_name": "LayoutModel",
     "state": {
      "_model_module": "@jupyter-widgets/base",
      "_model_module_version": "1.2.0",
      "_model_name": "LayoutModel",
      "_view_count": null,
      "_view_module": "@jupyter-widgets/base",
      "_view_module_version": "1.2.0",
      "_view_name": "LayoutView",
      "align_content": null,
      "align_items": null,
      "align_self": null,
      "border": null,
      "bottom": null,
      "display": null,
      "flex": null,
      "flex_flow": null,
      "grid_area": null,
      "grid_auto_columns": null,
      "grid_auto_flow": null,
      "grid_auto_rows": null,
      "grid_column": null,
      "grid_gap": null,
      "grid_row": null,
      "grid_template_areas": null,
      "grid_template_columns": null,
      "grid_template_rows": null,
      "height": null,
      "justify_content": null,
      "justify_items": null,
      "left": null,
      "margin": null,
      "max_height": null,
      "max_width": null,
      "min_height": null,
      "min_width": null,
      "object_fit": null,
      "object_position": null,
      "order": null,
      "overflow": null,
      "overflow_x": null,
      "overflow_y": null,
      "padding": null,
      "right": null,
      "top": null,
      "visibility": null,
      "width": null
     }
    },
    "b06aa2e05b404e718fc5fa3996e7fcdc": {
     "model_module": "@jupyter-widgets/base",
     "model_module_version": "1.2.0",
     "model_name": "LayoutModel",
     "state": {
      "_model_module": "@jupyter-widgets/base",
      "_model_module_version": "1.2.0",
      "_model_name": "LayoutModel",
      "_view_count": null,
      "_view_module": "@jupyter-widgets/base",
      "_view_module_version": "1.2.0",
      "_view_name": "LayoutView",
      "align_content": null,
      "align_items": null,
      "align_self": null,
      "border": null,
      "bottom": null,
      "display": null,
      "flex": null,
      "flex_flow": null,
      "grid_area": null,
      "grid_auto_columns": null,
      "grid_auto_flow": null,
      "grid_auto_rows": null,
      "grid_column": null,
      "grid_gap": null,
      "grid_row": null,
      "grid_template_areas": null,
      "grid_template_columns": null,
      "grid_template_rows": null,
      "height": null,
      "justify_content": null,
      "justify_items": null,
      "left": null,
      "margin": null,
      "max_height": null,
      "max_width": null,
      "min_height": null,
      "min_width": null,
      "object_fit": null,
      "object_position": null,
      "order": null,
      "overflow": null,
      "overflow_x": null,
      "overflow_y": null,
      "padding": null,
      "right": null,
      "top": null,
      "visibility": null,
      "width": null
     }
    },
    "b8b17c3045d74bcca2375c969511cc6b": {
     "model_module": "@jupyter-widgets/base",
     "model_module_version": "1.2.0",
     "model_name": "LayoutModel",
     "state": {
      "_model_module": "@jupyter-widgets/base",
      "_model_module_version": "1.2.0",
      "_model_name": "LayoutModel",
      "_view_count": null,
      "_view_module": "@jupyter-widgets/base",
      "_view_module_version": "1.2.0",
      "_view_name": "LayoutView",
      "align_content": null,
      "align_items": null,
      "align_self": null,
      "border": null,
      "bottom": null,
      "display": null,
      "flex": null,
      "flex_flow": null,
      "grid_area": null,
      "grid_auto_columns": null,
      "grid_auto_flow": null,
      "grid_auto_rows": null,
      "grid_column": null,
      "grid_gap": null,
      "grid_row": null,
      "grid_template_areas": null,
      "grid_template_columns": null,
      "grid_template_rows": null,
      "height": null,
      "justify_content": null,
      "justify_items": null,
      "left": null,
      "margin": null,
      "max_height": null,
      "max_width": null,
      "min_height": null,
      "min_width": null,
      "object_fit": null,
      "object_position": null,
      "order": null,
      "overflow": null,
      "overflow_x": null,
      "overflow_y": null,
      "padding": null,
      "right": null,
      "top": null,
      "visibility": null,
      "width": null
     }
    },
    "ba9b290dbbe4424d8018d25ba8e8fb1a": {
     "model_module": "@jupyter-widgets/base",
     "model_module_version": "1.2.0",
     "model_name": "LayoutModel",
     "state": {
      "_model_module": "@jupyter-widgets/base",
      "_model_module_version": "1.2.0",
      "_model_name": "LayoutModel",
      "_view_count": null,
      "_view_module": "@jupyter-widgets/base",
      "_view_module_version": "1.2.0",
      "_view_name": "LayoutView",
      "align_content": null,
      "align_items": null,
      "align_self": null,
      "border": null,
      "bottom": null,
      "display": "inline-flex",
      "flex": null,
      "flex_flow": "row wrap",
      "grid_area": null,
      "grid_auto_columns": null,
      "grid_auto_flow": null,
      "grid_auto_rows": null,
      "grid_column": null,
      "grid_gap": null,
      "grid_row": null,
      "grid_template_areas": null,
      "grid_template_columns": null,
      "grid_template_rows": null,
      "height": null,
      "justify_content": null,
      "justify_items": null,
      "left": null,
      "margin": null,
      "max_height": null,
      "max_width": null,
      "min_height": null,
      "min_width": null,
      "object_fit": null,
      "object_position": null,
      "order": null,
      "overflow": null,
      "overflow_x": null,
      "overflow_y": null,
      "padding": null,
      "right": null,
      "top": null,
      "visibility": null,
      "width": "100%"
     }
    },
    "c85e4387124947c984755bc3c944b17d": {
     "model_module": "@jupyter-widgets/output",
     "model_module_version": "1.0.0",
     "model_name": "OutputModel",
     "state": {
      "_dom_classes": [],
      "_model_module": "@jupyter-widgets/output",
      "_model_module_version": "1.0.0",
      "_model_name": "OutputModel",
      "_view_count": null,
      "_view_module": "@jupyter-widgets/output",
      "_view_module_version": "1.0.0",
      "_view_name": "OutputView",
      "layout": "IPY_MODEL_1a3f46a31fd84bb898194ec4cb59555e",
      "msg_id": "",
      "outputs": []
     }
    },
    "e774a378fa8048b4b6e0dcdecf04e1e7": {
     "model_module": "@jupyter-widgets/controls",
     "model_module_version": "1.5.0",
     "model_name": "SliderStyleModel",
     "state": {
      "_model_module": "@jupyter-widgets/controls",
      "_model_module_version": "1.5.0",
      "_model_name": "SliderStyleModel",
      "_view_count": null,
      "_view_module": "@jupyter-widgets/base",
      "_view_module_version": "1.2.0",
      "_view_name": "StyleView",
      "description_width": "initial",
      "handle_color": null
     }
    },
    "f5dea455217d4e36a8b5862d405e918f": {
     "model_module": "@jupyter-widgets/controls",
     "model_module_version": "1.5.0",
     "model_name": "IntSliderModel",
     "state": {
      "_dom_classes": [],
      "_model_module": "@jupyter-widgets/controls",
      "_model_module_version": "1.5.0",
      "_model_name": "IntSliderModel",
      "_view_count": null,
      "_view_module": "@jupyter-widgets/controls",
      "_view_module_version": "1.5.0",
      "_view_name": "IntSliderView",
      "continuous_update": false,
      "description": "Min numbers of users:",
      "description_tooltip": null,
      "disabled": false,
      "layout": "IPY_MODEL_183dd76f654242dc9246db0a461ff8da",
      "max": 15,
      "min": 1,
      "orientation": "horizontal",
      "readout": true,
      "readout_format": "d",
      "step": 1,
      "style": "IPY_MODEL_e774a378fa8048b4b6e0dcdecf04e1e7",
      "value": 1
     }
    }
   }
  }
 },
 "nbformat": 4,
 "nbformat_minor": 5
}
